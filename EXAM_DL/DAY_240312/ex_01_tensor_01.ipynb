{
 "cells": [
  {
   "cell_type": "markdown",
   "metadata": {},
   "source": [
    "### 텐서(Tensor) 살펴보기\n",
    "- PyTorch에서 데이터 저장 자료형\n",
    "- 모델 입력(input), 출력(output) 데이터 형태"
   ]
  },
  {
   "cell_type": "markdown",
   "metadata": {},
   "source": [
    "(1) 모듈 로딩"
   ]
  },
  {
   "cell_type": "code",
   "execution_count": 1,
   "metadata": {
    "ExecuteTime": {
     "end_time": "2024-03-13T08:42:35.569809800Z",
     "start_time": "2024-03-13T08:42:34.238604Z"
    }
   },
   "outputs": [],
   "source": [
    "import torch"
   ]
  },
  {
   "cell_type": "markdown",
   "metadata": {},
   "source": [
    "* Tensor 속성 관련 함수"
   ]
  },
  {
   "cell_type": "code",
   "execution_count": 2,
   "metadata": {
    "collapsed": false,
    "ExecuteTime": {
     "end_time": "2024-03-13T08:42:35.597792900Z",
     "start_time": "2024-03-13T08:42:35.573809Z"
    }
   },
   "outputs": [
    {
     "data": {
      "text/plain": "'2.2.0'"
     },
     "execution_count": 2,
     "metadata": {},
     "output_type": "execute_result"
    }
   ],
   "source": [
    "torch.__version__"
   ]
  },
  {
   "cell_type": "code",
   "execution_count": 3,
   "metadata": {
    "ExecuteTime": {
     "end_time": "2024-03-13T08:42:35.613794500Z",
     "start_time": "2024-03-13T08:42:35.588783100Z"
    }
   },
   "outputs": [],
   "source": [
    "# 매개변수 : 텐서 인스턴스, 텐서 변수명\n",
    "def printTensor(tensor, name):\n",
    "    print(f'[Tensor {name}\\'s Attribute]')\n",
    "    print(f'- tensor.shape : {tensor.shape}')\n",
    "    print(f'- tensor.ndim : {tensor.ndim}D')\n",
    "    print(f'- tensor.dtype : {tensor.dtype}')\n",
    "    print(f'- tensor.device : {tensor.device}')\n",
    "    print(f'- tensor.requires_grad : {tensor.requires_grad}')\n",
    "    print(f'- tensor.data \\n{tensor.data}')"
   ]
  },
  {
   "cell_type": "markdown",
   "metadata": {},
   "source": [
    "- Tensor 생성 (1) 특정 데이터 타입의 텐서 생성\n",
    "    - 타입별 텐서 클래스 생성자 활용\n",
    "    - 예) IntTensor(), FloatTensor(), BoolTensor()"
   ]
  },
  {
   "cell_type": "code",
   "execution_count": 4,
   "metadata": {
    "ExecuteTime": {
     "end_time": "2024-03-13T08:42:35.632199600Z",
     "start_time": "2024-03-13T08:42:35.604786700Z"
    }
   },
   "outputs": [],
   "source": [
    "# 정수 타입 텐서 생성\n",
    "t1 = torch.IntTensor(10)                # 1차원 (길이 10) 생성\n",
    "t2 = torch.IntTensor([10, 20])          # 1차원 (길이  2) 생성\n",
    "t3 = torch.BoolTensor([1, 2, 0, -1])    # 1차원 (길이  4) 생성\n",
    "t4 = torch.FloatTensor([10, 20])        # 1차원 (길이  2) 생성"
   ]
  },
  {
   "cell_type": "code",
   "execution_count": 5,
   "metadata": {
    "ExecuteTime": {
     "end_time": "2024-03-13T08:42:35.651200Z",
     "start_time": "2024-03-13T08:42:35.621200100Z"
    }
   },
   "outputs": [
    {
     "name": "stdout",
     "output_type": "stream",
     "text": [
      "[Tensor t1's Attribute]\n",
      "- tensor.shape : torch.Size([10])\n",
      "- tensor.ndim : 1D\n",
      "- tensor.dtype : torch.int32\n",
      "- tensor.device : cpu\n",
      "- tensor.requires_grad : False\n",
      "- tensor.data \n",
      "tensor([-905965200,       1532,          0,          0,          0,          0,\n",
      "                 0,          0,          0,          0], dtype=torch.int32)\n"
     ]
    }
   ],
   "source": [
    "printTensor(t1, 't1')"
   ]
  },
  {
   "cell_type": "code",
   "execution_count": 6,
   "metadata": {
    "ExecuteTime": {
     "end_time": "2024-03-13T08:42:35.653200Z",
     "start_time": "2024-03-13T08:42:35.635200500Z"
    }
   },
   "outputs": [
    {
     "name": "stdout",
     "output_type": "stream",
     "text": [
      "[Tensor t2's Attribute]\n",
      "- tensor.shape : torch.Size([2])\n",
      "- tensor.ndim : 1D\n",
      "- tensor.dtype : torch.int32\n",
      "- tensor.device : cpu\n",
      "- tensor.requires_grad : False\n",
      "- tensor.data \n",
      "tensor([10, 20], dtype=torch.int32)\n"
     ]
    }
   ],
   "source": [
    "printTensor(t2, 't2')"
   ]
  },
  {
   "cell_type": "code",
   "execution_count": 7,
   "metadata": {
    "ExecuteTime": {
     "end_time": "2024-03-13T08:42:35.690208800Z",
     "start_time": "2024-03-13T08:42:35.651200Z"
    }
   },
   "outputs": [
    {
     "name": "stdout",
     "output_type": "stream",
     "text": [
      "[Tensor t3's Attribute]\n",
      "- tensor.shape : torch.Size([4])\n",
      "- tensor.ndim : 1D\n",
      "- tensor.dtype : torch.bool\n",
      "- tensor.device : cpu\n",
      "- tensor.requires_grad : False\n",
      "- tensor.data \n",
      "tensor([ True,  True, False,  True])\n"
     ]
    }
   ],
   "source": [
    "printTensor(t3, 't3')"
   ]
  },
  {
   "cell_type": "code",
   "execution_count": 8,
   "metadata": {
    "collapsed": false,
    "ExecuteTime": {
     "end_time": "2024-03-13T08:42:35.692213Z",
     "start_time": "2024-03-13T08:42:35.667199300Z"
    }
   },
   "outputs": [
    {
     "name": "stdout",
     "output_type": "stream",
     "text": [
      "[Tensor t4's Attribute]\n",
      "- tensor.shape : torch.Size([2])\n",
      "- tensor.ndim : 1D\n",
      "- tensor.dtype : torch.float32\n",
      "- tensor.device : cpu\n",
      "- tensor.requires_grad : False\n",
      "- tensor.data \n",
      "tensor([10., 20.])\n"
     ]
    }
   ],
   "source": [
    "printTensor(t4, 't4')"
   ]
  },
  {
   "cell_type": "markdown",
   "metadata": {
    "collapsed": false
   },
   "source": [
    "- Tensor 생성 (2) 원하는 값으로 텐서 생성 => torch.tensor()"
   ]
  },
  {
   "cell_type": "code",
   "execution_count": 9,
   "metadata": {
    "ExecuteTime": {
     "end_time": "2024-03-13T08:42:35.712203400Z",
     "start_time": "2024-03-13T08:42:35.683199500Z"
    }
   },
   "outputs": [
    {
     "name": "stdout",
     "output_type": "stream",
     "text": [
      "[Tensor t1's Attribute]\n",
      "- tensor.shape : torch.Size([])\n",
      "- tensor.ndim : 0D\n",
      "- tensor.dtype : torch.int64\n",
      "- tensor.device : cpu\n",
      "- tensor.requires_grad : False\n",
      "- tensor.data \n",
      "10\n"
     ]
    }
   ],
   "source": [
    "t1 = torch.tensor(10)       # scalar 데이터, int64\n",
    "printTensor(t1, 't1')"
   ]
  },
  {
   "cell_type": "code",
   "execution_count": 10,
   "metadata": {
    "ExecuteTime": {
     "end_time": "2024-03-13T08:42:35.760056700Z",
     "start_time": "2024-03-13T08:42:35.700199100Z"
    }
   },
   "outputs": [
    {
     "name": "stdout",
     "output_type": "stream",
     "text": [
      "[Tensor t1's Attribute]\n",
      "- tensor.shape : torch.Size([])\n",
      "- tensor.ndim : 0D\n",
      "- tensor.dtype : torch.float32\n",
      "- tensor.device : cpu\n",
      "- tensor.requires_grad : False\n",
      "- tensor.data \n",
      "10.0\n"
     ]
    }
   ],
   "source": [
    "t1 = torch.tensor(10.)  # scalar 데이터, float32\n",
    "printTensor(t1, 't1')"
   ]
  },
  {
   "cell_type": "code",
   "execution_count": 11,
   "metadata": {
    "ExecuteTime": {
     "end_time": "2024-03-13T08:42:35.763057600Z",
     "start_time": "2024-03-13T08:42:35.715202800Z"
    }
   },
   "outputs": [
    {
     "name": "stdout",
     "output_type": "stream",
     "text": [
      "[Tensor t1's Attribute]\n",
      "- tensor.shape : torch.Size([])\n",
      "- tensor.ndim : 0D\n",
      "- tensor.dtype : torch.int32\n",
      "- tensor.device : cpu\n",
      "- tensor.requires_grad : False\n",
      "- tensor.data \n",
      "10\n"
     ]
    },
    {
     "name": "stderr",
     "output_type": "stream",
     "text": [
      "C:\\Users\\kdp\\AppData\\Local\\Temp\\ipykernel_30148\\411252444.py:1: DeprecationWarning: an integer is required (got type float).  Implicit conversion to integers using __int__ is deprecated, and may be removed in a future version of Python.\n",
      "  t1 = torch.tensor(10., dtype=torch.int32)   # scalar 데이터, int32\n"
     ]
    }
   ],
   "source": [
    "t1 = torch.tensor(10., dtype=torch.int32)   # scalar 데이터, int32\n",
    "printTensor(t1, 't1')"
   ]
  },
  {
   "cell_type": "code",
   "execution_count": 12,
   "metadata": {
    "ExecuteTime": {
     "end_time": "2024-03-13T08:42:35.803074300Z",
     "start_time": "2024-03-13T08:42:35.730715Z"
    }
   },
   "outputs": [
    {
     "name": "stdout",
     "output_type": "stream",
     "text": [
      "[Tensor t1's Attribute]\n",
      "- tensor.shape : torch.Size([])\n",
      "- tensor.ndim : 0D\n",
      "- tensor.dtype : torch.bool\n",
      "- tensor.device : cpu\n",
      "- tensor.requires_grad : False\n",
      "- tensor.data \n",
      "True\n"
     ]
    }
   ],
   "source": [
    "t1 = torch.tensor(10., dtype=torch.bool)    # scalar 데이터, bool\n",
    "printTensor(t1, 't1')"
   ]
  },
  {
   "cell_type": "code",
   "execution_count": 13,
   "metadata": {
    "ExecuteTime": {
     "end_time": "2024-03-13T08:42:35.804083900Z",
     "start_time": "2024-03-13T08:42:35.745714900Z"
    }
   },
   "outputs": [
    {
     "name": "stdout",
     "output_type": "stream",
     "text": [
      "[Tensor t1's Attribute]\n",
      "- tensor.shape : torch.Size([3])\n",
      "- tensor.ndim : 1D\n",
      "- tensor.dtype : torch.int8\n",
      "- tensor.device : cpu\n",
      "- tensor.requires_grad : False\n",
      "- tensor.data \n",
      "tensor([1, 2, 3], dtype=torch.int8)\n"
     ]
    }
   ],
   "source": [
    "t1 = torch.tensor([1, 2, 3], dtype=torch.int8)  # 1D 데이터\n",
    "printTensor(t1, 't1')"
   ]
  },
  {
   "cell_type": "markdown",
   "metadata": {},
   "source": [
    "- Tensor 생성 (3) 특정 값으로 채운 텐서 => 0, 1 등의 값"
   ]
  },
  {
   "cell_type": "code",
   "execution_count": 14,
   "metadata": {
    "ExecuteTime": {
     "end_time": "2024-03-13T08:42:35.808074500Z",
     "start_time": "2024-03-13T08:42:35.761058Z"
    }
   },
   "outputs": [
    {
     "name": "stdout",
     "output_type": "stream",
     "text": [
      "[Tensor t1's Attribute]\n",
      "- tensor.shape : torch.Size([5])\n",
      "- tensor.ndim : 1D\n",
      "- tensor.dtype : torch.int8\n",
      "- tensor.device : cpu\n",
      "- tensor.requires_grad : False\n",
      "- tensor.data \n",
      "tensor([0, 0, 0, 0, 0], dtype=torch.int8)\n"
     ]
    }
   ],
   "source": [
    "# 0으로 채운 텐서\n",
    "t1 = torch.zeros(5, dtype=torch.int8)       # 1D 데이터\n",
    "printTensor(t1, 't1')"
   ]
  },
  {
   "cell_type": "code",
   "execution_count": 15,
   "metadata": {
    "ExecuteTime": {
     "end_time": "2024-03-13T08:42:35.824611700Z",
     "start_time": "2024-03-13T08:42:35.780058Z"
    }
   },
   "outputs": [
    {
     "name": "stdout",
     "output_type": "stream",
     "text": [
      "[Tensor t1's Attribute]\n",
      "- tensor.shape : torch.Size([5, 5])\n",
      "- tensor.ndim : 2D\n",
      "- tensor.dtype : torch.int8\n",
      "- tensor.device : cpu\n",
      "- tensor.requires_grad : False\n",
      "- tensor.data \n",
      "tensor([[0, 0, 0, 0, 0],\n",
      "        [0, 0, 0, 0, 0],\n",
      "        [0, 0, 0, 0, 0],\n",
      "        [0, 0, 0, 0, 0],\n",
      "        [0, 0, 0, 0, 0]], dtype=torch.int8)\n"
     ]
    }
   ],
   "source": [
    "# 0으로 채운 텐서\n",
    "t1 = torch.zeros((5, 5), dtype=torch.int8)  # 2D 데이터\n",
    "printTensor(t1, 't1')"
   ]
  },
  {
   "cell_type": "code",
   "execution_count": 16,
   "metadata": {
    "ExecuteTime": {
     "end_time": "2024-03-13T08:42:35.876630600Z",
     "start_time": "2024-03-13T08:42:35.793057600Z"
    }
   },
   "outputs": [
    {
     "name": "stdout",
     "output_type": "stream",
     "text": [
      "[Tensor t1's Attribute]\n",
      "- tensor.shape : torch.Size([5, 5])\n",
      "- tensor.ndim : 2D\n",
      "- tensor.dtype : torch.int8\n",
      "- tensor.device : cpu\n",
      "- tensor.requires_grad : False\n",
      "- tensor.data \n",
      "tensor([[1, 1, 1, 1, 1],\n",
      "        [1, 1, 1, 1, 1],\n",
      "        [1, 1, 1, 1, 1],\n",
      "        [1, 1, 1, 1, 1],\n",
      "        [1, 1, 1, 1, 1]], dtype=torch.int8)\n"
     ]
    }
   ],
   "source": [
    "# 1으로 채운 텐서\n",
    "t1 = torch.ones((5, 5), dtype=torch.int8)   # 2D 데이터\n",
    "printTensor(t1, 't1')"
   ]
  },
  {
   "cell_type": "code",
   "execution_count": 17,
   "metadata": {
    "ExecuteTime": {
     "end_time": "2024-03-13T08:42:35.878625400Z",
     "start_time": "2024-03-13T08:42:35.810075100Z"
    }
   },
   "outputs": [
    {
     "name": "stdout",
     "output_type": "stream",
     "text": [
      "torch.Size([2, 6])\n"
     ]
    }
   ],
   "source": [
    "# 이미 존재하는 텐서와 동일한 shape으로 잡고 값 채우기 => zeros_like(), ones_like()\n",
    "imgT = torch.tensor([[2, 3, 4, 5, 6, 7], [2, 3, 4, 5, 6, 7]])\n",
    "print(imgT.shape)"
   ]
  },
  {
   "cell_type": "code",
   "execution_count": 18,
   "metadata": {
    "ExecuteTime": {
     "end_time": "2024-03-13T08:42:35.880624300Z",
     "start_time": "2024-03-13T08:42:35.827612100Z"
    }
   },
   "outputs": [
    {
     "name": "stdout",
     "output_type": "stream",
     "text": [
      "tensor([[0, 0, 0, 0, 0, 0],\n",
      "        [0, 0, 0, 0, 0, 0]])\n"
     ]
    }
   ],
   "source": [
    "zero_img = torch.zeros_like(imgT)\n",
    "print(zero_img)"
   ]
  },
  {
   "cell_type": "code",
   "execution_count": 19,
   "metadata": {
    "ExecuteTime": {
     "end_time": "2024-03-13T08:42:35.896621400Z",
     "start_time": "2024-03-13T08:42:35.840612200Z"
    }
   },
   "outputs": [
    {
     "name": "stdout",
     "output_type": "stream",
     "text": [
      "tensor([[1, 1, 1, 1, 1, 1],\n",
      "        [1, 1, 1, 1, 1, 1]])\n"
     ]
    }
   ],
   "source": [
    "one_img = torch.ones_like(imgT)\n",
    "print(one_img)"
   ]
  },
  {
   "cell_type": "code",
   "execution_count": 20,
   "metadata": {
    "ExecuteTime": {
     "end_time": "2024-03-13T08:42:35.947850600Z",
     "start_time": "2024-03-13T08:42:35.857612200Z"
    }
   },
   "outputs": [
    {
     "name": "stdout",
     "output_type": "stream",
     "text": [
      "tensor([[2, 2, 2, 2, 2, 2],\n",
      "        [2, 2, 2, 2, 2, 2]])\n"
     ]
    }
   ],
   "source": [
    "full_img = torch.full_like(imgT, 2)\n",
    "print(full_img)"
   ]
  },
  {
   "cell_type": "code",
   "execution_count": 21,
   "metadata": {
    "ExecuteTime": {
     "end_time": "2024-03-13T08:42:35.951849900Z",
     "start_time": "2024-03-13T08:42:35.872613700Z"
    }
   },
   "outputs": [
    {
     "name": "stdout",
     "output_type": "stream",
     "text": [
      "tensor([[1., 0., 0.],\n",
      "        [0., 1., 0.],\n",
      "        [0., 0., 1.]])\n"
     ]
    }
   ],
   "source": [
    "# 대각선 방향으로 1 채우기 => eye()\n",
    "t1 = torch.eye(3)\n",
    "print(t1)"
   ]
  },
  {
   "cell_type": "markdown",
   "metadata": {},
   "source": [
    "- Tensor 생성 (4) 랜덤하게 값 생성"
   ]
  },
  {
   "cell_type": "code",
   "execution_count": 22,
   "metadata": {
    "ExecuteTime": {
     "end_time": "2024-03-13T08:42:35.967850400Z",
     "start_time": "2024-03-13T08:42:35.888614100Z"
    }
   },
   "outputs": [],
   "source": [
    "torch.manual_seed(12)   # 랜덤 초기값 생성\n",
    "t5 = torch.rand(2, 3)   # [0, 1) 범위 안에서 랜덤 생성\n",
    "t6 = torch.randn(2, 3)  # standard normal 분포에서 랜덤 생성\n",
    "t7 = torch.randint(low=1, high=10, size=(2,3))  # [low, high)"
   ]
  },
  {
   "cell_type": "code",
   "execution_count": 23,
   "metadata": {
    "ExecuteTime": {
     "end_time": "2024-03-13T08:42:35.969859500Z",
     "start_time": "2024-03-13T08:42:35.903616Z"
    }
   },
   "outputs": [
    {
     "name": "stdout",
     "output_type": "stream",
     "text": [
      "tensor([[0.4657, 0.2328, 0.4527],\n",
      "        [0.5871, 0.4086, 0.1272]])\n",
      "tensor([[ 1.5869,  1.1268, -1.2274],\n",
      "        [-0.8216, -1.7861,  0.6167]])\n",
      "tensor([[8, 4, 6],\n",
      "        [2, 2, 2]])\n"
     ]
    }
   ],
   "source": [
    "print(t5)\n",
    "print(t6)\n",
    "print(t7)"
   ]
  },
  {
   "cell_type": "markdown",
   "metadata": {},
   "source": [
    "- Tensor 생성 (5) ndarray 객체로 생성"
   ]
  },
  {
   "cell_type": "code",
   "execution_count": 24,
   "metadata": {
    "ExecuteTime": {
     "end_time": "2024-03-13T08:42:36.014877Z",
     "start_time": "2024-03-13T08:42:35.918849600Z"
    }
   },
   "outputs": [
    {
     "name": "stdout",
     "output_type": "stream",
     "text": [
      "[11 22 33] <class 'numpy.ndarray'>\n"
     ]
    }
   ],
   "source": [
    "# 데이터 생성\n",
    "import numpy as np\n",
    "\n",
    "data = np.array([11, 22, 33])\n",
    "print(data, type(data))"
   ]
  },
  {
   "cell_type": "code",
   "execution_count": 25,
   "metadata": {
    "ExecuteTime": {
     "end_time": "2024-03-13T08:42:36.015866800Z",
     "start_time": "2024-03-13T08:42:35.932849700Z"
    }
   },
   "outputs": [
    {
     "name": "stdout",
     "output_type": "stream",
     "text": [
      "tensor([11, 22, 33], dtype=torch.int32)\n"
     ]
    }
   ],
   "source": [
    "t1 = torch.from_numpy(data)\n",
    "print(t1)"
   ]
  },
  {
   "cell_type": "code",
   "execution_count": 26,
   "metadata": {
    "ExecuteTime": {
     "end_time": "2024-03-13T08:42:36.019068100Z",
     "start_time": "2024-03-13T08:42:35.949849300Z"
    }
   },
   "outputs": [
    {
     "name": "stdout",
     "output_type": "stream",
     "text": [
      "tensor([11, 22, 33], dtype=torch.int32)\n"
     ]
    }
   ],
   "source": [
    "t2 = torch.as_tensor(data)\n",
    "print(t2)"
   ]
  },
  {
   "cell_type": "code",
   "execution_count": 27,
   "metadata": {
    "ExecuteTime": {
     "end_time": "2024-03-13T08:42:36.041057700Z",
     "start_time": "2024-03-13T08:42:35.964849300Z"
    }
   },
   "outputs": [
    {
     "name": "stdout",
     "output_type": "stream",
     "text": [
      "tensor([11, 22, 33], dtype=torch.int32)\n"
     ]
    }
   ],
   "source": [
    "t3 = torch.tensor(data)\n",
    "print(t3)"
   ]
  },
  {
   "cell_type": "code",
   "execution_count": 28,
   "metadata": {
    "ExecuteTime": {
     "end_time": "2024-03-13T08:42:36.042058200Z",
     "start_time": "2024-03-13T08:42:35.981849400Z"
    }
   },
   "outputs": [],
   "source": [
    "# ndarray 원소 변경\n",
    "data[0] = 100"
   ]
  },
  {
   "cell_type": "code",
   "execution_count": 29,
   "metadata": {
    "ExecuteTime": {
     "end_time": "2024-03-13T08:42:36.083057300Z",
     "start_time": "2024-03-13T08:42:35.996850300Z"
    }
   },
   "outputs": [
    {
     "name": "stdout",
     "output_type": "stream",
     "text": [
      "[100  22  33]\n",
      "tensor([100,  22,  33], dtype=torch.int32)\n",
      "tensor([100,  22,  33], dtype=torch.int32)\n",
      "tensor([11, 22, 33], dtype=torch.int32)\n"
     ]
    }
   ],
   "source": [
    "# from_numpy(), as_tensor() => 데이터 공유\n",
    "# tensor()                  => 복사본 생성\n",
    "print(data, t1, t2, t3, sep='\\n')"
   ]
  },
  {
   "cell_type": "code",
   "execution_count": 29,
   "metadata": {
    "ExecuteTime": {
     "end_time": "2024-03-13T08:42:36.087057200Z",
     "start_time": "2024-03-13T08:42:36.011868600Z"
    }
   },
   "outputs": [],
   "source": []
  }
 ],
 "metadata": {
  "kernelspec": {
   "display_name": "Torch_PY38",
   "language": "python",
   "name": "python3"
  },
  "language_info": {
   "codemirror_mode": {
    "name": "ipython",
    "version": 3
   },
   "file_extension": ".py",
   "mimetype": "text/x-python",
   "name": "python",
   "nbconvert_exporter": "python",
   "pygments_lexer": "ipython3",
   "version": "3.8.18"
  }
 },
 "nbformat": 4,
 "nbformat_minor": 2
}
