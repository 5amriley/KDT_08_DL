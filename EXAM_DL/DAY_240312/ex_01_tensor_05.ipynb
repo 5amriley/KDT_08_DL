{
 "cells": [
  {
   "cell_type": "markdown",
   "metadata": {},
   "source": [
    "### 텐서 연결 & 결합"
   ]
  },
  {
   "cell_type": "code",
   "execution_count": 1,
   "metadata": {},
   "outputs": [],
   "source": [
    "import torch"
   ]
  },
  {
   "cell_type": "code",
   "execution_count": 16,
   "metadata": {},
   "outputs": [],
   "source": [
    "# 텐서 데이터 생성\n",
    "torch.manual_seed(12)\n",
    "\n",
    "# 임의의 [0, 1) 실수\n",
    "x = torch.rand(2, 10)\n",
    "\n",
    "# 임의의 정수 : [low, high)\n",
    "y = torch.randint(0, 2, (10,))\n",
    "y2 = torch.randint(0, 2, (2, 10))"
   ]
  },
  {
   "cell_type": "code",
   "execution_count": 17,
   "metadata": {},
   "outputs": [
    {
     "name": "stdout",
     "output_type": "stream",
     "text": [
      "x => torch.Size([2, 10]), 2D\n",
      "y => torch.Size([10]), 1D\n",
      "y2 => torch.Size([2, 10]), 2D\n"
     ]
    }
   ],
   "source": [
    "print(f'x => {x.shape}, {x.ndim}D')\n",
    "print(f'y => {y.shape}, {y.ndim}D')\n",
    "print(f'y2 => {y2.shape}, {y2.ndim}D')"
   ]
  },
  {
   "cell_type": "code",
   "execution_count": 29,
   "metadata": {},
   "outputs": [
    {
     "name": "stdout",
     "output_type": "stream",
     "text": [
      "torch.Size([4, 10])\n",
      "tensor([[0.4657, 0.2328, 0.4527, 0.5871, 0.4086, 0.1272, 0.6373, 0.2421, 0.7312,\n",
      "         0.7224],\n",
      "        [0.1992, 0.6948, 0.5830, 0.6318, 0.5559, 0.1262, 0.9790, 0.8443, 0.1256,\n",
      "         0.4456],\n",
      "        [1.0000, 1.0000, 0.0000, 1.0000, 1.0000, 0.0000, 0.0000, 0.0000, 0.0000,\n",
      "         0.0000],\n",
      "        [0.0000, 0.0000, 1.0000, 1.0000, 1.0000, 1.0000, 0.0000, 0.0000, 0.0000,\n",
      "         0.0000]])\n"
     ]
    }
   ],
   "source": [
    "# tensor 연결 cat([텐서1, 텐서2, ...])\n",
    "# xy1 = torch.cat([x, y], dim=1) ------> RuntimeError: Tensors must have same number of dimensions: got 2 and 1\n",
    "xy1 = torch.cat([x, y2], dim=0)     # dim=0 => 아래쪽으로 붙임 (행이 늘어남)\n",
    "print(xy1.shape)\n",
    "print(xy1)"
   ]
  },
  {
   "cell_type": "code",
   "execution_count": null,
   "metadata": {},
   "outputs": [],
   "source": [
    "xy2 = torch.cat([x, y2], dim=1)     # dim=1 => 오른쪽으로 붙임 (피처가 늘어남)\n",
    "print(xy2.shape)\n",
    "print(xy2)"
   ]
  },
  {
   "cell_type": "code",
   "execution_count": 35,
   "metadata": {},
   "outputs": [
    {
     "data": {
      "text/plain": [
       "(tensor([1.0000, 1.0000, 1.0000, 1.0000, 1.0000, 1.0000, 0.9790, 0.8443, 0.7312,\n",
       "         0.7224]),\n",
       " tensor([2, 2, 3, 2, 2, 3, 1, 1, 0, 0]))"
      ]
     },
     "execution_count": 35,
     "metadata": {},
     "output_type": "execute_result"
    }
   ],
   "source": [
    "# 열 단위로 최대값 및 최대값의 인덱스(몇 번째 행) 저장\n",
    "# 열 단위 => 한 열 안에서\n",
    "max_value = xy1.max(dim=0)[0]\n",
    "max_index = xy1.max(dim=0)[1]\n",
    "\n",
    "max_value, max_index"
   ]
  },
  {
   "cell_type": "code",
   "execution_count": 36,
   "metadata": {},
   "outputs": [
    {
     "data": {
      "text/plain": [
       "(tensor([0.7312, 0.9790, 1.0000, 1.0000]), tensor([8, 6, 0, 2]))"
      ]
     },
     "execution_count": 36,
     "metadata": {},
     "output_type": "execute_result"
    }
   ],
   "source": [
    "# 행 단위로 최대값 및 최대값의 인덱스(몇 번째 열) 저장\n",
    "# 행 단위 => 한 행 안에서\n",
    "max_value = xy1.max(dim=1)[0]\n",
    "max_index = xy1.max(dim=1)[1]\n",
    "\n",
    "max_value, max_index"
   ]
  },
  {
   "cell_type": "code",
   "execution_count": 45,
   "metadata": {},
   "outputs": [
    {
     "data": {
      "text/html": [
       "<div>\n",
       "<style scoped>\n",
       "    .dataframe tbody tr th:only-of-type {\n",
       "        vertical-align: middle;\n",
       "    }\n",
       "\n",
       "    .dataframe tbody tr th {\n",
       "        vertical-align: top;\n",
       "    }\n",
       "\n",
       "    .dataframe thead th {\n",
       "        text-align: right;\n",
       "    }\n",
       "</style>\n",
       "<table border=\"1\" class=\"dataframe\">\n",
       "  <thead>\n",
       "    <tr style=\"text-align: right;\">\n",
       "      <th></th>\n",
       "      <th>A</th>\n",
       "      <th>B</th>\n",
       "      <th>C</th>\n",
       "    </tr>\n",
       "  </thead>\n",
       "  <tbody>\n",
       "    <tr>\n",
       "      <th>0</th>\n",
       "      <td>10</td>\n",
       "      <td>20</td>\n",
       "      <td>30</td>\n",
       "    </tr>\n",
       "    <tr>\n",
       "      <th>1</th>\n",
       "      <td>20</td>\n",
       "      <td>22</td>\n",
       "      <td>33</td>\n",
       "    </tr>\n",
       "  </tbody>\n",
       "</table>\n",
       "</div>"
      ],
      "text/plain": [
       "    A   B   C\n",
       "0  10  20  30\n",
       "1  20  22  33"
      ]
     },
     "execution_count": 45,
     "metadata": {},
     "output_type": "execute_result"
    }
   ],
   "source": [
    "import pandas as pd\n",
    "\n",
    "data = pd.DataFrame({'A':[10, 20], 'B':[20, 22], 'C': [30, 33]})\n",
    "data"
   ]
  },
  {
   "cell_type": "code",
   "execution_count": 46,
   "metadata": {},
   "outputs": [
    {
     "data": {
      "text/plain": [
       "(A    20\n",
       " B    22\n",
       " C    33\n",
       " dtype: int64,\n",
       " A    20\n",
       " B    22\n",
       " C    33\n",
       " dtype: int64)"
      ]
     },
     "execution_count": 46,
     "metadata": {},
     "output_type": "execute_result"
    }
   ],
   "source": [
    "data.max(), data.max(axis=0)"
   ]
  },
  {
   "cell_type": "code",
   "execution_count": 47,
   "metadata": {},
   "outputs": [
    {
     "data": {
      "text/plain": [
       "0    30\n",
       "1    33\n",
       "dtype: int64"
      ]
     },
     "execution_count": 47,
     "metadata": {},
     "output_type": "execute_result"
    }
   ],
   "source": [
    "data.max(axis=1)"
   ]
  },
  {
   "cell_type": "markdown",
   "metadata": {},
   "source": [
    "### Tensor 차원 형태 변경"
   ]
  },
  {
   "cell_type": "code",
   "execution_count": 50,
   "metadata": {},
   "outputs": [
    {
     "name": "stdout",
     "output_type": "stream",
     "text": [
      "t1 => torch.Size([1, 3, 2]), 3D\n"
     ]
    }
   ],
   "source": [
    "t1 = torch.tensor([[[1, 2], [11, 22], [44, 55]]])\n",
    "print(f't1 => {t1.shape}, {t1.ndim}D')"
   ]
  },
  {
   "cell_type": "code",
   "execution_count": 55,
   "metadata": {},
   "outputs": [
    {
     "name": "stdout",
     "output_type": "stream",
     "text": [
      "t11 => torch.Size([2, 3, 1]), 3D\n"
     ]
    }
   ],
   "source": [
    "# 2개의 차원을 변경하는 메서드\n",
    "t11 = t1.transpose(0, 2)    # 0번째 차원과 2번째 차원을 맞바꿀래\n",
    "print(f't11 => {t11.shape}, {t11.ndim}D')"
   ]
  },
  {
   "cell_type": "code",
   "execution_count": 56,
   "metadata": {},
   "outputs": [
    {
     "name": "stdout",
     "output_type": "stream",
     "text": [
      "t22 => torch.Size([3, 2, 1]), 3D\n"
     ]
    }
   ],
   "source": [
    "# 모든 차원을 변경하는 메서드\n",
    "t22 = t1.permute(1, 2, 0)\n",
    "print(f't22 => {t22.shape}, {t22.ndim}D')"
   ]
  },
  {
   "cell_type": "code",
   "execution_count": 57,
   "metadata": {},
   "outputs": [
    {
     "name": "stdout",
     "output_type": "stream",
     "text": [
      "6266517129344, 6266517129344, 6266517129344\n"
     ]
    }
   ],
   "source": [
    "# 메타데이터 정보만 바뀌고, 실제 데이터가 저장된 메모리의 주소는 변경 X\n",
    "print(f'{t1.data_ptr()}, {t11.data_ptr()}, {t22.data_ptr()}')"
   ]
  },
  {
   "cell_type": "code",
   "execution_count": null,
   "metadata": {},
   "outputs": [],
   "source": []
  }
 ],
 "metadata": {
  "kernelspec": {
   "display_name": "Torch_PY38",
   "language": "python",
   "name": "python3"
  },
  "language_info": {
   "codemirror_mode": {
    "name": "ipython",
    "version": 3
   },
   "file_extension": ".py",
   "mimetype": "text/x-python",
   "name": "python",
   "nbconvert_exporter": "python",
   "pygments_lexer": "ipython3",
   "version": "3.8.18"
  }
 },
 "nbformat": 4,
 "nbformat_minor": 2
}
