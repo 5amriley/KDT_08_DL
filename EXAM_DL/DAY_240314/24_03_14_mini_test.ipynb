{
 "cells": [
  {
   "cell_type": "markdown",
   "metadata": {},
   "source": [
    "#### [ 미니 테스트  2024-03-14 ]<hr>"
   ]
  },
  {
   "cell_type": "markdown",
   "metadata": {},
   "source": [
    "[1] 지도학습에 대한 설명과 종류에 대해서 간략하게 설명해 주세요."
   ]
  },
  {
   "cell_type": "markdown",
   "source": [
    "지도학습이란, 학습 데이터(피처)와 그 각각의 데이터에 대응하는 답(라벨)을 학습시켜서 새로운 데이터를 넣었을 때 내가 제공한 답의 종류 중 가장 근접한 값을 도출하도록 하는 과정입니다."
   ],
   "metadata": {
    "collapsed": false
   }
  },
  {
   "cell_type": "markdown",
   "metadata": {},
   "source": [
    "[2] 지도학습의 학습 프로세스를 간략하게 설명해 주세요."
   ]
  },
  {
   "cell_type": "markdown",
   "source": [
    "데이터 전처리 - 모델 생성, 학습 - 모델 성능평가 - 예측 으로 구성되어 있습니다.\n",
    "데이터 전처리에는 중복치 제거, 이상치 제거, 스케일링 등이 해당하고,\n",
    "모델 생성, 학습과정에는 적절한 모델 선택, 훈련 데이터와 평가 데이터 분리 등이 해당합니다.\n",
    "모델 성능평가에서는 평가 데이터를 넣어서 예측값이 실제 답과 얼마나 비슷한지 여러 평가기준을 통해 분석합니다. 회귀모델일 경우 mse, r2-score가, 분류모델일 경우 precision, recall, f1-score가 평가기준에 해당합니다.\n",
    "예측 단계에서 완전히 새로운 값을 넣어 답을 예측하는 용도로 사용합니다."
   ],
   "metadata": {
    "collapsed": false
   }
  },
  {
   "cell_type": "markdown",
   "metadata": {},
   "source": [
    "[3] 선형회귀 대해 간략하게 설명해주세요.  \n",
    "    - 개념  \n",
    "    - 조건  \n",
    "    - 동작원리  \n",
    "    - 선형식  \n",
    "    - 오차/잔차 계산 방법  "
   ]
  },
  {
   "cell_type": "markdown",
   "metadata": {},
   "source": [
    " - 개념 : 각 피처에 해당하는 변수와 그 피처에 대응하는 가중치가 곱해져서 더해진 선형식을 구하는 것이 목표로, 학습 데이터와 그 선형식을 사용해 구한 예측값의 오차가 가장 적어지는 선형식을 구하는 작업입니다.\n",
    "- 조건 : 구하려는 답(결과값)이 연속형이어야 합니다. 왜냐하면 지금 도출하고자 하는 선형식은 결과값이 연속형에 대응하기 때문입니다.\n",
    "- 동작원리 : 어떤 가중치 값들과 절편값을 적용한 선형식으로 계산한 오차값의 추이를 분석해서, 가장 오차값이 빨리 줄어드는 방향으로 가중치 값들과 절편값을 조정하는 방식입니다.\n",
    "- 선형식 : 각 피처에 해당하는 변수와 그 피처에 대응하는 가중치가 곱해져서 더해진 식입니다.\n",
    "- 오차/잔차 계산 방법 : 학습 데이터셋이 있을 때, 그 중 어떤 학습 데이터의 x값을 모델이 갖고 있는 선형식에 대입해서 예측값 y'를 구합니다. 이 때, 그 학습 데이터의 실제 답 y도 주어지므로, (y - y')^2 값을 데이터셋에 있는 전체 학습 데이터로부터 계산하여 더하고, 그 값을 학습 데이터의 개수로 나눈 값을 MSE 라고 합니다. 그 MSE 값이 줄어드는 방향으로 선형 모델은 학습해 나갑니다."
   ]
  },
  {
   "cell_type": "markdown",
   "metadata": {},
   "source": [
    "[4] 로지스틱회귀 대해 간략하게 설명해주세요.  \n",
    "   - 개념  \n",
    "   - 조건  \n",
    "   - 동작원리  \n",
    "   - 선형식  \n",
    "   - 오차/잔차 계산 방법  "
   ]
  },
  {
   "cell_type": "markdown",
   "metadata": {},
   "source": [
    " "
   ]
  },
  {
   "cell_type": "markdown",
   "metadata": {},
   "source": [
    "[5] Fashion MNIST 데이터셋에서 10개 카테고리 중 하나를 선택해서 2진 분류로 구현해 주세요.  \n",
    "- 데이터셋 : scikit-learn의 datasets 사용\n",
    "    - from sklearn.datasets import fetch_openml \n",
    "    - db_name = 'Fashion-MNIST'\n",
    "    - fashion_data = fetch_openml(name=db_name, parser='auto')"
   ]
  },
  {
   "cell_type": "code",
   "execution_count": 88,
   "metadata": {
    "ExecuteTime": {
     "end_time": "2024-03-14T01:14:54.767144300Z",
     "start_time": "2024-03-14T01:14:50.675259100Z"
    }
   },
   "outputs": [],
   "source": [
    "from sklearn.datasets import fetch_openml\n",
    "\n",
    "db_name = 'Fashion-MNIST'\n",
    "fashion_data = fetch_openml(name=db_name, parser='auto', as_frame=False)"
   ]
  },
  {
   "cell_type": "code",
   "execution_count": 89,
   "metadata": {
    "ExecuteTime": {
     "end_time": "2024-03-14T01:14:54.789201500Z",
     "start_time": "2024-03-14T01:14:54.770150200Z"
    }
   },
   "outputs": [
    {
     "data": {
      "text/plain": "dict_keys(['data', 'target', 'frame', 'categories', 'feature_names', 'target_names', 'DESCR', 'details', 'url'])"
     },
     "execution_count": 89,
     "metadata": {},
     "output_type": "execute_result"
    }
   ],
   "source": [
    "fashion_data.__dir__()"
   ]
  },
  {
   "cell_type": "code",
   "outputs": [
    {
     "data": {
      "text/plain": "((70000, 784), (70000,))"
     },
     "execution_count": 90,
     "metadata": {},
     "output_type": "execute_result"
    }
   ],
   "source": [
    "fashion_data.data.shape, fashion_data.target.shape"
   ],
   "metadata": {
    "collapsed": false,
    "ExecuteTime": {
     "end_time": "2024-03-14T01:14:54.825403100Z",
     "start_time": "2024-03-14T01:14:54.786061400Z"
    }
   },
   "execution_count": 90
  },
  {
   "cell_type": "code",
   "outputs": [
    {
     "data": {
      "text/plain": "(numpy.ndarray, numpy.ndarray)"
     },
     "execution_count": 91,
     "metadata": {},
     "output_type": "execute_result"
    }
   ],
   "source": [
    "type(fashion_data.data), type(fashion_data.target)"
   ],
   "metadata": {
    "collapsed": false,
    "ExecuteTime": {
     "end_time": "2024-03-14T01:14:54.827887600Z",
     "start_time": "2024-03-14T01:14:54.802356800Z"
    }
   },
   "execution_count": 91
  },
  {
   "cell_type": "code",
   "outputs": [
    {
     "data": {
      "text/plain": "(dtype('int64'), dtype('O'))"
     },
     "execution_count": 92,
     "metadata": {},
     "output_type": "execute_result"
    }
   ],
   "source": [
    "fashion_data.data.dtype, fashion_data.target.dtype"
   ],
   "metadata": {
    "collapsed": false,
    "ExecuteTime": {
     "end_time": "2024-03-14T01:14:54.870723Z",
     "start_time": "2024-03-14T01:14:54.818191200Z"
    }
   },
   "execution_count": 92
  },
  {
   "cell_type": "code",
   "outputs": [
    {
     "data": {
      "text/plain": "('0', '9')"
     },
     "execution_count": 93,
     "metadata": {},
     "output_type": "execute_result"
    }
   ],
   "source": [
    "fashion_data.target.min(), fashion_data.target.max()    # '0' ~ '9' 로 구성"
   ],
   "metadata": {
    "collapsed": false,
    "ExecuteTime": {
     "end_time": "2024-03-14T01:14:54.871779100Z",
     "start_time": "2024-03-14T01:14:54.831919800Z"
    }
   },
   "execution_count": 93
  },
  {
   "cell_type": "code",
   "outputs": [],
   "source": [
    "fashion_x = fashion_data.data / 255     # 스케일링 (-> 손실함수 그래프가 완만해진다??) \n",
    "# 안 해주면 accracy 90% 가 한계! \n",
    "fashion_y = fashion_data.target.astype('int')"
   ],
   "metadata": {
    "collapsed": false,
    "ExecuteTime": {
     "end_time": "2024-03-14T01:14:55.032548800Z",
     "start_time": "2024-03-14T01:14:54.848695900Z"
    }
   },
   "execution_count": 94
  },
  {
   "cell_type": "code",
   "outputs": [
    {
     "data": {
      "text/plain": "array([1, 0, 0, ..., 1, 1, 1])"
     },
     "execution_count": 95,
     "metadata": {},
     "output_type": "execute_result"
    }
   ],
   "source": [
    "# [이진분류 전처리] 값이 0이 아닌 경우, 모두 '1'로 변경\n",
    "mask = fashion_y == 0\n",
    "fashion_y[~mask] = 1\n",
    "fashion_y"
   ],
   "metadata": {
    "collapsed": false,
    "ExecuteTime": {
     "end_time": "2024-03-14T01:14:55.053125200Z",
     "start_time": "2024-03-14T01:14:55.033555200Z"
    }
   },
   "execution_count": 95
  },
  {
   "cell_type": "code",
   "outputs": [],
   "source": [
    "import torch\n",
    "import torch.nn as nn\n",
    "import torch.nn.functional as F\n",
    "import torch.optim as optim"
   ],
   "metadata": {
    "collapsed": false,
    "ExecuteTime": {
     "end_time": "2024-03-14T01:14:55.074897200Z",
     "start_time": "2024-03-14T01:14:55.051740500Z"
    }
   },
   "execution_count": 96
  },
  {
   "cell_type": "code",
   "outputs": [],
   "source": [
    "torch.manual_seed(0)"
   ],
   "metadata": {
    "collapsed": false
   }
  },
  {
   "cell_type": "code",
   "outputs": [],
   "source": [
    "fashion_x_t = torch.tensor(fashion_x, dtype=torch.float)\n",
    "fashion_y_t = torch.tensor(fashion_y, dtype=torch.float).unsqueeze(1)"
   ],
   "metadata": {
    "collapsed": false,
    "ExecuteTime": {
     "end_time": "2024-03-14T01:14:55.141983600Z",
     "start_time": "2024-03-14T01:14:55.066858700Z"
    }
   },
   "execution_count": 97
  },
  {
   "cell_type": "code",
   "outputs": [
    {
     "data": {
      "text/plain": "(torch.float32, torch.float32)"
     },
     "execution_count": 98,
     "metadata": {},
     "output_type": "execute_result"
    }
   ],
   "source": [
    "fashion_x_t.dtype, fashion_y_t.dtype"
   ],
   "metadata": {
    "collapsed": false,
    "ExecuteTime": {
     "end_time": "2024-03-14T01:14:55.159876200Z",
     "start_time": "2024-03-14T01:14:55.143984200Z"
    }
   },
   "execution_count": 98
  },
  {
   "cell_type": "code",
   "outputs": [
    {
     "data": {
      "text/plain": "(torch.Size([70000, 784]), torch.Size([70000, 1]))"
     },
     "execution_count": 99,
     "metadata": {},
     "output_type": "execute_result"
    }
   ],
   "source": [
    "fashion_x_t.shape, fashion_y_t.shape"
   ],
   "metadata": {
    "collapsed": false,
    "ExecuteTime": {
     "end_time": "2024-03-14T01:14:55.185912400Z",
     "start_time": "2024-03-14T01:14:55.160968700Z"
    }
   },
   "execution_count": 99
  },
  {
   "cell_type": "code",
   "outputs": [],
   "source": [
    "model = nn.Sequential(\n",
    "    nn.Linear(784, 1),\n",
    "    nn.Sigmoid()\n",
    ")"
   ],
   "metadata": {
    "collapsed": false,
    "ExecuteTime": {
     "end_time": "2024-03-14T01:17:31.094324900Z",
     "start_time": "2024-03-14T01:17:31.075474Z"
    }
   },
   "execution_count": 107
  },
  {
   "cell_type": "code",
   "outputs": [],
   "source": [
    "optimizer = optim.SGD(model.parameters(), lr=1)"
   ],
   "metadata": {
    "collapsed": false,
    "ExecuteTime": {
     "end_time": "2024-03-14T01:21:59.744862800Z",
     "start_time": "2024-03-14T01:21:59.727878200Z"
    }
   },
   "execution_count": 115
  },
  {
   "cell_type": "code",
   "outputs": [],
   "source": [
    "def training():\n",
    "    n_epochs = 1000\n",
    "    for epoch in range(n_epochs+1):\n",
    "        # 예측값 생성\n",
    "        hypothesis = model(fashion_x_t)                         # float\n",
    "        \n",
    "        cost = F.binary_cross_entropy(hypothesis, fashion_y_t)  # float\n",
    "        \n",
    "        optimizer.zero_grad()\n",
    "        cost.backward()\n",
    "        optimizer.step()\n",
    "        \n",
    "        # 100번마다 로그 출력\n",
    "        if epoch % 100 == 0:\n",
    "            prediction = hypothesis >= torch.FloatTensor([0.5])     # 예측값이 0.5를 넘으면 True로 간주\n",
    "            correct_prediction = prediction.float() == fashion_y_t      # 실제값과 일치하는 경우만 True로 간주\n",
    "            accuracy = correct_prediction.sum().item() / len(correct_prediction) # 정확도를 계산\n",
    " \n",
    "            print(f'Epoch {epoch:4d}/{n_epochs} Cost: {cost.item():.6f} Accuracy {accuracy * 100:2.2f}%')"
   ],
   "metadata": {
    "collapsed": false,
    "ExecuteTime": {
     "end_time": "2024-03-14T01:21:59.983601300Z",
     "start_time": "2024-03-14T01:21:59.952883Z"
    }
   },
   "execution_count": 116
  },
  {
   "cell_type": "code",
   "outputs": [
    {
     "name": "stdout",
     "output_type": "stream",
     "text": [
      "Epoch    0/1000 Cost: 0.172795 Accuracy 94.01%\n",
      "Epoch  100/1000 Cost: 0.208252 Accuracy 93.88%\n",
      "Epoch  200/1000 Cost: 0.117545 Accuracy 96.07%\n",
      "Epoch  300/1000 Cost: 0.167560 Accuracy 94.85%\n",
      "Epoch  400/1000 Cost: 0.114400 Accuracy 96.09%\n",
      "Epoch  500/1000 Cost: 0.113441 Accuracy 95.96%\n",
      "Epoch  600/1000 Cost: 0.216158 Accuracy 93.32%\n",
      "Epoch  700/1000 Cost: 0.131561 Accuracy 95.75%\n",
      "Epoch  800/1000 Cost: 0.111089 Accuracy 96.14%\n",
      "Epoch  900/1000 Cost: 0.311975 Accuracy 92.89%\n",
      "Epoch 1000/1000 Cost: 0.112391 Accuracy 96.14%\n"
     ]
    }
   ],
   "source": [
    "training()"
   ],
   "metadata": {
    "collapsed": false,
    "ExecuteTime": {
     "end_time": "2024-03-14T01:22:13.943501800Z",
     "start_time": "2024-03-14T01:22:00.382152Z"
    }
   },
   "execution_count": 117
  },
  {
   "cell_type": "markdown",
   "source": [
    "### 강사님 코드"
   ],
   "metadata": {
    "collapsed": false
   }
  },
  {
   "cell_type": "markdown",
   "source": [
    "### softmax(), sigmoid() 함수 <hr>\n",
    "- sigmoid() : y=wx+b 결과    1개 전달 => 반환 : 0.0 ~ 1.0 사이 값으로 변환\n",
    "- softmax() : y=wx+b 결과 여러개 전달 => 반환 : 여러개의 결과값의 합이 1.0이 되도록 변환 => 다중분류"
   ],
   "metadata": {
    "collapsed": false
   }
  },
  {
   "cell_type": "code",
   "outputs": [],
   "source": [
    "# 모듈 로딩\n",
    "import torch                        # PyTorch 기본 모듈 (텐서 및 기본 함수들)\n",
    "import torch.nn.functional as F     # PyTorch 인공신경망 관련 함수들"
   ],
   "metadata": {
    "collapsed": false,
    "ExecuteTime": {
     "end_time": "2024-03-14T01:29:32.858571200Z",
     "start_time": "2024-03-14T01:29:32.841846Z"
    }
   },
   "execution_count": 118
  },
  {
   "cell_type": "code",
   "outputs": [
    {
     "data": {
      "text/plain": "torch.Size([5])"
     },
     "execution_count": 119,
     "metadata": {},
     "output_type": "execute_result"
    }
   ],
   "source": [
    "# 임의 데이터 생성\n",
    "data1 = torch.tensor([1, 2, 1, 1, 2])\n",
    "data1.shape"
   ],
   "metadata": {
    "collapsed": false,
    "ExecuteTime": {
     "end_time": "2024-03-14T01:30:09.495156200Z",
     "start_time": "2024-03-14T01:30:09.453761100Z"
    }
   },
   "execution_count": 119
  },
  {
   "cell_type": "code",
   "outputs": [
    {
     "data": {
      "text/plain": "tensor([0.7311, 0.8808, 0.7311, 0.7311, 0.8808])"
     },
     "execution_count": 120,
     "metadata": {},
     "output_type": "execute_result"
    }
   ],
   "source": [
    "F.sigmoid(data1)"
   ],
   "metadata": {
    "collapsed": false,
    "ExecuteTime": {
     "end_time": "2024-03-14T01:30:56.665648400Z",
     "start_time": "2024-03-14T01:30:56.641337900Z"
    }
   },
   "execution_count": 120
  },
  {
   "cell_type": "code",
   "outputs": [
    {
     "data": {
      "text/plain": "torch.Size([5, 1])"
     },
     "execution_count": 125,
     "metadata": {},
     "output_type": "execute_result"
    }
   ],
   "source": [
    "data1.unsqueeze_(dim=1)\n",
    "data1.shape"
   ],
   "metadata": {
    "collapsed": false,
    "ExecuteTime": {
     "end_time": "2024-03-14T01:32:58.173651Z",
     "start_time": "2024-03-14T01:32:58.147808600Z"
    }
   },
   "execution_count": 125
  },
  {
   "cell_type": "code",
   "outputs": [
    {
     "name": "stderr",
     "output_type": "stream",
     "text": [
      "C:\\Users\\kdp\\AppData\\Local\\Temp\\ipykernel_21916\\3182668218.py:2: UserWarning: Implicit dimension choice for softmax has been deprecated. Change the call to include dim=X as an argument.\n",
      "  output = F.softmax(input)\n"
     ]
    },
    {
     "data": {
      "text/plain": "tensor([1.0000, 1.0000])"
     },
     "execution_count": 138,
     "metadata": {},
     "output_type": "execute_result"
    }
   ],
   "source": [
    "input = torch.rand(2, 3)\n",
    "output = F.softmax(input)\n",
    "output.sum(dim=1)"
   ],
   "metadata": {
    "collapsed": false,
    "ExecuteTime": {
     "end_time": "2024-03-14T01:42:03.507503900Z",
     "start_time": "2024-03-14T01:42:03.490529700Z"
    }
   },
   "execution_count": 138
  },
  {
   "cell_type": "code",
   "outputs": [
    {
     "data": {
      "text/plain": "1"
     },
     "execution_count": 139,
     "metadata": {},
     "output_type": "execute_result"
    }
   ],
   "source": [
    "output.max(dim=1)[1][0].item()"
   ],
   "metadata": {
    "collapsed": false,
    "ExecuteTime": {
     "end_time": "2024-03-14T01:42:03.827988200Z",
     "start_time": "2024-03-14T01:42:03.805847500Z"
    }
   },
   "execution_count": 139
  },
  {
   "cell_type": "code",
   "outputs": [
    {
     "data": {
      "text/plain": "tensor([1, 0])"
     },
     "execution_count": 140,
     "metadata": {},
     "output_type": "execute_result"
    }
   ],
   "source": [
    "output.argmax(dim=1)"
   ],
   "metadata": {
    "collapsed": false,
    "ExecuteTime": {
     "end_time": "2024-03-14T01:42:18.511906500Z",
     "start_time": "2024-03-14T01:42:18.465305600Z"
    }
   },
   "execution_count": 140
  },
  {
   "cell_type": "markdown",
   "source": [
    "[5] 번 문제 풀이"
   ],
   "metadata": {
    "collapsed": false
   }
  },
  {
   "cell_type": "markdown",
   "source": [
    "(1) 모듈 로딩 및 데이터 준비"
   ],
   "metadata": {
    "collapsed": false
   }
  },
  {
   "cell_type": "code",
   "outputs": [],
   "source": [
    "# 모듈 로딩\n",
    "from sklearn.datasets import fetch_openml\n",
    "import pandas as pd\n",
    "import numpy as np\n",
    "\n",
    "import torch\n",
    "import torch.nn as nn               # LinearRegression 기능의 클래스 Linear\n",
    "import torch.nn.functional as F     # 손실함수\n",
    "import torch.optim as optim         # 경사하강법 기반의 최적화 관련 모듈"
   ],
   "metadata": {
    "collapsed": false,
    "ExecuteTime": {
     "end_time": "2024-03-14T01:59:53.557505600Z",
     "start_time": "2024-03-14T01:59:53.546536700Z"
    }
   },
   "execution_count": 151
  },
  {
   "cell_type": "code",
   "outputs": [],
   "source": [
    "# 데이터 준비\n",
    "fashion_db = 'fashion-mnist'\n",
    "\n",
    "fashion_data = fetch_openml(name=fashion_db, parser='auto') #, as_frame=False)"
   ],
   "metadata": {
    "collapsed": false,
    "ExecuteTime": {
     "end_time": "2024-03-14T01:59:58.038108500Z",
     "start_time": "2024-03-14T01:59:53.910492200Z"
    }
   },
   "execution_count": 152
  },
  {
   "cell_type": "code",
   "outputs": [],
   "source": [
    "feature = fashion_data['data']\n",
    "target = fashion_data['target']"
   ],
   "metadata": {
    "collapsed": false,
    "ExecuteTime": {
     "end_time": "2024-03-14T01:59:58.056494500Z",
     "start_time": "2024-03-14T01:59:58.041709900Z"
    }
   },
   "execution_count": 153
  },
  {
   "cell_type": "code",
   "outputs": [
    {
     "name": "stdout",
     "output_type": "stream",
     "text": [
      "feature => (70000, 784), 2D\n",
      "target => (70000,), 1D\n"
     ]
    }
   ],
   "source": [
    "# 피처와 타겟 개수 확인\n",
    "print(f'feature => {feature.shape}, {feature.ndim}D')\n",
    "print(f'target => {target.shape}, {target.ndim}D')"
   ],
   "metadata": {
    "collapsed": false,
    "ExecuteTime": {
     "end_time": "2024-03-14T01:59:59.725177900Z",
     "start_time": "2024-03-14T01:59:59.704038200Z"
    }
   },
   "execution_count": 154
  },
  {
   "cell_type": "code",
   "outputs": [
    {
     "name": "stdout",
     "output_type": "stream",
     "text": [
      "feature name => ['pixel1', 'pixel2', 'pixel3', 'pixel4', 'pixel5', 'pixel6', 'pixel7', 'pixel8', 'pixel9', 'pixel10', 'pixel11', 'pixel12', 'pixel13', 'pixel14', 'pixel15', 'pixel16', 'pixel17', 'pixel18', 'pixel19', 'pixel20', 'pixel21', 'pixel22', 'pixel23', 'pixel24', 'pixel25', 'pixel26', 'pixel27', 'pixel28', 'pixel29', 'pixel30', 'pixel31', 'pixel32', 'pixel33', 'pixel34', 'pixel35', 'pixel36', 'pixel37', 'pixel38', 'pixel39', 'pixel40', 'pixel41', 'pixel42', 'pixel43', 'pixel44', 'pixel45', 'pixel46', 'pixel47', 'pixel48', 'pixel49', 'pixel50', 'pixel51', 'pixel52', 'pixel53', 'pixel54', 'pixel55', 'pixel56', 'pixel57', 'pixel58', 'pixel59', 'pixel60', 'pixel61', 'pixel62', 'pixel63', 'pixel64', 'pixel65', 'pixel66', 'pixel67', 'pixel68', 'pixel69', 'pixel70', 'pixel71', 'pixel72', 'pixel73', 'pixel74', 'pixel75', 'pixel76', 'pixel77', 'pixel78', 'pixel79', 'pixel80', 'pixel81', 'pixel82', 'pixel83', 'pixel84', 'pixel85', 'pixel86', 'pixel87', 'pixel88', 'pixel89', 'pixel90', 'pixel91', 'pixel92', 'pixel93', 'pixel94', 'pixel95', 'pixel96', 'pixel97', 'pixel98', 'pixel99', 'pixel100', 'pixel101', 'pixel102', 'pixel103', 'pixel104', 'pixel105', 'pixel106', 'pixel107', 'pixel108', 'pixel109', 'pixel110', 'pixel111', 'pixel112', 'pixel113', 'pixel114', 'pixel115', 'pixel116', 'pixel117', 'pixel118', 'pixel119', 'pixel120', 'pixel121', 'pixel122', 'pixel123', 'pixel124', 'pixel125', 'pixel126', 'pixel127', 'pixel128', 'pixel129', 'pixel130', 'pixel131', 'pixel132', 'pixel133', 'pixel134', 'pixel135', 'pixel136', 'pixel137', 'pixel138', 'pixel139', 'pixel140', 'pixel141', 'pixel142', 'pixel143', 'pixel144', 'pixel145', 'pixel146', 'pixel147', 'pixel148', 'pixel149', 'pixel150', 'pixel151', 'pixel152', 'pixel153', 'pixel154', 'pixel155', 'pixel156', 'pixel157', 'pixel158', 'pixel159', 'pixel160', 'pixel161', 'pixel162', 'pixel163', 'pixel164', 'pixel165', 'pixel166', 'pixel167', 'pixel168', 'pixel169', 'pixel170', 'pixel171', 'pixel172', 'pixel173', 'pixel174', 'pixel175', 'pixel176', 'pixel177', 'pixel178', 'pixel179', 'pixel180', 'pixel181', 'pixel182', 'pixel183', 'pixel184', 'pixel185', 'pixel186', 'pixel187', 'pixel188', 'pixel189', 'pixel190', 'pixel191', 'pixel192', 'pixel193', 'pixel194', 'pixel195', 'pixel196', 'pixel197', 'pixel198', 'pixel199', 'pixel200', 'pixel201', 'pixel202', 'pixel203', 'pixel204', 'pixel205', 'pixel206', 'pixel207', 'pixel208', 'pixel209', 'pixel210', 'pixel211', 'pixel212', 'pixel213', 'pixel214', 'pixel215', 'pixel216', 'pixel217', 'pixel218', 'pixel219', 'pixel220', 'pixel221', 'pixel222', 'pixel223', 'pixel224', 'pixel225', 'pixel226', 'pixel227', 'pixel228', 'pixel229', 'pixel230', 'pixel231', 'pixel232', 'pixel233', 'pixel234', 'pixel235', 'pixel236', 'pixel237', 'pixel238', 'pixel239', 'pixel240', 'pixel241', 'pixel242', 'pixel243', 'pixel244', 'pixel245', 'pixel246', 'pixel247', 'pixel248', 'pixel249', 'pixel250', 'pixel251', 'pixel252', 'pixel253', 'pixel254', 'pixel255', 'pixel256', 'pixel257', 'pixel258', 'pixel259', 'pixel260', 'pixel261', 'pixel262', 'pixel263', 'pixel264', 'pixel265', 'pixel266', 'pixel267', 'pixel268', 'pixel269', 'pixel270', 'pixel271', 'pixel272', 'pixel273', 'pixel274', 'pixel275', 'pixel276', 'pixel277', 'pixel278', 'pixel279', 'pixel280', 'pixel281', 'pixel282', 'pixel283', 'pixel284', 'pixel285', 'pixel286', 'pixel287', 'pixel288', 'pixel289', 'pixel290', 'pixel291', 'pixel292', 'pixel293', 'pixel294', 'pixel295', 'pixel296', 'pixel297', 'pixel298', 'pixel299', 'pixel300', 'pixel301', 'pixel302', 'pixel303', 'pixel304', 'pixel305', 'pixel306', 'pixel307', 'pixel308', 'pixel309', 'pixel310', 'pixel311', 'pixel312', 'pixel313', 'pixel314', 'pixel315', 'pixel316', 'pixel317', 'pixel318', 'pixel319', 'pixel320', 'pixel321', 'pixel322', 'pixel323', 'pixel324', 'pixel325', 'pixel326', 'pixel327', 'pixel328', 'pixel329', 'pixel330', 'pixel331', 'pixel332', 'pixel333', 'pixel334', 'pixel335', 'pixel336', 'pixel337', 'pixel338', 'pixel339', 'pixel340', 'pixel341', 'pixel342', 'pixel343', 'pixel344', 'pixel345', 'pixel346', 'pixel347', 'pixel348', 'pixel349', 'pixel350', 'pixel351', 'pixel352', 'pixel353', 'pixel354', 'pixel355', 'pixel356', 'pixel357', 'pixel358', 'pixel359', 'pixel360', 'pixel361', 'pixel362', 'pixel363', 'pixel364', 'pixel365', 'pixel366', 'pixel367', 'pixel368', 'pixel369', 'pixel370', 'pixel371', 'pixel372', 'pixel373', 'pixel374', 'pixel375', 'pixel376', 'pixel377', 'pixel378', 'pixel379', 'pixel380', 'pixel381', 'pixel382', 'pixel383', 'pixel384', 'pixel385', 'pixel386', 'pixel387', 'pixel388', 'pixel389', 'pixel390', 'pixel391', 'pixel392', 'pixel393', 'pixel394', 'pixel395', 'pixel396', 'pixel397', 'pixel398', 'pixel399', 'pixel400', 'pixel401', 'pixel402', 'pixel403', 'pixel404', 'pixel405', 'pixel406', 'pixel407', 'pixel408', 'pixel409', 'pixel410', 'pixel411', 'pixel412', 'pixel413', 'pixel414', 'pixel415', 'pixel416', 'pixel417', 'pixel418', 'pixel419', 'pixel420', 'pixel421', 'pixel422', 'pixel423', 'pixel424', 'pixel425', 'pixel426', 'pixel427', 'pixel428', 'pixel429', 'pixel430', 'pixel431', 'pixel432', 'pixel433', 'pixel434', 'pixel435', 'pixel436', 'pixel437', 'pixel438', 'pixel439', 'pixel440', 'pixel441', 'pixel442', 'pixel443', 'pixel444', 'pixel445', 'pixel446', 'pixel447', 'pixel448', 'pixel449', 'pixel450', 'pixel451', 'pixel452', 'pixel453', 'pixel454', 'pixel455', 'pixel456', 'pixel457', 'pixel458', 'pixel459', 'pixel460', 'pixel461', 'pixel462', 'pixel463', 'pixel464', 'pixel465', 'pixel466', 'pixel467', 'pixel468', 'pixel469', 'pixel470', 'pixel471', 'pixel472', 'pixel473', 'pixel474', 'pixel475', 'pixel476', 'pixel477', 'pixel478', 'pixel479', 'pixel480', 'pixel481', 'pixel482', 'pixel483', 'pixel484', 'pixel485', 'pixel486', 'pixel487', 'pixel488', 'pixel489', 'pixel490', 'pixel491', 'pixel492', 'pixel493', 'pixel494', 'pixel495', 'pixel496', 'pixel497', 'pixel498', 'pixel499', 'pixel500', 'pixel501', 'pixel502', 'pixel503', 'pixel504', 'pixel505', 'pixel506', 'pixel507', 'pixel508', 'pixel509', 'pixel510', 'pixel511', 'pixel512', 'pixel513', 'pixel514', 'pixel515', 'pixel516', 'pixel517', 'pixel518', 'pixel519', 'pixel520', 'pixel521', 'pixel522', 'pixel523', 'pixel524', 'pixel525', 'pixel526', 'pixel527', 'pixel528', 'pixel529', 'pixel530', 'pixel531', 'pixel532', 'pixel533', 'pixel534', 'pixel535', 'pixel536', 'pixel537', 'pixel538', 'pixel539', 'pixel540', 'pixel541', 'pixel542', 'pixel543', 'pixel544', 'pixel545', 'pixel546', 'pixel547', 'pixel548', 'pixel549', 'pixel550', 'pixel551', 'pixel552', 'pixel553', 'pixel554', 'pixel555', 'pixel556', 'pixel557', 'pixel558', 'pixel559', 'pixel560', 'pixel561', 'pixel562', 'pixel563', 'pixel564', 'pixel565', 'pixel566', 'pixel567', 'pixel568', 'pixel569', 'pixel570', 'pixel571', 'pixel572', 'pixel573', 'pixel574', 'pixel575', 'pixel576', 'pixel577', 'pixel578', 'pixel579', 'pixel580', 'pixel581', 'pixel582', 'pixel583', 'pixel584', 'pixel585', 'pixel586', 'pixel587', 'pixel588', 'pixel589', 'pixel590', 'pixel591', 'pixel592', 'pixel593', 'pixel594', 'pixel595', 'pixel596', 'pixel597', 'pixel598', 'pixel599', 'pixel600', 'pixel601', 'pixel602', 'pixel603', 'pixel604', 'pixel605', 'pixel606', 'pixel607', 'pixel608', 'pixel609', 'pixel610', 'pixel611', 'pixel612', 'pixel613', 'pixel614', 'pixel615', 'pixel616', 'pixel617', 'pixel618', 'pixel619', 'pixel620', 'pixel621', 'pixel622', 'pixel623', 'pixel624', 'pixel625', 'pixel626', 'pixel627', 'pixel628', 'pixel629', 'pixel630', 'pixel631', 'pixel632', 'pixel633', 'pixel634', 'pixel635', 'pixel636', 'pixel637', 'pixel638', 'pixel639', 'pixel640', 'pixel641', 'pixel642', 'pixel643', 'pixel644', 'pixel645', 'pixel646', 'pixel647', 'pixel648', 'pixel649', 'pixel650', 'pixel651', 'pixel652', 'pixel653', 'pixel654', 'pixel655', 'pixel656', 'pixel657', 'pixel658', 'pixel659', 'pixel660', 'pixel661', 'pixel662', 'pixel663', 'pixel664', 'pixel665', 'pixel666', 'pixel667', 'pixel668', 'pixel669', 'pixel670', 'pixel671', 'pixel672', 'pixel673', 'pixel674', 'pixel675', 'pixel676', 'pixel677', 'pixel678', 'pixel679', 'pixel680', 'pixel681', 'pixel682', 'pixel683', 'pixel684', 'pixel685', 'pixel686', 'pixel687', 'pixel688', 'pixel689', 'pixel690', 'pixel691', 'pixel692', 'pixel693', 'pixel694', 'pixel695', 'pixel696', 'pixel697', 'pixel698', 'pixel699', 'pixel700', 'pixel701', 'pixel702', 'pixel703', 'pixel704', 'pixel705', 'pixel706', 'pixel707', 'pixel708', 'pixel709', 'pixel710', 'pixel711', 'pixel712', 'pixel713', 'pixel714', 'pixel715', 'pixel716', 'pixel717', 'pixel718', 'pixel719', 'pixel720', 'pixel721', 'pixel722', 'pixel723', 'pixel724', 'pixel725', 'pixel726', 'pixel727', 'pixel728', 'pixel729', 'pixel730', 'pixel731', 'pixel732', 'pixel733', 'pixel734', 'pixel735', 'pixel736', 'pixel737', 'pixel738', 'pixel739', 'pixel740', 'pixel741', 'pixel742', 'pixel743', 'pixel744', 'pixel745', 'pixel746', 'pixel747', 'pixel748', 'pixel749', 'pixel750', 'pixel751', 'pixel752', 'pixel753', 'pixel754', 'pixel755', 'pixel756', 'pixel757', 'pixel758', 'pixel759', 'pixel760', 'pixel761', 'pixel762', 'pixel763', 'pixel764', 'pixel765', 'pixel766', 'pixel767', 'pixel768', 'pixel769', 'pixel770', 'pixel771', 'pixel772', 'pixel773', 'pixel774', 'pixel775', 'pixel776', 'pixel777', 'pixel778', 'pixel779', 'pixel780', 'pixel781', 'pixel782', 'pixel783', 'pixel784']\n",
      "target name => ['class']\n",
      "categories => None\n",
      "categories -> ['9', '0', '3', '2', '7', '5', '1', '6', '4', '8']\n",
      "Categories (10, object): ['0', '1', '2', '3', ..., '6', '7', '8', '9']\n"
     ]
    }
   ],
   "source": [
    "# 분류 확인\n",
    "print(f'feature name => {fashion_data[\"feature_names\"]}')\n",
    "print(f'target name => {fashion_data[\"target_names\"]}')\n",
    "print(f'categories => {fashion_data[\"categories\"]}')\n",
    "print(f'categories -> {target.unique()}')"
   ],
   "metadata": {
    "collapsed": false,
    "ExecuteTime": {
     "end_time": "2024-03-14T02:00:00.177426600Z",
     "start_time": "2024-03-14T02:00:00.142488100Z"
    }
   },
   "execution_count": 155
  },
  {
   "cell_type": "markdown",
   "source": [
    "(2) 데이터 가공 및 전처리 <hr>\n",
    "- 결측치/중복/이상치 => 없음\n",
    "- 다중분류 => 2진분류 변환 : target 변환\n",
    "- 표준화 => 이미지 처리 (동일 크기 및 색상채널) : 동일크기(28x28)와 채널(흑백 1)\n",
    "- 정규화 => 피처 정규화 / 타겟 정규화"
   ],
   "metadata": {
    "collapsed": false
   }
  },
  {
   "cell_type": "code",
   "outputs": [
    {
     "data": {
      "text/plain": "array([False,  True])"
     },
     "execution_count": 157,
     "metadata": {},
     "output_type": "execute_result"
    }
   ],
   "source": [
    "## => [2-1] 다중분류 => 2진분류 (변환 : target 변환)\n",
    "target = target == '0'\n",
    "target.unique()"
   ],
   "metadata": {
    "collapsed": false,
    "ExecuteTime": {
     "end_time": "2024-03-14T02:05:14.073744Z",
     "start_time": "2024-03-14T02:05:14.042434300Z"
    }
   },
   "execution_count": 157
  },
  {
   "cell_type": "code",
   "outputs": [
    {
     "data": {
      "text/plain": "   pixel1  pixel2  pixel3  pixel4  pixel5    pixel6  pixel7  pixel8  pixel9  \\\n0     0.0     0.0     0.0     0.0     0.0  0.000000     0.0     0.0     0.0   \n1     0.0     0.0     0.0     0.0     0.0  0.003922     0.0     0.0     0.0   \n\n   pixel10  ...  pixel775  pixel776  pixel777  pixel778  pixel779  pixel780  \\\n0      0.0  ...  0.000000  0.000000  0.000000  0.000000       0.0       0.0   \n1      0.0  ...  0.466667  0.447059  0.509804  0.298039       0.0       0.0   \n\n   pixel781  pixel782  pixel783  pixel784  \n0       0.0       0.0       0.0       0.0  \n1       0.0       0.0       0.0       0.0  \n\n[2 rows x 784 columns]",
      "text/html": "<div>\n<style scoped>\n    .dataframe tbody tr th:only-of-type {\n        vertical-align: middle;\n    }\n\n    .dataframe tbody tr th {\n        vertical-align: top;\n    }\n\n    .dataframe thead th {\n        text-align: right;\n    }\n</style>\n<table border=\"1\" class=\"dataframe\">\n  <thead>\n    <tr style=\"text-align: right;\">\n      <th></th>\n      <th>pixel1</th>\n      <th>pixel2</th>\n      <th>pixel3</th>\n      <th>pixel4</th>\n      <th>pixel5</th>\n      <th>pixel6</th>\n      <th>pixel7</th>\n      <th>pixel8</th>\n      <th>pixel9</th>\n      <th>pixel10</th>\n      <th>...</th>\n      <th>pixel775</th>\n      <th>pixel776</th>\n      <th>pixel777</th>\n      <th>pixel778</th>\n      <th>pixel779</th>\n      <th>pixel780</th>\n      <th>pixel781</th>\n      <th>pixel782</th>\n      <th>pixel783</th>\n      <th>pixel784</th>\n    </tr>\n  </thead>\n  <tbody>\n    <tr>\n      <th>0</th>\n      <td>0.0</td>\n      <td>0.0</td>\n      <td>0.0</td>\n      <td>0.0</td>\n      <td>0.0</td>\n      <td>0.000000</td>\n      <td>0.0</td>\n      <td>0.0</td>\n      <td>0.0</td>\n      <td>0.0</td>\n      <td>...</td>\n      <td>0.000000</td>\n      <td>0.000000</td>\n      <td>0.000000</td>\n      <td>0.000000</td>\n      <td>0.0</td>\n      <td>0.0</td>\n      <td>0.0</td>\n      <td>0.0</td>\n      <td>0.0</td>\n      <td>0.0</td>\n    </tr>\n    <tr>\n      <th>1</th>\n      <td>0.0</td>\n      <td>0.0</td>\n      <td>0.0</td>\n      <td>0.0</td>\n      <td>0.0</td>\n      <td>0.003922</td>\n      <td>0.0</td>\n      <td>0.0</td>\n      <td>0.0</td>\n      <td>0.0</td>\n      <td>...</td>\n      <td>0.466667</td>\n      <td>0.447059</td>\n      <td>0.509804</td>\n      <td>0.298039</td>\n      <td>0.0</td>\n      <td>0.0</td>\n      <td>0.0</td>\n      <td>0.0</td>\n      <td>0.0</td>\n      <td>0.0</td>\n    </tr>\n  </tbody>\n</table>\n<p>2 rows × 784 columns</p>\n</div>"
     },
     "execution_count": 161,
     "metadata": {},
     "output_type": "execute_result"
    }
   ],
   "source": [
    "## => [2-2] 정규화 => 피처 : 784개는 색상값 (0 ~ 255 범위 값)\n",
    "norm_feature = feature / 255.\n",
    "norm_feature.head(2)"
   ],
   "metadata": {
    "collapsed": false,
    "ExecuteTime": {
     "end_time": "2024-03-14T02:07:56.066751900Z",
     "start_time": "2024-03-14T02:07:56.008568900Z"
    }
   },
   "execution_count": 161
  },
  {
   "cell_type": "code",
   "outputs": [
    {
     "data": {
      "text/plain": "       False  True \n0       True  False\n1      False   True\n2      False   True\n3       True  False\n4      False   True\n...      ...    ...\n69995   True  False\n69996   True  False\n69997   True  False\n69998   True  False\n69999   True  False\n\n[70000 rows x 2 columns]",
      "text/html": "<div>\n<style scoped>\n    .dataframe tbody tr th:only-of-type {\n        vertical-align: middle;\n    }\n\n    .dataframe tbody tr th {\n        vertical-align: top;\n    }\n\n    .dataframe thead th {\n        text-align: right;\n    }\n</style>\n<table border=\"1\" class=\"dataframe\">\n  <thead>\n    <tr style=\"text-align: right;\">\n      <th></th>\n      <th>False</th>\n      <th>True</th>\n    </tr>\n  </thead>\n  <tbody>\n    <tr>\n      <th>0</th>\n      <td>True</td>\n      <td>False</td>\n    </tr>\n    <tr>\n      <th>1</th>\n      <td>False</td>\n      <td>True</td>\n    </tr>\n    <tr>\n      <th>2</th>\n      <td>False</td>\n      <td>True</td>\n    </tr>\n    <tr>\n      <th>3</th>\n      <td>True</td>\n      <td>False</td>\n    </tr>\n    <tr>\n      <th>4</th>\n      <td>False</td>\n      <td>True</td>\n    </tr>\n    <tr>\n      <th>...</th>\n      <td>...</td>\n      <td>...</td>\n    </tr>\n    <tr>\n      <th>69995</th>\n      <td>True</td>\n      <td>False</td>\n    </tr>\n    <tr>\n      <th>69996</th>\n      <td>True</td>\n      <td>False</td>\n    </tr>\n    <tr>\n      <th>69997</th>\n      <td>True</td>\n      <td>False</td>\n    </tr>\n    <tr>\n      <th>69998</th>\n      <td>True</td>\n      <td>False</td>\n    </tr>\n    <tr>\n      <th>69999</th>\n      <td>True</td>\n      <td>False</td>\n    </tr>\n  </tbody>\n</table>\n<p>70000 rows × 2 columns</p>\n</div>"
     },
     "execution_count": 163,
     "metadata": {},
     "output_type": "execute_result"
    }
   ],
   "source": [
    "## => [2-2] 정규화 => 타겟 : One-Hot-Encoding 으로 변환\n",
    "pd.get_dummies(target)      # DataFrame 에서 바로 생성"
   ],
   "metadata": {
    "collapsed": false,
    "ExecuteTime": {
     "end_time": "2024-03-14T02:10:10.732830100Z",
     "start_time": "2024-03-14T02:10:10.697781100Z"
    }
   },
   "execution_count": 163
  },
  {
   "cell_type": "code",
   "outputs": [
    {
     "data": {
      "text/plain": "(pandas.core.series.Series, (70000,), 1)"
     },
     "execution_count": 175,
     "metadata": {},
     "output_type": "execute_result"
    }
   ],
   "source": [
    "type(target), target.shape, target.ndim"
   ],
   "metadata": {
    "collapsed": false,
    "ExecuteTime": {
     "end_time": "2024-03-14T02:27:41.054361500Z",
     "start_time": "2024-03-14T02:27:41.019353300Z"
    }
   },
   "execution_count": 175
  },
  {
   "cell_type": "code",
   "outputs": [
    {
     "name": "stdout",
     "output_type": "stream",
     "text": [
      "(70000, 1) 2\n"
     ]
    }
   ],
   "source": [
    "targetDF = target.to_frame()    # Series(1차원)를 DataFrame(2차원)으로 변환\n",
    "print(targetDF.shape, targetDF.ndim)"
   ],
   "metadata": {
    "collapsed": false,
    "ExecuteTime": {
     "end_time": "2024-03-14T02:28:01.275337300Z",
     "start_time": "2024-03-14T02:28:01.235330100Z"
    }
   },
   "execution_count": 176
  },
  {
   "cell_type": "code",
   "outputs": [
    {
     "data": {
      "text/plain": "[array([False,  True])]"
     },
     "execution_count": 167,
     "metadata": {},
     "output_type": "execute_result"
    }
   ],
   "source": [
    "from sklearn.preprocessing import OneHotEncoder\n",
    "\n",
    "ohEncoder = OneHotEncoder(sparse_output=False)      # sparse_output=False : transform() 반환값 => ndarray\n",
    "ohEncoder.fit(targetDF)                             # 2차원 데이터를 넘겨줘야 함\n",
    "ohEncoder.categories_                               # 0번째 컬럼의 값이 1이면 타겟 값이 False, 1번째 컬럼의 값이 1이면 타겟 값이 True"
   ],
   "metadata": {
    "collapsed": false,
    "ExecuteTime": {
     "end_time": "2024-03-14T02:17:03.054067900Z",
     "start_time": "2024-03-14T02:17:03.026998900Z"
    }
   },
   "execution_count": 167
  },
  {
   "cell_type": "code",
   "outputs": [
    {
     "data": {
      "text/plain": "((70000, 2), 2)"
     },
     "execution_count": 170,
     "metadata": {},
     "output_type": "execute_result"
    }
   ],
   "source": [
    "norm_target = ohEncoder.transform(targetDF)\n",
    "norm_target.shape, norm_target.ndim"
   ],
   "metadata": {
    "collapsed": false,
    "ExecuteTime": {
     "end_time": "2024-03-14T02:18:29.983080600Z",
     "start_time": "2024-03-14T02:18:29.951986700Z"
    }
   },
   "execution_count": 170
  },
  {
   "cell_type": "markdown",
   "source": [
    "(3) 학습 준비 <hr>\n",
    "- 데이터셋 준비 : 텐서화 & (훈련용, 테스트용)\n",
    "- 학습 방법 : 지도학습 - 이진분류    (=> Linear 클래스 + sigmoid 함수)\n",
    "- 최적화방법: 경사하강법 기반의 방법 (=> Adam, SGD, ...)\n",
    "- 손실함수 : 이진분류 손실 계산 함수 (=> binary_cross_entropy)"
   ],
   "metadata": {
    "collapsed": false
   }
  },
  {
   "cell_type": "code",
   "outputs": [],
   "source": [
    "### => 데이터셋 준비 : 60000개 훈련, 10000개 테스트\n",
    "limit = 60000\n",
    "train = norm_feature.iloc[:limit]\n",
    "test = norm_feature.iloc[limit:]\n",
    "\n",
    "train_y = target[:limit]\n",
    "test_y = target[limit:]"
   ],
   "metadata": {
    "collapsed": false,
    "ExecuteTime": {
     "end_time": "2024-03-14T04:24:52.853780700Z",
     "start_time": "2024-03-14T04:24:52.832705400Z"
    }
   },
   "execution_count": 182
  },
  {
   "cell_type": "code",
   "outputs": [
    {
     "name": "stdout",
     "output_type": "stream",
     "text": [
      "(60000, 784), (10000, 784)\n",
      "(60000,), (10000,)\n"
     ]
    }
   ],
   "source": [
    "print(f'{train.shape}, {test.shape}')\n",
    "print(f'{train_y.shape}, {test_y.shape}')"
   ],
   "metadata": {
    "collapsed": false,
    "ExecuteTime": {
     "end_time": "2024-03-14T04:25:09.576409700Z",
     "start_time": "2024-03-14T04:25:09.554781500Z"
    }
   },
   "execution_count": 183
  },
  {
   "cell_type": "code",
   "outputs": [],
   "source": [
    "# 텐서로 변환\n",
    "x_train = torch.FloatTensor(train.values)\n",
    "y_test = torch.FloatTensor(test.values)\n",
    "\n",
    "y_train = torch.FloatTensor(train_y.values).unsqueeze(dim=1)\n",
    "y_test = torch.FloatTensor(test_y.values).unsqueeze(dim=1)"
   ],
   "metadata": {
    "collapsed": false,
    "ExecuteTime": {
     "end_time": "2024-03-14T04:50:51.316076600Z",
     "start_time": "2024-03-14T04:50:51.262020Z"
    }
   },
   "execution_count": 203
  },
  {
   "cell_type": "code",
   "outputs": [
    {
     "name": "stdout",
     "output_type": "stream",
     "text": [
      "torch.Size([60000, 784]), 2, torch.Size([60000, 1]), 2\n"
     ]
    }
   ],
   "source": [
    "print(f'{x_train.shape}, {x_train.ndim}, {y_train.shape}, {y_train.ndim}')"
   ],
   "metadata": {
    "collapsed": false,
    "ExecuteTime": {
     "end_time": "2024-03-14T04:50:52.564729600Z",
     "start_time": "2024-03-14T04:50:52.539599100Z"
    }
   },
   "execution_count": 204
  },
  {
   "cell_type": "code",
   "outputs": [
    {
     "data": {
      "text/plain": "Linear(in_features=784, out_features=1, bias=True)"
     },
     "execution_count": 205,
     "metadata": {},
     "output_type": "execute_result"
    }
   ],
   "source": [
    "## 학습 인스턴스 생성\n",
    "in_, out_ = x_train.shape[1], y_train.shape[1]\n",
    "model = nn.Linear(in_, out_)    # w1x1 + w2x2 + ... + w784x784 + b\n",
    "model                           # Linear() 가 필요한 tensor(requires_grad=True)를 생성함"
   ],
   "metadata": {
    "collapsed": false,
    "ExecuteTime": {
     "end_time": "2024-03-14T04:50:52.784347900Z",
     "start_time": "2024-03-14T04:50:52.761265200Z"
    }
   },
   "execution_count": 205
  },
  {
   "cell_type": "code",
   "outputs": [],
   "source": [
    "## 최적화 인스턴스 생성\n",
    "optimizer = optim.Adam(model.parameters())  # [w1, w2, ... , w784, b]"
   ],
   "metadata": {
    "collapsed": false,
    "ExecuteTime": {
     "end_time": "2024-03-14T04:50:52.975276300Z",
     "start_time": "2024-03-14T04:50:52.952266200Z"
    }
   },
   "execution_count": 206
  },
  {
   "cell_type": "code",
   "outputs": [],
   "source": [
    "## 학습 횟수 => 샘플 처음부터 끝까지 읽는 것 기준으로 횟수 지정\n",
    "EPOCHS = 150"
   ],
   "metadata": {
    "collapsed": false,
    "ExecuteTime": {
     "end_time": "2024-03-14T04:50:53.231554400Z",
     "start_time": "2024-03-14T04:50:53.197479Z"
    }
   },
   "execution_count": 207
  },
  {
   "cell_type": "markdown",
   "source": [
    "(4) 학습 진행"
   ],
   "metadata": {
    "collapsed": false
   }
  },
  {
   "cell_type": "code",
   "outputs": [
    {
     "name": "stdout",
     "output_type": "stream",
     "text": [
      "[  0] Loss : 0.11221575736999512    Accuracy : 0.9569500088691711  \n",
      "[  1] Loss : 0.11220212280750275    Accuracy : 0.956933319568634   \n",
      "[  2] Loss : 0.11218850314617157    Accuracy : 0.956933319568634   \n",
      "[  3] Loss : 0.11217489093542099    Accuracy : 0.956933319568634   \n",
      "[  4] Loss : 0.1121613085269928     Accuracy : 0.956933319568634   \n",
      "[  5] Loss : 0.1121477261185646     Accuracy : 0.9569500088691711  \n",
      "[  6] Loss : 0.1121341809630394     Accuracy : 0.9569500088691711  \n",
      "[  7] Loss : 0.11212065070867538    Accuracy : 0.956933319568634   \n",
      "[  8] Loss : 0.11210712045431137    Accuracy : 0.956933319568634   \n",
      "[  9] Loss : 0.11209362000226974    Accuracy : 0.956933319568634   \n",
      "[ 10] Loss : 0.11208013445138931    Accuracy : 0.956933319568634   \n",
      "[ 11] Loss : 0.11206666380167007    Accuracy : 0.956933319568634   \n",
      "[ 12] Loss : 0.11205322295427322    Accuracy : 0.9569500088691711  \n",
      "[ 13] Loss : 0.11203976720571518    Accuracy : 0.9569666385650635  \n",
      "[ 14] Loss : 0.11202635616064072    Accuracy : 0.9569666385650635  \n",
      "[ 15] Loss : 0.11201294511556625    Accuracy : 0.9569666385650635  \n",
      "[ 16] Loss : 0.11199957132339478    Accuracy : 0.9569666385650635  \n",
      "[ 17] Loss : 0.1119861975312233     Accuracy : 0.9569833278656006  \n",
      "[ 18] Loss : 0.11197283864021301    Accuracy : 0.9569833278656006  \n",
      "[ 19] Loss : 0.11195951700210571    Accuracy : 0.9569833278656006  \n",
      "[ 20] Loss : 0.11194618791341782    Accuracy : 0.9569833278656006  \n",
      "[ 21] Loss : 0.11193288862705231    Accuracy : 0.9569833278656006  \n",
      "[ 22] Loss : 0.11191960424184799    Accuracy : 0.9569833278656006  \n",
      "[ 23] Loss : 0.11190633475780487    Accuracy : 0.9569833278656006  \n",
      "[ 24] Loss : 0.11189308017492294    Accuracy : 0.9569833278656006  \n",
      "[ 25] Loss : 0.11187983304262161    Accuracy : 0.9569833278656006  \n",
      "[ 26] Loss : 0.11186660826206207    Accuracy : 0.9570000171661377  \n",
      "[ 27] Loss : 0.11185341328382492    Accuracy : 0.95701664686203    \n",
      "[ 28] Loss : 0.11184023320674896    Accuracy : 0.95701664686203    \n",
      "[ 29] Loss : 0.1118270605802536     Accuracy : 0.9570000171661377  \n",
      "[ 30] Loss : 0.11181390285491943    Accuracy : 0.9570000171661377  \n",
      "[ 31] Loss : 0.11180076748132706    Accuracy : 0.9569833278656006  \n",
      "[ 32] Loss : 0.11178763955831528    Accuracy : 0.9570000171661377  \n",
      "[ 33] Loss : 0.11177452653646469    Accuracy : 0.95701664686203    \n",
      "[ 34] Loss : 0.11176144331693649    Accuracy : 0.9570000171661377  \n",
      "[ 35] Loss : 0.1117483526468277     Accuracy : 0.9570000171661377  \n",
      "[ 36] Loss : 0.11173529922962189    Accuracy : 0.9570000171661377  \n",
      "[ 37] Loss : 0.11172226816415787    Accuracy : 0.9570000171661377  \n",
      "[ 38] Loss : 0.11170922964811325    Accuracy : 0.9570000171661377  \n",
      "[ 39] Loss : 0.11169622093439102    Accuracy : 0.9570000171661377  \n",
      "[ 40] Loss : 0.11168323457241058    Accuracy : 0.9570000171661377  \n",
      "[ 41] Loss : 0.11167026311159134    Accuracy : 0.9570000171661377  \n",
      "[ 42] Loss : 0.1116572916507721     Accuracy : 0.9570000171661377  \n",
      "[ 43] Loss : 0.11164434999227524    Accuracy : 0.9570000171661377  \n",
      "[ 44] Loss : 0.11163141578435898    Accuracy : 0.95701664686203    \n",
      "[ 45] Loss : 0.11161850392818451    Accuracy : 0.95701664686203    \n",
      "[ 46] Loss : 0.11160559952259064    Accuracy : 0.9570000171661377  \n",
      "[ 47] Loss : 0.11159272491931915    Accuracy : 0.9570000171661377  \n",
      "[ 48] Loss : 0.11157985031604767    Accuracy : 0.9569833278656006  \n",
      "[ 49] Loss : 0.11156700551509857    Accuracy : 0.9569833278656006  \n",
      "[ 50] Loss : 0.11155416816473007    Accuracy : 0.9569833278656006  \n",
      "[ 51] Loss : 0.11154133826494217    Accuracy : 0.9569833278656006  \n",
      "[ 52] Loss : 0.11152854561805725    Accuracy : 0.9569833278656006  \n",
      "[ 53] Loss : 0.11151576042175293    Accuracy : 0.9569833278656006  \n",
      "[ 54] Loss : 0.11150297522544861    Accuracy : 0.9569833278656006  \n",
      "[ 55] Loss : 0.11149023473262787    Accuracy : 0.9569833278656006  \n",
      "[ 56] Loss : 0.11147748678922653    Accuracy : 0.9569833278656006  \n",
      "[ 57] Loss : 0.11146476119756699    Accuracy : 0.9570000171661377  \n",
      "[ 58] Loss : 0.11145206540822983    Accuracy : 0.9570000171661377  \n",
      "[ 59] Loss : 0.11143935471773148    Accuracy : 0.9570000171661377  \n",
      "[ 60] Loss : 0.11142667382955551    Accuracy : 0.9570000171661377  \n",
      "[ 61] Loss : 0.11141403019428253    Accuracy : 0.9570000171661377  \n",
      "[ 62] Loss : 0.11140136420726776    Accuracy : 0.9570333361625671  \n",
      "[ 63] Loss : 0.11138874292373657    Accuracy : 0.9570333361625671  \n",
      "[ 64] Loss : 0.11137612164020538    Accuracy : 0.9570666551589966  \n",
      "[ 65] Loss : 0.11136350780725479    Accuracy : 0.9570666551589966  \n",
      "[ 66] Loss : 0.11135093122720718    Accuracy : 0.9570666551589966  \n",
      "[ 67] Loss : 0.11133836209774017    Accuracy : 0.9570666551589966  \n",
      "[ 68] Loss : 0.11132580041885376    Accuracy : 0.9570333361625671  \n",
      "[ 69] Loss : 0.11131326854228973    Accuracy : 0.9570333361625671  \n",
      "[ 70] Loss : 0.11130072921514511    Accuracy : 0.9570500254631042  \n",
      "[ 71] Loss : 0.11128823459148407    Accuracy : 0.9570833444595337  \n",
      "[ 72] Loss : 0.11127573251724243    Accuracy : 0.9570833444595337  \n",
      "[ 73] Loss : 0.11126324534416199    Accuracy : 0.9571166634559631  \n",
      "[ 74] Loss : 0.11125078797340393    Accuracy : 0.9571333527565002  \n",
      "[ 75] Loss : 0.11123833805322647    Accuracy : 0.9571499824523926  \n",
      "[ 76] Loss : 0.11122589558362961    Accuracy : 0.9571499824523926  \n",
      "[ 77] Loss : 0.11121347546577454    Accuracy : 0.9571666717529297  \n",
      "[ 78] Loss : 0.11120107769966125    Accuracy : 0.9571999907493591  \n",
      "[ 79] Loss : 0.11118868738412857    Accuracy : 0.9571833610534668  \n",
      "[ 80] Loss : 0.11117630451917648    Accuracy : 0.9571833610534668  \n",
      "[ 81] Loss : 0.11116395890712738    Accuracy : 0.9571833610534668  \n",
      "[ 82] Loss : 0.11115161329507828    Accuracy : 0.9571833610534668  \n",
      "[ 83] Loss : 0.11113928258419037    Accuracy : 0.9571666717529297  \n",
      "[ 84] Loss : 0.11112696677446365    Accuracy : 0.9571833610534668  \n",
      "[ 85] Loss : 0.11111466586589813    Accuracy : 0.9571999907493591  \n",
      "[ 86] Loss : 0.1111023798584938     Accuracy : 0.9571999907493591  \n",
      "[ 87] Loss : 0.11109010130167007    Accuracy : 0.9571833610534668  \n",
      "[ 88] Loss : 0.11107785999774933    Accuracy : 0.9571999907493591  \n",
      "[ 89] Loss : 0.11106561124324799    Accuracy : 0.9571833610534668  \n",
      "[ 90] Loss : 0.11105337738990784    Accuracy : 0.9571833610534668  \n",
      "[ 91] Loss : 0.11104118078947067    Accuracy : 0.9571833610534668  \n",
      "[ 92] Loss : 0.11102897673845291    Accuracy : 0.9571833610534668  \n",
      "[ 93] Loss : 0.11101679503917694    Accuracy : 0.9571499824523926  \n",
      "[ 94] Loss : 0.11100462079048157    Accuracy : 0.9571833610534668  \n",
      "[ 95] Loss : 0.11099246889352798    Accuracy : 0.9571666717529297  \n",
      "[ 96] Loss : 0.11098034679889679    Accuracy : 0.9571666717529297  \n",
      "[ 97] Loss : 0.1109682098031044     Accuracy : 0.9571666717529297  \n",
      "[ 98] Loss : 0.1109561026096344     Accuracy : 0.9571666717529297  \n",
      "[ 99] Loss : 0.11094401031732559    Accuracy : 0.9571666717529297  \n",
      "[100] Loss : 0.11093193292617798    Accuracy : 0.9571499824523926  \n",
      "[101] Loss : 0.11091987043619156    Accuracy : 0.9571666717529297  \n",
      "[102] Loss : 0.11090781539678574    Accuracy : 0.9571666717529297  \n",
      "[103] Loss : 0.1108957827091217     Accuracy : 0.9571666717529297  \n",
      "[104] Loss : 0.11088375747203827    Accuracy : 0.9571666717529297  \n",
      "[105] Loss : 0.11087174713611603    Accuracy : 0.9571833610534668  \n",
      "[106] Loss : 0.11085975915193558    Accuracy : 0.9571833610534668  \n",
      "[107] Loss : 0.11084778606891632    Accuracy : 0.9572166800498962  \n",
      "[108] Loss : 0.11083580553531647    Accuracy : 0.9572333097457886  \n",
      "[109] Loss : 0.1108238697052002     Accuracy : 0.9572333097457886  \n",
      "[110] Loss : 0.11081193387508392    Accuracy : 0.9572333097457886  \n",
      "[111] Loss : 0.11080000549554825    Accuracy : 0.9572333097457886  \n",
      "[112] Loss : 0.11078809946775436    Accuracy : 0.9572333097457886  \n",
      "[113] Loss : 0.11077620089054108    Accuracy : 0.9572499990463257  \n",
      "[114] Loss : 0.11076433211565018    Accuracy : 0.9572499990463257  \n",
      "[115] Loss : 0.11075246334075928    Accuracy : 0.9572499990463257  \n",
      "[116] Loss : 0.11074060946702957    Accuracy : 0.9572499990463257  \n",
      "[117] Loss : 0.11072877794504166    Accuracy : 0.9572666883468628  \n",
      "[118] Loss : 0.11071695387363434    Accuracy : 0.9573000073432922  \n",
      "[119] Loss : 0.11070515960454941    Accuracy : 0.9573000073432922  \n",
      "[120] Loss : 0.11069335788488388    Accuracy : 0.9573000073432922  \n",
      "[121] Loss : 0.11068157851696014    Accuracy : 0.9573000073432922  \n",
      "[122] Loss : 0.110669806599617      Accuracy : 0.9573333263397217  \n",
      "[123] Loss : 0.11065805703401566    Accuracy : 0.9573166370391846  \n",
      "[124] Loss : 0.1106463149189949     Accuracy : 0.9573333263397217  \n",
      "[125] Loss : 0.11063458770513535    Accuracy : 0.9573333263397217  \n",
      "[126] Loss : 0.11062288284301758    Accuracy : 0.9573666453361511  \n",
      "[127] Loss : 0.11061117798089981    Accuracy : 0.9573666453361511  \n",
      "[128] Loss : 0.11059950292110443    Accuracy : 0.9574000239372253  \n",
      "[129] Loss : 0.11058782786130905    Accuracy : 0.9574000239372253  \n",
      "[130] Loss : 0.11057618260383606    Accuracy : 0.9574000239372253  \n",
      "[131] Loss : 0.11056453734636307    Accuracy : 0.9574000239372253  \n",
      "[132] Loss : 0.11055291444063187    Accuracy : 0.9574000239372253  \n",
      "[133] Loss : 0.11054130643606186    Accuracy : 0.9574000239372253  \n",
      "[134] Loss : 0.11052970588207245    Accuracy : 0.9574000239372253  \n",
      "[135] Loss : 0.11051811277866364    Accuracy : 0.9574000239372253  \n",
      "[136] Loss : 0.11050653457641602    Accuracy : 0.9574166536331177  \n",
      "[137] Loss : 0.11049498617649078    Accuracy : 0.9574166536331177  \n",
      "[138] Loss : 0.11048343032598495    Accuracy : 0.9574166536331177  \n",
      "[139] Loss : 0.11047190427780151    Accuracy : 0.9574166536331177  \n",
      "[140] Loss : 0.11046038568019867    Accuracy : 0.9574166536331177  \n",
      "[141] Loss : 0.11044887453317642    Accuracy : 0.9574333429336548  \n",
      "[142] Loss : 0.11043739318847656    Accuracy : 0.9574499726295471  \n",
      "[143] Loss : 0.1104259267449379     Accuracy : 0.9574333429336548  \n",
      "[144] Loss : 0.11041445285081863    Accuracy : 0.9574333429336548  \n",
      "[145] Loss : 0.11040300130844116    Accuracy : 0.9574333429336548  \n",
      "[146] Loss : 0.11039157211780548    Accuracy : 0.9574333429336548  \n",
      "[147] Loss : 0.1103801503777504     Accuracy : 0.9574666619300842  \n",
      "[148] Loss : 0.11036873608827591    Accuracy : 0.9574666619300842  \n",
      "[149] Loss : 0.11035734415054321    Accuracy : 0.9574666619300842  \n"
     ]
    }
   ],
   "source": [
    "loss_list = []\n",
    "accuracy_list = []\n",
    "\n",
    "for ep in range(EPOCHS):\n",
    "    # 학습\n",
    "    y_pred = model(x_train)\n",
    "    # print(f'예측값 : {y_pred}')\n",
    "    \n",
    "    # 분류값 변환\n",
    "    y_pred2 = F.sigmoid(y_pred)     # [0, 1) 값으로 변환\n",
    "    # print(f'분류값 : {y_pred2}')\n",
    "    \n",
    "    # 오차 즉 손실 계산\n",
    "    loss = F.binary_cross_entropy(y_pred2, y_train)     # y_train이 Float 여야 함\n",
    "    loss_list.append(loss.item())\n",
    "    print(f'[{ep:3}] Loss : {loss:<20}   ', end='')\n",
    "    \n",
    "    # W, b 업데이트\n",
    "    optimizer.zero_grad()\n",
    "    loss.backward()                 # 손실함수 계산값으로 미분 진행하여 새로운 W, b 계산\n",
    "    optimizer.step()                # 새로운 값으로 W, b 업데이트\n",
    "    \n",
    "    # 정확도 계산 => 예측값을 0과 1로 변환 -> 정답과 비교\n",
    "    train_accuracy = ((y_train == (y_pred2 >= 0.5)).sum()) / y_train.shape[0]\n",
    "    accuracy_list.append(train_accuracy)\n",
    "    print(f'Accuracy : {train_accuracy:<20}')"
   ],
   "metadata": {
    "collapsed": false,
    "ExecuteTime": {
     "end_time": "2024-03-14T05:06:03.503151800Z",
     "start_time": "2024-03-14T05:06:01.738572300Z"
    }
   },
   "execution_count": 222
  },
  {
   "cell_type": "code",
   "outputs": [
    {
     "data": {
      "text/plain": "<Figure size 640x480 with 2 Axes>",
      "image/png": "[encoded data removed]"
     },
     "metadata": {},
     "output_type": "display_data"
    }
   ],
   "source": [
    "## 손실과 정확도 시각화\n",
    "import matplotlib.pyplot as plt\n",
    "\n",
    "fig, ax1 = plt.subplots()       # 축 정보를 갖고 있는 것이 ax1\n",
    "ax1.plot(loss_list, label='Loss', color='red')\n",
    "\n",
    "# x축 공유\n",
    "ax2 = ax1.twinx()\n",
    "ax2.plot(accuracy_list, label='Accuracy', color='blue')\n",
    "\n",
    "ax1.set_xlabel('Epochs')\n",
    "ax1.legend(loc='upper left')\n",
    "ax2.legend(loc='upper right')\n",
    "plt.show()"
   ],
   "metadata": {
    "collapsed": false,
    "ExecuteTime": {
     "end_time": "2024-03-14T05:33:27.374649100Z",
     "start_time": "2024-03-14T05:33:27.198671600Z"
    }
   },
   "execution_count": 237
  },
  {
   "cell_type": "code",
   "outputs": [],
   "source": [],
   "metadata": {
    "collapsed": false
   }
  }
 ],
 "metadata": {
  "kernelspec": {
   "display_name": "TORCH_PY38",
   "language": "python",
   "name": "python3"
  },
  "language_info": {
   "codemirror_mode": {
    "name": "ipython",
    "version": 3
   },
   "file_extension": ".py",
   "mimetype": "text/x-python",
   "name": "python",
   "nbconvert_exporter": "python",
   "pygments_lexer": "ipython3",
   "version": "3.8.18"
  }
 },
 "nbformat": 4,
 "nbformat_minor": 2
}
