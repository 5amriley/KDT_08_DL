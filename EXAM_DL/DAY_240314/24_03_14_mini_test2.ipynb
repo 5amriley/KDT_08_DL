{
 "cells": [
  {
   "cell_type": "markdown",
   "source": [
    "### softmax(), sigmoid() 함수 <hr>\n",
    "- sigmoid() : y=wx+b 결과    1개 전달 => 반환 : 0.0 ~ 1.0 사이 값으로 변환\n",
    "- softmax() : y=wx+b 결과 여러개 전달 => 반환 : 여러개의 결과값의 합이 1.0이 되도록 변환 => 다중분류"
   ],
   "metadata": {
    "collapsed": false
   }
  },
  {
   "cell_type": "code",
   "outputs": [],
   "source": [
    "# 모듈 로딩\n",
    "import torch                        # PyTorch 기본 모듈 (텐서 및 기본 함수들)\n",
    "import torch.nn.functional as F     # PyTorch 인공신경망 관련 함수들"
   ],
   "metadata": {
    "collapsed": false,
    "ExecuteTime": {
     "end_time": "2024-03-14T05:41:25.419204200Z",
     "start_time": "2024-03-14T05:41:23.450039600Z"
    }
   },
   "execution_count": 1
  },
  {
   "cell_type": "code",
   "outputs": [
    {
     "data": {
      "text/plain": "torch.Size([5])"
     },
     "execution_count": 2,
     "metadata": {},
     "output_type": "execute_result"
    }
   ],
   "source": [
    "# 임의 데이터 생성\n",
    "data1 = torch.tensor([1, 2, 1, 1, 2])\n",
    "data1.shape"
   ],
   "metadata": {
    "collapsed": false,
    "ExecuteTime": {
     "end_time": "2024-03-14T05:41:25.435205Z",
     "start_time": "2024-03-14T05:41:25.420205Z"
    }
   },
   "execution_count": 2
  },
  {
   "cell_type": "code",
   "outputs": [
    {
     "data": {
      "text/plain": "tensor([0.7311, 0.8808, 0.7311, 0.7311, 0.8808])"
     },
     "execution_count": 3,
     "metadata": {},
     "output_type": "execute_result"
    }
   ],
   "source": [
    "F.sigmoid(data1)"
   ],
   "metadata": {
    "collapsed": false,
    "ExecuteTime": {
     "end_time": "2024-03-14T05:41:25.474205900Z",
     "start_time": "2024-03-14T05:41:25.435205Z"
    }
   },
   "execution_count": 3
  },
  {
   "cell_type": "code",
   "outputs": [
    {
     "data": {
      "text/plain": "torch.Size([5, 1])"
     },
     "execution_count": 4,
     "metadata": {},
     "output_type": "execute_result"
    }
   ],
   "source": [
    "data1.unsqueeze_(dim=1)\n",
    "data1.shape"
   ],
   "metadata": {
    "collapsed": false,
    "ExecuteTime": {
     "end_time": "2024-03-14T05:41:25.476203800Z",
     "start_time": "2024-03-14T05:41:25.453204100Z"
    }
   },
   "execution_count": 4
  },
  {
   "cell_type": "code",
   "outputs": [
    {
     "name": "stderr",
     "output_type": "stream",
     "text": [
      "C:\\Users\\kdp\\AppData\\Local\\Temp\\ipykernel_17528\\3182668218.py:2: UserWarning: Implicit dimension choice for softmax has been deprecated. Change the call to include dim=X as an argument.\n",
      "  output = F.softmax(input)\n"
     ]
    },
    {
     "data": {
      "text/plain": "tensor([1., 1.])"
     },
     "execution_count": 5,
     "metadata": {},
     "output_type": "execute_result"
    }
   ],
   "source": [
    "input = torch.rand(2, 3)\n",
    "output = F.softmax(input)\n",
    "output.sum(dim=1)"
   ],
   "metadata": {
    "collapsed": false,
    "ExecuteTime": {
     "end_time": "2024-03-14T05:41:25.539101800Z",
     "start_time": "2024-03-14T05:41:25.469204500Z"
    }
   },
   "execution_count": 5
  },
  {
   "cell_type": "code",
   "outputs": [
    {
     "data": {
      "text/plain": "2"
     },
     "execution_count": 6,
     "metadata": {},
     "output_type": "execute_result"
    }
   ],
   "source": [
    "output.max(dim=1)[1][0].item()"
   ],
   "metadata": {
    "collapsed": false,
    "ExecuteTime": {
     "end_time": "2024-03-14T05:41:25.541106800Z",
     "start_time": "2024-03-14T05:41:25.482204800Z"
    }
   },
   "execution_count": 6
  },
  {
   "cell_type": "code",
   "outputs": [
    {
     "data": {
      "text/plain": "tensor([2, 1])"
     },
     "execution_count": 7,
     "metadata": {},
     "output_type": "execute_result"
    }
   ],
   "source": [
    "output.argmax(dim=1)"
   ],
   "metadata": {
    "collapsed": false,
    "ExecuteTime": {
     "end_time": "2024-03-14T05:41:25.548879Z",
     "start_time": "2024-03-14T05:41:25.499388200Z"
    }
   },
   "execution_count": 7
  },
  {
   "cell_type": "markdown",
   "source": [
    "[5] 번 문제 풀이"
   ],
   "metadata": {
    "collapsed": false
   }
  },
  {
   "cell_type": "markdown",
   "source": [
    "(1) 모듈 로딩 및 데이터 준비"
   ],
   "metadata": {
    "collapsed": false
   }
  },
  {
   "cell_type": "code",
   "outputs": [],
   "source": [
    "# 모듈 로딩\n",
    "from sklearn.datasets import fetch_openml\n",
    "import pandas as pd\n",
    "import numpy as np\n",
    "\n",
    "import torch\n",
    "import torch.nn as nn               # LinearRegression 기능의 클래스 Linear\n",
    "import torch.nn.functional as F     # 손실함수\n",
    "import torch.optim as optim     # 경사하강법 기반의 최적화 관련 모듈"
   ],
   "metadata": {
    "collapsed": false,
    "ExecuteTime": {
     "end_time": "2024-03-14T05:41:27.041070400Z",
     "start_time": "2024-03-14T05:41:25.515901Z"
    }
   },
   "execution_count": 8
  },
  {
   "cell_type": "code",
   "outputs": [],
   "source": [
    "# 데이터 준비\n",
    "fashion_db = 'fashion-mnist'\n",
    "\n",
    "fashion_data = fetch_openml(name=fashion_db, parser='auto') #, as_frame=False)"
   ],
   "metadata": {
    "collapsed": false,
    "ExecuteTime": {
     "end_time": "2024-03-14T05:41:30.905189300Z",
     "start_time": "2024-03-14T05:41:27.043071100Z"
    }
   },
   "execution_count": 9
  },
  {
   "cell_type": "code",
   "outputs": [],
   "source": [
    "feature = fashion_data['data']\n",
    "target = fashion_data['target']"
   ],
   "metadata": {
    "collapsed": false,
    "ExecuteTime": {
     "end_time": "2024-03-14T05:41:30.922187200Z",
     "start_time": "2024-03-14T05:41:30.908187200Z"
    }
   },
   "execution_count": 10
  },
  {
   "cell_type": "code",
   "outputs": [
    {
     "name": "stdout",
     "output_type": "stream",
     "text": [
      "feature => (70000, 784), 2D\n",
      "target => (70000,), 1D\n"
     ]
    }
   ],
   "source": [
    "# 피처와 타겟 개수 확인\n",
    "print(f'feature => {feature.shape}, {feature.ndim}D')\n",
    "print(f'target => {target.shape}, {target.ndim}D')"
   ],
   "metadata": {
    "collapsed": false,
    "ExecuteTime": {
     "end_time": "2024-03-14T05:41:30.955186800Z",
     "start_time": "2024-03-14T05:41:30.926188700Z"
    }
   },
   "execution_count": 11
  },
  {
   "cell_type": "code",
   "outputs": [
    {
     "name": "stdout",
     "output_type": "stream",
     "text": [
      "feature name => ['pixel1', 'pixel2', 'pixel3', 'pixel4', 'pixel5', 'pixel6', 'pixel7', 'pixel8', 'pixel9', 'pixel10', 'pixel11', 'pixel12', 'pixel13', 'pixel14', 'pixel15', 'pixel16', 'pixel17', 'pixel18', 'pixel19', 'pixel20', 'pixel21', 'pixel22', 'pixel23', 'pixel24', 'pixel25', 'pixel26', 'pixel27', 'pixel28', 'pixel29', 'pixel30', 'pixel31', 'pixel32', 'pixel33', 'pixel34', 'pixel35', 'pixel36', 'pixel37', 'pixel38', 'pixel39', 'pixel40', 'pixel41', 'pixel42', 'pixel43', 'pixel44', 'pixel45', 'pixel46', 'pixel47', 'pixel48', 'pixel49', 'pixel50', 'pixel51', 'pixel52', 'pixel53', 'pixel54', 'pixel55', 'pixel56', 'pixel57', 'pixel58', 'pixel59', 'pixel60', 'pixel61', 'pixel62', 'pixel63', 'pixel64', 'pixel65', 'pixel66', 'pixel67', 'pixel68', 'pixel69', 'pixel70', 'pixel71', 'pixel72', 'pixel73', 'pixel74', 'pixel75', 'pixel76', 'pixel77', 'pixel78', 'pixel79', 'pixel80', 'pixel81', 'pixel82', 'pixel83', 'pixel84', 'pixel85', 'pixel86', 'pixel87', 'pixel88', 'pixel89', 'pixel90', 'pixel91', 'pixel92', 'pixel93', 'pixel94', 'pixel95', 'pixel96', 'pixel97', 'pixel98', 'pixel99', 'pixel100', 'pixel101', 'pixel102', 'pixel103', 'pixel104', 'pixel105', 'pixel106', 'pixel107', 'pixel108', 'pixel109', 'pixel110', 'pixel111', 'pixel112', 'pixel113', 'pixel114', 'pixel115', 'pixel116', 'pixel117', 'pixel118', 'pixel119', 'pixel120', 'pixel121', 'pixel122', 'pixel123', 'pixel124', 'pixel125', 'pixel126', 'pixel127', 'pixel128', 'pixel129', 'pixel130', 'pixel131', 'pixel132', 'pixel133', 'pixel134', 'pixel135', 'pixel136', 'pixel137', 'pixel138', 'pixel139', 'pixel140', 'pixel141', 'pixel142', 'pixel143', 'pixel144', 'pixel145', 'pixel146', 'pixel147', 'pixel148', 'pixel149', 'pixel150', 'pixel151', 'pixel152', 'pixel153', 'pixel154', 'pixel155', 'pixel156', 'pixel157', 'pixel158', 'pixel159', 'pixel160', 'pixel161', 'pixel162', 'pixel163', 'pixel164', 'pixel165', 'pixel166', 'pixel167', 'pixel168', 'pixel169', 'pixel170', 'pixel171', 'pixel172', 'pixel173', 'pixel174', 'pixel175', 'pixel176', 'pixel177', 'pixel178', 'pixel179', 'pixel180', 'pixel181', 'pixel182', 'pixel183', 'pixel184', 'pixel185', 'pixel186', 'pixel187', 'pixel188', 'pixel189', 'pixel190', 'pixel191', 'pixel192', 'pixel193', 'pixel194', 'pixel195', 'pixel196', 'pixel197', 'pixel198', 'pixel199', 'pixel200', 'pixel201', 'pixel202', 'pixel203', 'pixel204', 'pixel205', 'pixel206', 'pixel207', 'pixel208', 'pixel209', 'pixel210', 'pixel211', 'pixel212', 'pixel213', 'pixel214', 'pixel215', 'pixel216', 'pixel217', 'pixel218', 'pixel219', 'pixel220', 'pixel221', 'pixel222', 'pixel223', 'pixel224', 'pixel225', 'pixel226', 'pixel227', 'pixel228', 'pixel229', 'pixel230', 'pixel231', 'pixel232', 'pixel233', 'pixel234', 'pixel235', 'pixel236', 'pixel237', 'pixel238', 'pixel239', 'pixel240', 'pixel241', 'pixel242', 'pixel243', 'pixel244', 'pixel245', 'pixel246', 'pixel247', 'pixel248', 'pixel249', 'pixel250', 'pixel251', 'pixel252', 'pixel253', 'pixel254', 'pixel255', 'pixel256', 'pixel257', 'pixel258', 'pixel259', 'pixel260', 'pixel261', 'pixel262', 'pixel263', 'pixel264', 'pixel265', 'pixel266', 'pixel267', 'pixel268', 'pixel269', 'pixel270', 'pixel271', 'pixel272', 'pixel273', 'pixel274', 'pixel275', 'pixel276', 'pixel277', 'pixel278', 'pixel279', 'pixel280', 'pixel281', 'pixel282', 'pixel283', 'pixel284', 'pixel285', 'pixel286', 'pixel287', 'pixel288', 'pixel289', 'pixel290', 'pixel291', 'pixel292', 'pixel293', 'pixel294', 'pixel295', 'pixel296', 'pixel297', 'pixel298', 'pixel299', 'pixel300', 'pixel301', 'pixel302', 'pixel303', 'pixel304', 'pixel305', 'pixel306', 'pixel307', 'pixel308', 'pixel309', 'pixel310', 'pixel311', 'pixel312', 'pixel313', 'pixel314', 'pixel315', 'pixel316', 'pixel317', 'pixel318', 'pixel319', 'pixel320', 'pixel321', 'pixel322', 'pixel323', 'pixel324', 'pixel325', 'pixel326', 'pixel327', 'pixel328', 'pixel329', 'pixel330', 'pixel331', 'pixel332', 'pixel333', 'pixel334', 'pixel335', 'pixel336', 'pixel337', 'pixel338', 'pixel339', 'pixel340', 'pixel341', 'pixel342', 'pixel343', 'pixel344', 'pixel345', 'pixel346', 'pixel347', 'pixel348', 'pixel349', 'pixel350', 'pixel351', 'pixel352', 'pixel353', 'pixel354', 'pixel355', 'pixel356', 'pixel357', 'pixel358', 'pixel359', 'pixel360', 'pixel361', 'pixel362', 'pixel363', 'pixel364', 'pixel365', 'pixel366', 'pixel367', 'pixel368', 'pixel369', 'pixel370', 'pixel371', 'pixel372', 'pixel373', 'pixel374', 'pixel375', 'pixel376', 'pixel377', 'pixel378', 'pixel379', 'pixel380', 'pixel381', 'pixel382', 'pixel383', 'pixel384', 'pixel385', 'pixel386', 'pixel387', 'pixel388', 'pixel389', 'pixel390', 'pixel391', 'pixel392', 'pixel393', 'pixel394', 'pixel395', 'pixel396', 'pixel397', 'pixel398', 'pixel399', 'pixel400', 'pixel401', 'pixel402', 'pixel403', 'pixel404', 'pixel405', 'pixel406', 'pixel407', 'pixel408', 'pixel409', 'pixel410', 'pixel411', 'pixel412', 'pixel413', 'pixel414', 'pixel415', 'pixel416', 'pixel417', 'pixel418', 'pixel419', 'pixel420', 'pixel421', 'pixel422', 'pixel423', 'pixel424', 'pixel425', 'pixel426', 'pixel427', 'pixel428', 'pixel429', 'pixel430', 'pixel431', 'pixel432', 'pixel433', 'pixel434', 'pixel435', 'pixel436', 'pixel437', 'pixel438', 'pixel439', 'pixel440', 'pixel441', 'pixel442', 'pixel443', 'pixel444', 'pixel445', 'pixel446', 'pixel447', 'pixel448', 'pixel449', 'pixel450', 'pixel451', 'pixel452', 'pixel453', 'pixel454', 'pixel455', 'pixel456', 'pixel457', 'pixel458', 'pixel459', 'pixel460', 'pixel461', 'pixel462', 'pixel463', 'pixel464', 'pixel465', 'pixel466', 'pixel467', 'pixel468', 'pixel469', 'pixel470', 'pixel471', 'pixel472', 'pixel473', 'pixel474', 'pixel475', 'pixel476', 'pixel477', 'pixel478', 'pixel479', 'pixel480', 'pixel481', 'pixel482', 'pixel483', 'pixel484', 'pixel485', 'pixel486', 'pixel487', 'pixel488', 'pixel489', 'pixel490', 'pixel491', 'pixel492', 'pixel493', 'pixel494', 'pixel495', 'pixel496', 'pixel497', 'pixel498', 'pixel499', 'pixel500', 'pixel501', 'pixel502', 'pixel503', 'pixel504', 'pixel505', 'pixel506', 'pixel507', 'pixel508', 'pixel509', 'pixel510', 'pixel511', 'pixel512', 'pixel513', 'pixel514', 'pixel515', 'pixel516', 'pixel517', 'pixel518', 'pixel519', 'pixel520', 'pixel521', 'pixel522', 'pixel523', 'pixel524', 'pixel525', 'pixel526', 'pixel527', 'pixel528', 'pixel529', 'pixel530', 'pixel531', 'pixel532', 'pixel533', 'pixel534', 'pixel535', 'pixel536', 'pixel537', 'pixel538', 'pixel539', 'pixel540', 'pixel541', 'pixel542', 'pixel543', 'pixel544', 'pixel545', 'pixel546', 'pixel547', 'pixel548', 'pixel549', 'pixel550', 'pixel551', 'pixel552', 'pixel553', 'pixel554', 'pixel555', 'pixel556', 'pixel557', 'pixel558', 'pixel559', 'pixel560', 'pixel561', 'pixel562', 'pixel563', 'pixel564', 'pixel565', 'pixel566', 'pixel567', 'pixel568', 'pixel569', 'pixel570', 'pixel571', 'pixel572', 'pixel573', 'pixel574', 'pixel575', 'pixel576', 'pixel577', 'pixel578', 'pixel579', 'pixel580', 'pixel581', 'pixel582', 'pixel583', 'pixel584', 'pixel585', 'pixel586', 'pixel587', 'pixel588', 'pixel589', 'pixel590', 'pixel591', 'pixel592', 'pixel593', 'pixel594', 'pixel595', 'pixel596', 'pixel597', 'pixel598', 'pixel599', 'pixel600', 'pixel601', 'pixel602', 'pixel603', 'pixel604', 'pixel605', 'pixel606', 'pixel607', 'pixel608', 'pixel609', 'pixel610', 'pixel611', 'pixel612', 'pixel613', 'pixel614', 'pixel615', 'pixel616', 'pixel617', 'pixel618', 'pixel619', 'pixel620', 'pixel621', 'pixel622', 'pixel623', 'pixel624', 'pixel625', 'pixel626', 'pixel627', 'pixel628', 'pixel629', 'pixel630', 'pixel631', 'pixel632', 'pixel633', 'pixel634', 'pixel635', 'pixel636', 'pixel637', 'pixel638', 'pixel639', 'pixel640', 'pixel641', 'pixel642', 'pixel643', 'pixel644', 'pixel645', 'pixel646', 'pixel647', 'pixel648', 'pixel649', 'pixel650', 'pixel651', 'pixel652', 'pixel653', 'pixel654', 'pixel655', 'pixel656', 'pixel657', 'pixel658', 'pixel659', 'pixel660', 'pixel661', 'pixel662', 'pixel663', 'pixel664', 'pixel665', 'pixel666', 'pixel667', 'pixel668', 'pixel669', 'pixel670', 'pixel671', 'pixel672', 'pixel673', 'pixel674', 'pixel675', 'pixel676', 'pixel677', 'pixel678', 'pixel679', 'pixel680', 'pixel681', 'pixel682', 'pixel683', 'pixel684', 'pixel685', 'pixel686', 'pixel687', 'pixel688', 'pixel689', 'pixel690', 'pixel691', 'pixel692', 'pixel693', 'pixel694', 'pixel695', 'pixel696', 'pixel697', 'pixel698', 'pixel699', 'pixel700', 'pixel701', 'pixel702', 'pixel703', 'pixel704', 'pixel705', 'pixel706', 'pixel707', 'pixel708', 'pixel709', 'pixel710', 'pixel711', 'pixel712', 'pixel713', 'pixel714', 'pixel715', 'pixel716', 'pixel717', 'pixel718', 'pixel719', 'pixel720', 'pixel721', 'pixel722', 'pixel723', 'pixel724', 'pixel725', 'pixel726', 'pixel727', 'pixel728', 'pixel729', 'pixel730', 'pixel731', 'pixel732', 'pixel733', 'pixel734', 'pixel735', 'pixel736', 'pixel737', 'pixel738', 'pixel739', 'pixel740', 'pixel741', 'pixel742', 'pixel743', 'pixel744', 'pixel745', 'pixel746', 'pixel747', 'pixel748', 'pixel749', 'pixel750', 'pixel751', 'pixel752', 'pixel753', 'pixel754', 'pixel755', 'pixel756', 'pixel757', 'pixel758', 'pixel759', 'pixel760', 'pixel761', 'pixel762', 'pixel763', 'pixel764', 'pixel765', 'pixel766', 'pixel767', 'pixel768', 'pixel769', 'pixel770', 'pixel771', 'pixel772', 'pixel773', 'pixel774', 'pixel775', 'pixel776', 'pixel777', 'pixel778', 'pixel779', 'pixel780', 'pixel781', 'pixel782', 'pixel783', 'pixel784']\n",
      "target name => ['class']\n",
      "categories => None\n",
      "categories -> ['9', '0', '3', '2', '7', '5', '1', '6', '4', '8']\n",
      "Categories (10, object): ['0', '1', '2', '3', ..., '6', '7', '8', '9']\n"
     ]
    }
   ],
   "source": [
    "# 분류 확인\n",
    "print(f'feature name => {fashion_data[\"feature_names\"]}')\n",
    "print(f'target name => {fashion_data[\"target_names\"]}')\n",
    "print(f'categories => {fashion_data[\"categories\"]}')\n",
    "print(f'categories -> {target.unique()}')"
   ],
   "metadata": {
    "collapsed": false,
    "ExecuteTime": {
     "end_time": "2024-03-14T05:41:30.959187500Z",
     "start_time": "2024-03-14T05:41:30.943187200Z"
    }
   },
   "execution_count": 12
  },
  {
   "cell_type": "markdown",
   "source": [
    "(2) 데이터 가공 및 전처리 <hr>\n",
    "- 결측치/중복/이상치 => 없음\n",
    "- 다중분류 => 2진분류 변환 : target 변환\n",
    "- 표준화 => 이미지 처리 (동일 크기 및 색상채널) : 동일크기(28x28)와 채널(흑백 1)\n",
    "- 정규화 => 피처 정규화 / 타겟 정규화"
   ],
   "metadata": {
    "collapsed": false
   }
  },
  {
   "cell_type": "code",
   "outputs": [
    {
     "data": {
      "text/plain": "array([False,  True])"
     },
     "execution_count": 13,
     "metadata": {},
     "output_type": "execute_result"
    }
   ],
   "source": [
    "## => [2-1] 다중분류 => 2진분류 (변환 : target 변환)\n",
    "target = target == '0'\n",
    "target.unique()"
   ],
   "metadata": {
    "collapsed": false,
    "ExecuteTime": {
     "end_time": "2024-03-14T05:41:31.019187300Z",
     "start_time": "2024-03-14T05:41:30.956187500Z"
    }
   },
   "execution_count": 13
  },
  {
   "cell_type": "code",
   "outputs": [
    {
     "data": {
      "text/plain": "   pixel1  pixel2  pixel3  pixel4  pixel5    pixel6  pixel7  pixel8  pixel9  \\\n0     0.0     0.0     0.0     0.0     0.0  0.000000     0.0     0.0     0.0   \n1     0.0     0.0     0.0     0.0     0.0  0.003922     0.0     0.0     0.0   \n\n   pixel10  ...  pixel775  pixel776  pixel777  pixel778  pixel779  pixel780  \\\n0      0.0  ...  0.000000  0.000000  0.000000  0.000000       0.0       0.0   \n1      0.0  ...  0.466667  0.447059  0.509804  0.298039       0.0       0.0   \n\n   pixel781  pixel782  pixel783  pixel784  \n0       0.0       0.0       0.0       0.0  \n1       0.0       0.0       0.0       0.0  \n\n[2 rows x 784 columns]",
      "text/html": "<div>\n<style scoped>\n    .dataframe tbody tr th:only-of-type {\n        vertical-align: middle;\n    }\n\n    .dataframe tbody tr th {\n        vertical-align: top;\n    }\n\n    .dataframe thead th {\n        text-align: right;\n    }\n</style>\n<table border=\"1\" class=\"dataframe\">\n  <thead>\n    <tr style=\"text-align: right;\">\n      <th></th>\n      <th>pixel1</th>\n      <th>pixel2</th>\n      <th>pixel3</th>\n      <th>pixel4</th>\n      <th>pixel5</th>\n      <th>pixel6</th>\n      <th>pixel7</th>\n      <th>pixel8</th>\n      <th>pixel9</th>\n      <th>pixel10</th>\n      <th>...</th>\n      <th>pixel775</th>\n      <th>pixel776</th>\n      <th>pixel777</th>\n      <th>pixel778</th>\n      <th>pixel779</th>\n      <th>pixel780</th>\n      <th>pixel781</th>\n      <th>pixel782</th>\n      <th>pixel783</th>\n      <th>pixel784</th>\n    </tr>\n  </thead>\n  <tbody>\n    <tr>\n      <th>0</th>\n      <td>0.0</td>\n      <td>0.0</td>\n      <td>0.0</td>\n      <td>0.0</td>\n      <td>0.0</td>\n      <td>0.000000</td>\n      <td>0.0</td>\n      <td>0.0</td>\n      <td>0.0</td>\n      <td>0.0</td>\n      <td>...</td>\n      <td>0.000000</td>\n      <td>0.000000</td>\n      <td>0.000000</td>\n      <td>0.000000</td>\n      <td>0.0</td>\n      <td>0.0</td>\n      <td>0.0</td>\n      <td>0.0</td>\n      <td>0.0</td>\n      <td>0.0</td>\n    </tr>\n    <tr>\n      <th>1</th>\n      <td>0.0</td>\n      <td>0.0</td>\n      <td>0.0</td>\n      <td>0.0</td>\n      <td>0.0</td>\n      <td>0.003922</td>\n      <td>0.0</td>\n      <td>0.0</td>\n      <td>0.0</td>\n      <td>0.0</td>\n      <td>...</td>\n      <td>0.466667</td>\n      <td>0.447059</td>\n      <td>0.509804</td>\n      <td>0.298039</td>\n      <td>0.0</td>\n      <td>0.0</td>\n      <td>0.0</td>\n      <td>0.0</td>\n      <td>0.0</td>\n      <td>0.0</td>\n    </tr>\n  </tbody>\n</table>\n<p>2 rows × 784 columns</p>\n</div>"
     },
     "execution_count": 14,
     "metadata": {},
     "output_type": "execute_result"
    }
   ],
   "source": [
    "## => [2-2] 정규화 => 피처 : 784개는 색상값 (0 ~ 255 범위 값)\n",
    "norm_feature = feature / 255.\n",
    "norm_feature.head(2)"
   ],
   "metadata": {
    "collapsed": false,
    "ExecuteTime": {
     "end_time": "2024-03-14T05:41:31.110160700Z",
     "start_time": "2024-03-14T05:41:30.974188Z"
    }
   },
   "execution_count": 14
  },
  {
   "cell_type": "code",
   "outputs": [
    {
     "data": {
      "text/plain": "       False  True \n0       True  False\n1      False   True\n2      False   True\n3       True  False\n4      False   True\n...      ...    ...\n69995   True  False\n69996   True  False\n69997   True  False\n69998   True  False\n69999   True  False\n\n[70000 rows x 2 columns]",
      "text/html": "<div>\n<style scoped>\n    .dataframe tbody tr th:only-of-type {\n        vertical-align: middle;\n    }\n\n    .dataframe tbody tr th {\n        vertical-align: top;\n    }\n\n    .dataframe thead th {\n        text-align: right;\n    }\n</style>\n<table border=\"1\" class=\"dataframe\">\n  <thead>\n    <tr style=\"text-align: right;\">\n      <th></th>\n      <th>False</th>\n      <th>True</th>\n    </tr>\n  </thead>\n  <tbody>\n    <tr>\n      <th>0</th>\n      <td>True</td>\n      <td>False</td>\n    </tr>\n    <tr>\n      <th>1</th>\n      <td>False</td>\n      <td>True</td>\n    </tr>\n    <tr>\n      <th>2</th>\n      <td>False</td>\n      <td>True</td>\n    </tr>\n    <tr>\n      <th>3</th>\n      <td>True</td>\n      <td>False</td>\n    </tr>\n    <tr>\n      <th>4</th>\n      <td>False</td>\n      <td>True</td>\n    </tr>\n    <tr>\n      <th>...</th>\n      <td>...</td>\n      <td>...</td>\n    </tr>\n    <tr>\n      <th>69995</th>\n      <td>True</td>\n      <td>False</td>\n    </tr>\n    <tr>\n      <th>69996</th>\n      <td>True</td>\n      <td>False</td>\n    </tr>\n    <tr>\n      <th>69997</th>\n      <td>True</td>\n      <td>False</td>\n    </tr>\n    <tr>\n      <th>69998</th>\n      <td>True</td>\n      <td>False</td>\n    </tr>\n    <tr>\n      <th>69999</th>\n      <td>True</td>\n      <td>False</td>\n    </tr>\n  </tbody>\n</table>\n<p>70000 rows × 2 columns</p>\n</div>"
     },
     "execution_count": 15,
     "metadata": {},
     "output_type": "execute_result"
    }
   ],
   "source": [
    "## => [2-2] 정규화 => 타겟 : One-Hot-Encoding 으로 변환\n",
    "pd.get_dummies(target)      # DataFrame 에서 바로 생성"
   ],
   "metadata": {
    "collapsed": false,
    "ExecuteTime": {
     "end_time": "2024-03-14T05:41:31.219754200Z",
     "start_time": "2024-03-14T05:41:31.113266900Z"
    }
   },
   "execution_count": 15
  },
  {
   "cell_type": "code",
   "outputs": [
    {
     "data": {
      "text/plain": "(pandas.core.series.Series, (70000,), 1)"
     },
     "execution_count": 16,
     "metadata": {},
     "output_type": "execute_result"
    }
   ],
   "source": [
    "type(target), target.shape, target.ndim"
   ],
   "metadata": {
    "collapsed": false,
    "ExecuteTime": {
     "end_time": "2024-03-14T05:41:31.267753800Z",
     "start_time": "2024-03-14T05:41:31.144691200Z"
    }
   },
   "execution_count": 16
  },
  {
   "cell_type": "code",
   "outputs": [
    {
     "name": "stdout",
     "output_type": "stream",
     "text": [
      "(70000, 1) 2\n"
     ]
    }
   ],
   "source": [
    "targetDF = target.to_frame()    # Series(1차원)를 DataFrame(2차원)으로 변환\n",
    "print(targetDF.shape, targetDF.ndim)"
   ],
   "metadata": {
    "collapsed": false,
    "ExecuteTime": {
     "end_time": "2024-03-14T05:41:31.339756300Z",
     "start_time": "2024-03-14T05:41:31.160692600Z"
    }
   },
   "execution_count": 17
  },
  {
   "cell_type": "code",
   "outputs": [
    {
     "data": {
      "text/plain": "[array([False,  True])]"
     },
     "execution_count": 18,
     "metadata": {},
     "output_type": "execute_result"
    }
   ],
   "source": [
    "from sklearn.preprocessing import OneHotEncoder\n",
    "\n",
    "ohEncoder = OneHotEncoder(sparse_output=False)      # sparse_output=False : transform() 반환값 => ndarray\n",
    "ohEncoder.fit(targetDF)                             # 2차원 데이터를 넘겨줘야 함\n",
    "ohEncoder.categories_                               # 0번째 컬럼의 값이 1이면 타겟 값이 False, 1번째 컬럼의 값이 1이면 타겟 값이 True"
   ],
   "metadata": {
    "collapsed": false,
    "ExecuteTime": {
     "end_time": "2024-03-14T05:41:31.340826500Z",
     "start_time": "2024-03-14T05:41:31.176691500Z"
    }
   },
   "execution_count": 18
  },
  {
   "cell_type": "code",
   "outputs": [
    {
     "data": {
      "text/plain": "((70000, 2), 2)"
     },
     "execution_count": 19,
     "metadata": {},
     "output_type": "execute_result"
    }
   ],
   "source": [
    "norm_target = ohEncoder.transform(targetDF)         # One-Hot-Encoding 적용한 y값 (numpy.ndarray)\n",
    "norm_target.shape, norm_target.ndim"
   ],
   "metadata": {
    "collapsed": false,
    "ExecuteTime": {
     "end_time": "2024-03-14T05:41:35.336424700Z",
     "start_time": "2024-03-14T05:41:35.326932Z"
    }
   },
   "execution_count": 19
  },
  {
   "cell_type": "code",
   "outputs": [
    {
     "data": {
      "text/plain": "array([[1., 0.],\n       [0., 1.],\n       [0., 1.],\n       [1., 0.],\n       [0., 1.]])"
     },
     "execution_count": 22,
     "metadata": {},
     "output_type": "execute_result"
    }
   ],
   "source": [
    "norm_target[:5]"
   ],
   "metadata": {
    "collapsed": false,
    "ExecuteTime": {
     "end_time": "2024-03-14T05:41:50.595725Z",
     "start_time": "2024-03-14T05:41:50.563723600Z"
    }
   },
   "execution_count": 22
  },
  {
   "cell_type": "markdown",
   "source": [
    "(3) 학습 준비 <hr>\n",
    "- 데이터셋 준비 : 텐서화 & (훈련용, 테스트용)\n",
    "- 학습 방법 : 지도학습 - 이진분류    (=> Linear 클래스 + sigmoid 함수)\n",
    "- 최적화방법: 경사하강법 기반의 방법 (=> Adam, SGD, ...)\n",
    "- 손실함수 : 이진분류 손실 계산 함수 (=> binary_cross_entropy)"
   ],
   "metadata": {
    "collapsed": false
   }
  },
  {
   "cell_type": "code",
   "outputs": [],
   "source": [
    "### => 데이터셋 준비 : 60000개 훈련, 10000개 테스트\n",
    "limit = 60000\n",
    "train = norm_feature.iloc[:limit]\n",
    "test = norm_feature.iloc[limit:]\n",
    "\n",
    "train_y = norm_target[:limit]\n",
    "test_y = norm_target[limit:]"
   ],
   "metadata": {
    "collapsed": false,
    "ExecuteTime": {
     "end_time": "2024-03-14T05:43:31.610630600Z",
     "start_time": "2024-03-14T05:43:31.593156800Z"
    }
   },
   "execution_count": 24
  },
  {
   "cell_type": "code",
   "outputs": [
    {
     "name": "stdout",
     "output_type": "stream",
     "text": [
      "(60000, 784), (10000, 784)\n",
      "(60000, 2), (10000, 2)\n"
     ]
    }
   ],
   "source": [
    "print(f'{train.shape}, {test.shape}')\n",
    "print(f'{train_y.shape}, {test_y.shape}')"
   ],
   "metadata": {
    "collapsed": false,
    "ExecuteTime": {
     "end_time": "2024-03-14T05:43:33.007310500Z",
     "start_time": "2024-03-14T05:43:32.995311Z"
    }
   },
   "execution_count": 25
  },
  {
   "cell_type": "code",
   "outputs": [],
   "source": [
    "# 텐서로 변환\n",
    "x_train = torch.FloatTensor(train.values)\n",
    "y_test = torch.FloatTensor(test.values)\n",
    "\n",
    "y_train = torch.FloatTensor(train_y)\n",
    "y_test = torch.FloatTensor(test_y)"
   ],
   "metadata": {
    "collapsed": false,
    "ExecuteTime": {
     "end_time": "2024-03-14T06:11:20.361444100Z",
     "start_time": "2024-03-14T06:11:20.300721400Z"
    }
   },
   "execution_count": 84
  },
  {
   "cell_type": "code",
   "outputs": [
    {
     "name": "stdout",
     "output_type": "stream",
     "text": [
      "torch.Size([60000, 784]), 2, torch.Size([60000, 2]), 2\n"
     ]
    }
   ],
   "source": [
    "print(f'{x_train.shape}, {x_train.ndim}, {y_train.shape}, {y_train.ndim}')"
   ],
   "metadata": {
    "collapsed": false,
    "ExecuteTime": {
     "end_time": "2024-03-14T06:11:20.656032100Z",
     "start_time": "2024-03-14T06:11:20.608963800Z"
    }
   },
   "execution_count": 85
  },
  {
   "cell_type": "code",
   "outputs": [
    {
     "data": {
      "text/plain": "Linear(in_features=784, out_features=2, bias=True)"
     },
     "execution_count": 86,
     "metadata": {},
     "output_type": "execute_result"
    }
   ],
   "source": [
    "## 학습 인스턴스 생성\n",
    "in_, out_ = x_train.shape[1], y_train.shape[1]\n",
    "model = nn.Linear(in_, out_)    # w1x1 + w2x2 + ... + w784x784 + b\n",
    "model                           # Linear() 가 필요한 tensor(requires_grad=True)를 생성함"
   ],
   "metadata": {
    "collapsed": false,
    "ExecuteTime": {
     "end_time": "2024-03-14T06:11:20.912395800Z",
     "start_time": "2024-03-14T06:11:20.882395200Z"
    }
   },
   "execution_count": 86
  },
  {
   "cell_type": "code",
   "outputs": [],
   "source": [
    "## 최적화 인스턴스 생성\n",
    "optimizer = optim.Adam(model.parameters())  # [w1, w2, ... , w784, b]"
   ],
   "metadata": {
    "collapsed": false,
    "ExecuteTime": {
     "end_time": "2024-03-14T06:11:21.134625900Z",
     "start_time": "2024-03-14T06:11:21.124626200Z"
    }
   },
   "execution_count": 87
  },
  {
   "cell_type": "code",
   "outputs": [],
   "source": [
    "## 학습 횟수 => 샘플 처음부터 끝까지 읽는 것 기준으로 횟수 지정\n",
    "EPOCHS = 150"
   ],
   "metadata": {
    "collapsed": false,
    "ExecuteTime": {
     "end_time": "2024-03-14T06:11:21.384303600Z",
     "start_time": "2024-03-14T06:11:21.358267400Z"
    }
   },
   "execution_count": 88
  },
  {
   "cell_type": "markdown",
   "source": [
    "(4) 학습 진행"
   ],
   "metadata": {
    "collapsed": false
   }
  },
  {
   "cell_type": "code",
   "outputs": [
    {
     "name": "stdout",
     "output_type": "stream",
     "text": [
      "[  0] Loss : 0.7279089689254761     Accuracy : 0.33828333020210266 \n",
      "[  1] Loss : 0.6427739858627319     Accuracy : 0.8654166460037231  \n",
      "[  2] Loss : 0.5726885795593262     Accuracy : 0.8983333110809326  \n",
      "[  3] Loss : 0.5169045925140381     Accuracy : 0.8999333381652832  \n",
      "[  4] Loss : 0.4738883078098297     Accuracy : 0.8999833464622498  \n",
      "[  5] Loss : 0.44164538383483887    Accuracy : 0.8999999761581421  \n",
      "[  6] Loss : 0.4180569648742676     Accuracy : 0.8999999761581421  \n",
      "[  7] Loss : 0.40112975239753723    Accuracy : 0.8999999761581421  \n",
      "[  8] Loss : 0.38913992047309875    Accuracy : 0.8999999761581421  \n",
      "[  9] Loss : 0.38068097829818726    Accuracy : 0.8999999761581421  \n",
      "[ 10] Loss : 0.37465226650238037    Accuracy : 0.8999999761581421  \n",
      "[ 11] Loss : 0.37021785974502563    Accuracy : 0.8999999761581421  \n",
      "[ 12] Loss : 0.3667580187320709     Accuracy : 0.8999999761581421  \n",
      "[ 13] Loss : 0.3638230264186859     Accuracy : 0.8999999761581421  \n",
      "[ 14] Loss : 0.3610939383506775     Accuracy : 0.8999999761581421  \n",
      "[ 15] Loss : 0.3583514094352722     Accuracy : 0.8999999761581421  \n",
      "[ 16] Loss : 0.35545042157173157    Accuracy : 0.8999999761581421  \n",
      "[ 17] Loss : 0.3523024022579193     Accuracy : 0.8999999761581421  \n",
      "[ 18] Loss : 0.34886062145233154    Accuracy : 0.8999999761581421  \n",
      "[ 19] Loss : 0.3451099097728729     Accuracy : 0.8999999761581421  \n",
      "[ 20] Loss : 0.34105825424194336    Accuracy : 0.8999999761581421  \n",
      "[ 21] Loss : 0.33673134446144104    Accuracy : 0.8999999761581421  \n",
      "[ 22] Loss : 0.3321673572063446     Accuracy : 0.8999999761581421  \n",
      "[ 23] Loss : 0.32741352915763855    Accuracy : 0.8999999761581421  \n",
      "[ 24] Loss : 0.3225230276584625     Accuracy : 0.8999999761581421  \n",
      "[ 25] Loss : 0.3175521790981293     Accuracy : 0.8999999761581421  \n",
      "[ 26] Loss : 0.31255826354026794    Accuracy : 0.9000166654586792  \n",
      "[ 27] Loss : 0.3075971007347107     Accuracy : 0.9000166654586792  \n",
      "[ 28] Loss : 0.302720844745636      Accuracy : 0.9000166654586792  \n",
      "[ 29] Loss : 0.2979758679866791     Accuracy : 0.9000166654586792  \n",
      "[ 30] Loss : 0.2934010326862335     Accuracy : 0.9000166654586792  \n",
      "[ 31] Loss : 0.28902602195739746    Accuracy : 0.9000166654586792  \n",
      "[ 32] Loss : 0.28487011790275574    Accuracy : 0.8999999761581421  \n",
      "[ 33] Loss : 0.28094208240509033    Accuracy : 0.9000166654586792  \n",
      "[ 34] Loss : 0.27724048495292664    Accuracy : 0.9000833630561829  \n",
      "[ 35] Loss : 0.27375489473342896    Accuracy : 0.9001166820526123  \n",
      "[ 36] Loss : 0.2704678177833557     Accuracy : 0.9001500010490417  \n",
      "[ 37] Loss : 0.2673571705818176     Accuracy : 0.9002000093460083  \n",
      "[ 38] Loss : 0.26439881324768066    Accuracy : 0.9003333449363708  \n",
      "[ 39] Loss : 0.2615687847137451     Accuracy : 0.9004999995231628  \n",
      "[ 40] Loss : 0.2588452100753784     Accuracy : 0.9008499979972839  \n",
      "[ 41] Loss : 0.2562093734741211     Accuracy : 0.9011833071708679  \n",
      "[ 42] Loss : 0.2536464035511017     Accuracy : 0.9018999934196472  \n",
      "[ 43] Loss : 0.25114500522613525    Accuracy : 0.9022833108901978  \n",
      "[ 44] Loss : 0.24869710206985474    Accuracy : 0.9031166434288025  \n",
      "[ 45] Loss : 0.2462971806526184     Accuracy : 0.9042166471481323  \n",
      "[ 46] Loss : 0.24394157528877258    Accuracy : 0.9052333235740662  \n",
      "[ 47] Loss : 0.24162787199020386    Accuracy : 0.906416654586792   \n",
      "[ 48] Loss : 0.23935453593730927    Accuracy : 0.9073666930198669  \n",
      "[ 49] Loss : 0.23712067306041718    Accuracy : 0.9084500074386597  \n",
      "[ 50] Loss : 0.2349257916212082     Accuracy : 0.9098166823387146  \n",
      "[ 51] Loss : 0.2327696979045868     Accuracy : 0.9106666445732117  \n",
      "[ 52] Loss : 0.23065263032913208    Accuracy : 0.911899983882904   \n",
      "[ 53] Loss : 0.22857503592967987    Accuracy : 0.9125499725341797  \n",
      "[ 54] Loss : 0.22653764486312866    Accuracy : 0.9134666919708252  \n",
      "[ 55] Loss : 0.22454126179218292    Accuracy : 0.9143499732017517  \n",
      "[ 56] Loss : 0.22258681058883667    Accuracy : 0.9151333570480347  \n",
      "[ 57] Loss : 0.22067515552043915    Accuracy : 0.9160500168800354  \n",
      "[ 58] Loss : 0.21880710124969482    Accuracy : 0.9172499775886536  \n",
      "[ 59] Loss : 0.2169831544160843     Accuracy : 0.9181833267211914  \n",
      "[ 60] Loss : 0.21520373225212097    Accuracy : 0.9192833304405212  \n",
      "[ 61] Loss : 0.21346887946128845    Accuracy : 0.9201499819755554  \n",
      "[ 62] Loss : 0.2117784172296524     Accuracy : 0.9212833046913147  \n",
      "[ 63] Loss : 0.21013186872005463    Accuracy : 0.9221833348274231  \n",
      "[ 64] Loss : 0.20852844417095184    Accuracy : 0.9231500029563904  \n",
      "[ 65] Loss : 0.20696720480918884    Accuracy : 0.9244833588600159  \n",
      "[ 66] Loss : 0.20544679462909698    Accuracy : 0.925433337688446   \n",
      "[ 67] Loss : 0.20396578311920166    Accuracy : 0.9269000291824341  \n",
      "[ 68] Loss : 0.20252259075641632    Accuracy : 0.9285666942596436  \n",
      "[ 69] Loss : 0.2011154741048813     Accuracy : 0.9300166964530945  \n",
      "[ 70] Loss : 0.19974271953105927    Accuracy : 0.9312999844551086  \n",
      "[ 71] Loss : 0.19840258359909058    Accuracy : 0.9324333071708679  \n",
      "[ 72] Loss : 0.1970933973789215     Accuracy : 0.9337000250816345  \n",
      "[ 73] Loss : 0.19581367075443268    Accuracy : 0.9348833560943604  \n",
      "[ 74] Loss : 0.19456210732460022    Accuracy : 0.935949981212616   \n",
      "[ 75] Loss : 0.1933375746011734     Accuracy : 0.9369000196456909  \n",
      "[ 76] Loss : 0.19213920831680298    Accuracy : 0.9378833174705505  \n",
      "[ 77] Loss : 0.19096630811691284    Accuracy : 0.9387666583061218  \n",
      "[ 78] Loss : 0.1898183971643448     Accuracy : 0.939633309841156   \n",
      "[ 79] Loss : 0.18869513273239136    Accuracy : 0.9405333399772644  \n",
      "[ 80] Loss : 0.18759621679782867    Accuracy : 0.9411166906356812  \n",
      "[ 81] Loss : 0.1865214854478836     Accuracy : 0.9418166875839233  \n",
      "[ 82] Loss : 0.18547067046165466    Accuracy : 0.9423499703407288  \n",
      "[ 83] Loss : 0.18444354832172394    Accuracy : 0.9429500102996826  \n",
      "[ 84] Loss : 0.18343980610370636    Accuracy : 0.9434999823570251  \n",
      "[ 85] Loss : 0.18245898187160492    Accuracy : 0.9438999891281128  \n",
      "[ 86] Loss : 0.18150058388710022    Accuracy : 0.9443666934967041  \n",
      "[ 87] Loss : 0.1805640012025833     Accuracy : 0.9448666572570801  \n",
      "[ 88] Loss : 0.17964856326580048    Accuracy : 0.9451000094413757  \n",
      "[ 89] Loss : 0.1787535548210144     Accuracy : 0.9455999732017517  \n",
      "[ 90] Loss : 0.1778782159090042     Accuracy : 0.9459166526794434  \n",
      "[ 91] Loss : 0.177021786570549      Accuracy : 0.946233332157135   \n",
      "[ 92] Loss : 0.17618362605571747    Accuracy : 0.9465500116348267  \n",
      "[ 93] Loss : 0.17536301910877228    Accuracy : 0.9467666745185852  \n",
      "[ 94] Loss : 0.1745593547821045     Accuracy : 0.9471833109855652  \n",
      "[ 95] Loss : 0.17377206683158875    Accuracy : 0.9474666714668274  \n",
      "[ 96] Loss : 0.17300072312355042    Accuracy : 0.9478166699409485  \n",
      "[ 97] Loss : 0.1722448468208313     Accuracy : 0.9479666948318481  \n",
      "[ 98] Loss : 0.17150406539440155    Accuracy : 0.9482499957084656  \n",
      "[ 99] Loss : 0.1707780808210373     Accuracy : 0.9485833048820496  \n",
      "[100] Loss : 0.17006655037403107    Accuracy : 0.9487500190734863  \n",
      "[101] Loss : 0.16936922073364258    Accuracy : 0.9489833116531372  \n",
      "[102] Loss : 0.16868577897548676    Accuracy : 0.9491666555404663  \n",
      "[103] Loss : 0.1680159717798233     Accuracy : 0.9493833184242249  \n",
      "[104] Loss : 0.16735945641994476    Accuracy : 0.9496833086013794  \n",
      "[105] Loss : 0.16671597957611084    Accuracy : 0.9500333070755005  \n",
      "[106] Loss : 0.16608522832393646    Accuracy : 0.9501833319664001  \n",
      "[107] Loss : 0.16546685993671417    Accuracy : 0.9502999782562256  \n",
      "[108] Loss : 0.1648605912923813     Accuracy : 0.9504166841506958  \n",
      "[109] Loss : 0.16426604986190796    Accuracy : 0.9506000280380249  \n",
      "[110] Loss : 0.1636829376220703     Accuracy : 0.9507333040237427  \n",
      "[111] Loss : 0.16311097145080566    Accuracy : 0.950950026512146   \n",
      "[112] Loss : 0.16254977881908417    Accuracy : 0.951116681098938   \n",
      "[113] Loss : 0.16199907660484314    Accuracy : 0.9512333273887634  \n",
      "[114] Loss : 0.16145862638950348    Accuracy : 0.951366662979126   \n",
      "[115] Loss : 0.16092808544635773    Accuracy : 0.9515500068664551  \n",
      "[116] Loss : 0.16040728986263275    Accuracy : 0.9516500234603882  \n",
      "[117] Loss : 0.1598959118127823     Accuracy : 0.9517166614532471  \n",
      "[118] Loss : 0.1593938022851944     Accuracy : 0.9518666863441467  \n",
      "[119] Loss : 0.1589006781578064     Accuracy : 0.9520666599273682  \n",
      "[120] Loss : 0.15841637551784515    Accuracy : 0.9520999789237976  \n",
      "[121] Loss : 0.15794065594673157    Accuracy : 0.9521666765213013  \n",
      "[122] Loss : 0.1574733555316925     Accuracy : 0.9521666765213013  \n",
      "[123] Loss : 0.15701429545879364    Accuracy : 0.9523000121116638  \n",
      "[124] Loss : 0.15656323730945587    Accuracy : 0.9523333311080933  \n",
      "[125] Loss : 0.15612004697322845    Accuracy : 0.9523666501045227  \n",
      "[126] Loss : 0.15568450093269348    Accuracy : 0.9524000287055969  \n",
      "[127] Loss : 0.1552565097808838     Accuracy : 0.9525166749954224  \n",
      "[128] Loss : 0.1548357903957367     Accuracy : 0.9526166915893555  \n",
      "[129] Loss : 0.15442222356796265    Accuracy : 0.9526833295822144  \n",
      "[130] Loss : 0.15401563048362732    Accuracy : 0.9526833295822144  \n",
      "[131] Loss : 0.15361584722995758    Accuracy : 0.9527833461761475  \n",
      "[132] Loss : 0.1532227247953415     Accuracy : 0.9528833627700806  \n",
      "[133] Loss : 0.15283611416816711    Accuracy : 0.9530500173568726  \n",
      "[134] Loss : 0.1524558663368225     Accuracy : 0.9531166553497314  \n",
      "[135] Loss : 0.15208178758621216    Accuracy : 0.9533166885375977  \n",
      "[136] Loss : 0.1517138034105301     Accuracy : 0.9534000158309937  \n",
      "[137] Loss : 0.1513517200946808     Accuracy : 0.9534500241279602  \n",
      "[138] Loss : 0.15099549293518066    Accuracy : 0.9535166621208191  \n",
      "[139] Loss : 0.15064489841461182    Accuracy : 0.9534833431243896  \n",
      "[140] Loss : 0.15029989182949066    Accuracy : 0.9535333514213562  \n",
      "[141] Loss : 0.14996027946472168    Accuracy : 0.9535833597183228  \n",
      "[142] Loss : 0.14962604641914368    Accuracy : 0.9535666704177856  \n",
      "[143] Loss : 0.14929696917533875    Accuracy : 0.9535999894142151  \n",
      "[144] Loss : 0.1489729881286621     Accuracy : 0.9535333514213562  \n",
      "[145] Loss : 0.1486539989709854     Accuracy : 0.9535333514213562  \n",
      "[146] Loss : 0.1483399122953415     Accuracy : 0.9535499811172485  \n",
      "[147] Loss : 0.1480305790901184     Accuracy : 0.9536333084106445  \n",
      "[148] Loss : 0.1477259397506714     Accuracy : 0.9536333084106445  \n",
      "[149] Loss : 0.14742587506771088    Accuracy : 0.9536499977111816  \n"
     ]
    }
   ],
   "source": [
    "loss_list = []\n",
    "accuracy_list = []\n",
    "\n",
    "for ep in range(EPOCHS):\n",
    "    # 학습\n",
    "    y_pred = model(x_train)\n",
    "    # print(f'예측값 : {y_pred}')\n",
    "    \n",
    "    # 분류값 변환\n",
    "    y_pred2 = F.sigmoid(y_pred)     # [0, 1) 값으로 변환\n",
    "    # print(f'분류값 : {y_pred2}')\n",
    "    \n",
    "    # 오차 즉 손실 계산\n",
    "    loss = F.binary_cross_entropy(y_pred2, y_train)     # y_train이 Float 여야 함\n",
    "    loss_list.append(loss.item())\n",
    "    print(f'[{ep:3}] Loss : {loss:<20}   ', end='')\n",
    "    \n",
    "    # W, b 업데이트\n",
    "    optimizer.zero_grad()\n",
    "    loss.backward()                 # 손실함수 계산값으로 미분 진행하여 새로운 W, b 계산 (오차를 역전파 계산)\n",
    "    optimizer.step()                # 새로운 값으로 W, b 업데이트\n",
    "    \n",
    "    # 정확도 계산 => 예측값을 0과 1로 변환 -> 정답과 비교\n",
    "    train_accuracy = (y_train.argmax(dim=1) == y_pred2.argmax(dim=1)).sum() / y_train.shape[0]\n",
    "    accuracy_list.append(train_accuracy)\n",
    "    print(f'Accuracy : {train_accuracy:<20}')"
   ],
   "metadata": {
    "collapsed": false,
    "ExecuteTime": {
     "end_time": "2024-03-14T06:11:26.367431700Z",
     "start_time": "2024-03-14T06:11:22.044794Z"
    }
   },
   "execution_count": 89
  },
  {
   "cell_type": "code",
   "outputs": [
    {
     "data": {
      "text/plain": "<Figure size 640x480 with 2 Axes>",
      "image/png": "[encoded data removed]"
     },
     "metadata": {},
     "output_type": "display_data"
    }
   ],
   "source": [
    "## 손실과 정확도 시각화\n",
    "import matplotlib.pyplot as plt\n",
    "\n",
    "fig, ax1 = plt.subplots()       # 축 정보를 갖고 있는 것이 ax1\n",
    "ax1.plot(loss_list, label='Loss', color='red')\n",
    "\n",
    "# x축 공유\n",
    "ax2 = ax1.twinx()\n",
    "ax2.plot(accuracy_list, label='Accuracy', color='blue')\n",
    "\n",
    "ax1.set_xlabel('Epochs')\n",
    "ax1.legend(loc='upper left')\n",
    "ax2.legend(loc='upper right')\n",
    "plt.show()"
   ],
   "metadata": {
    "collapsed": false,
    "ExecuteTime": {
     "end_time": "2024-03-14T06:11:28.708893200Z",
     "start_time": "2024-03-14T06:11:28.511724600Z"
    }
   },
   "execution_count": 90
  },
  {
   "cell_type": "code",
   "outputs": [],
   "source": [],
   "metadata": {
    "collapsed": false
   }
  }
 ],
 "metadata": {
  "kernelspec": {
   "display_name": "TORCH_PY38",
   "language": "python",
   "name": "python3"
  },
  "language_info": {
   "codemirror_mode": {
    "name": "ipython",
    "version": 3
   },
   "file_extension": ".py",
   "mimetype": "text/x-python",
   "name": "python",
   "nbconvert_exporter": "python",
   "pygments_lexer": "ipython3",
   "version": "3.8.18"
  }
 },
 "nbformat": 4,
 "nbformat_minor": 2
}
