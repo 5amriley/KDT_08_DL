{
 "cells": [
  {
   "cell_type": "markdown",
   "source": [
    "### 인공신경망 모델 클래스 만들기 <hr>\n",
    "- 부모 클래스 : nn.Module 상속 받음\n",
    "- 필수 오버라이딩 메서드 : __ init __(), forward()"
   ],
   "metadata": {
    "collapsed": false
   },
   "id": "22009e9f37ecb8b8"
  },
  {
   "cell_type": "markdown",
   "source": [
    "(1) 모듈 로딩 <hr>"
   ],
   "metadata": {
    "collapsed": false
   },
   "id": "f50f7aec0396218"
  },
  {
   "cell_type": "code",
   "outputs": [],
   "source": [
    "import torch\n",
    "import torch.nn as nn"
   ],
   "metadata": {
    "collapsed": false,
    "ExecuteTime": {
     "end_time": "2024-03-14T08:25:02.734909300Z",
     "start_time": "2024-03-14T08:25:00.979468500Z"
    }
   },
   "id": "6f1157118c2244f2",
   "execution_count": 1
  },
  {
   "cell_type": "code",
   "outputs": [],
   "source": [
    "# 로지스틱 회귀 모델 클래스 생성\n",
    "# - Linear + sigmoid\n",
    "class LogicLinear(nn.Module):   # nn.Module 상속\n",
    "    \n",
    "    # 모델 구조 설정\n",
    "    def __init__(self, in_, out_):\n",
    "        super().__init__()      # 부모 클래스 생성자\n",
    "        self.layer1 = nn.Linear(in_, 10)  # 가중치 in_개씩 갖고 있는 퍼셉트론 10개\n",
    "        self.sigmoid1 = nn.Sigmoid()\n",
    "        self.layer2 = nn.Linear(10, out_)  # 가중치 10개씩 갖고 있는 퍼셉트론 out_개\n",
    "        self.sigmoid2 = nn.Sigmoid()\n",
    "    \n",
    "    # 순방향 학습 진행 콜백함수\n",
    "    def forward(self, x):\n",
    "        x = self.layer1(x)\n",
    "        x = self.sigmoid1(x)\n",
    "        x = self.layer2(x)\n",
    "        x = self.sigmoid2(x)\n",
    "        return x"
   ],
   "metadata": {
    "collapsed": false,
    "ExecuteTime": {
     "end_time": "2024-03-14T08:41:31.934459300Z",
     "start_time": "2024-03-14T08:41:31.904059200Z"
    }
   },
   "id": "605e085ff823f6a3",
   "execution_count": 21
  },
  {
   "cell_type": "code",
   "outputs": [
    {
     "name": "stdout",
     "output_type": "stream",
     "text": [
      "모델 구조 확인 ===\n",
      "LogicLinear(\n",
      "  (layer1): Linear(in_features=10, out_features=10, bias=True)\n",
      "  (sigmoid1): Sigmoid()\n",
      "  (layer2): Linear(in_features=10, out_features=3, bias=True)\n",
      "  (sigmoid2): Sigmoid()\n",
      ")\n"
     ]
    }
   ],
   "source": [
    "# 모델 인스턴스 생성\n",
    "ll = LogicLinear(10, 3)\n",
    "print(f'모델 구조 확인 ===\\n{ll}')"
   ],
   "metadata": {
    "collapsed": false,
    "ExecuteTime": {
     "end_time": "2024-03-14T08:41:41.522569600Z",
     "start_time": "2024-03-14T08:41:41.496500600Z"
    }
   },
   "id": "a44f60df6ca990ea",
   "execution_count": 23
  },
  {
   "cell_type": "code",
   "outputs": [
    {
     "name": "stdout",
     "output_type": "stream",
     "text": [
      "모델구성 W, b ===\n",
      "Parameter containing:\n",
      "tensor([[-0.0889,  0.0461,  0.3001,  0.0938, -0.2958,  0.2769,  0.0148,  0.3041,\n",
      "         -0.2210, -0.2497],\n",
      "        [ 0.0222,  0.2143, -0.0530, -0.0390,  0.0415,  0.2855, -0.1781, -0.0539,\n",
      "          0.1473,  0.0206],\n",
      "        [-0.1876, -0.0339, -0.0476,  0.1999,  0.1554,  0.2324,  0.1817, -0.0706,\n",
      "          0.1409, -0.0538],\n",
      "        [-0.2717,  0.0531, -0.0223, -0.1124, -0.1418, -0.2022, -0.0980, -0.0536,\n",
      "          0.2665, -0.1868],\n",
      "        [-0.1184,  0.0797,  0.2481,  0.2850, -0.0284, -0.2954,  0.2710, -0.3064,\n",
      "         -0.1048, -0.0305],\n",
      "        [-0.0906,  0.1537,  0.1402, -0.2573, -0.1123,  0.1925,  0.2125, -0.3004,\n",
      "         -0.1241, -0.1321],\n",
      "        [ 0.3096,  0.2209, -0.2736, -0.2706,  0.1463, -0.2652, -0.1823,  0.2384,\n",
      "          0.0187,  0.0842],\n",
      "        [ 0.0572, -0.2125,  0.2175, -0.2598, -0.2202, -0.2101,  0.2667,  0.3057,\n",
      "          0.1784,  0.1978],\n",
      "        [-0.1683, -0.2651,  0.2334, -0.0239, -0.2319,  0.0435, -0.2776, -0.1403,\n",
      "          0.2356,  0.1981],\n",
      "        [-0.1300,  0.1762, -0.1852,  0.0337,  0.3037,  0.2601,  0.2269,  0.2277,\n",
      "         -0.0998,  0.2243]], requires_grad=True)\n",
      "Parameter containing:\n",
      "tensor([-0.2701, -0.2866, -0.1078,  0.0515,  0.2632, -0.1331, -0.0199, -0.2573,\n",
      "         0.1815,  0.3043], requires_grad=True)\n",
      "Parameter containing:\n",
      "tensor([[ 0.1618,  0.2534,  0.1301,  0.0247,  0.1964,  0.1805,  0.1754, -0.2049,\n",
      "          0.1559, -0.2806],\n",
      "        [ 0.1032, -0.2706,  0.0174,  0.0005,  0.0828,  0.1843,  0.2300, -0.1206,\n",
      "         -0.1069,  0.1916],\n",
      "        [-0.2687,  0.0617, -0.0216, -0.2848, -0.0094,  0.1095, -0.0142, -0.0907,\n",
      "         -0.0484, -0.3030]], requires_grad=True)\n",
      "Parameter containing:\n",
      "tensor([-0.0125,  0.1452,  0.1533], requires_grad=True)\n"
     ]
    }
   ],
   "source": [
    "print(f'모델구성 W, b ===')\n",
    "for param in ll.parameters():   # generator\n",
    "    print(param)"
   ],
   "metadata": {
    "collapsed": false,
    "ExecuteTime": {
     "end_time": "2024-03-14T08:41:44.794710900Z",
     "start_time": "2024-03-14T08:41:44.782643100Z"
    }
   },
   "id": "4175fd3338291d55",
   "execution_count": 24
  },
  {
   "cell_type": "code",
   "outputs": [],
   "source": [],
   "metadata": {
    "collapsed": false
   },
   "id": "39519cc5352dc5b9"
  }
 ],
 "metadata": {
  "kernelspec": {
   "display_name": "Python 3",
   "language": "python",
   "name": "python3"
  },
  "language_info": {
   "codemirror_mode": {
    "name": "ipython",
    "version": 2
   },
   "file_extension": ".py",
   "mimetype": "text/x-python",
   "name": "python",
   "nbconvert_exporter": "python",
   "pygments_lexer": "ipython2",
   "version": "2.7.6"
  }
 },
 "nbformat": 4,
 "nbformat_minor": 5
}
