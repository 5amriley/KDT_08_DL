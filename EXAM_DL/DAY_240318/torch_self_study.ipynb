{
 "cells": [
  {
   "cell_type": "markdown",
   "source": [
    "예제 출처 : https://www.youtube.com/watch?v=k60oT_8lyFw&t=4978s"
   ],
   "metadata": {
    "collapsed": false
   },
   "id": "40d6fe9dd3e95bcd"
  },
  {
   "cell_type": "code",
   "execution_count": 1,
   "id": "initial_id",
   "metadata": {
    "collapsed": true,
    "ExecuteTime": {
     "end_time": "2024-03-18T10:31:28.380273600Z",
     "start_time": "2024-03-18T10:31:26.910667300Z"
    }
   },
   "outputs": [],
   "source": [
    "import torch"
   ]
  },
  {
   "cell_type": "code",
   "outputs": [
    {
     "name": "stdout",
     "output_type": "stream",
     "text": [
      "tensor([[-1.8993, -0.2533, -0.4023],\n",
      "        [-0.3298,  0.0427,  0.5499],\n",
      "        [-0.3475, -0.1749, -0.4948]])\n"
     ]
    }
   ],
   "source": [
    "a = torch.randn(3, 3)\n",
    "print(a)"
   ],
   "metadata": {
    "collapsed": false,
    "ExecuteTime": {
     "end_time": "2024-03-18T10:31:40.010637600Z",
     "start_time": "2024-03-18T10:31:39.986620500Z"
    }
   },
   "id": "17314b6b3a0f2d9d",
   "execution_count": 3
  },
  {
   "cell_type": "code",
   "outputs": [
    {
     "data": {
      "text/plain": "bool"
     },
     "execution_count": 6,
     "metadata": {},
     "output_type": "execute_result"
    }
   ],
   "source": [
    "type(a.requires_grad)"
   ],
   "metadata": {
    "collapsed": false,
    "ExecuteTime": {
     "end_time": "2024-03-18T10:33:02.752023300Z",
     "start_time": "2024-03-18T10:33:02.732391Z"
    }
   },
   "id": "92192e7994955976",
   "execution_count": 6
  },
  {
   "cell_type": "code",
   "outputs": [
    {
     "name": "stdout",
     "output_type": "stream",
     "text": [
      "True\n"
     ]
    }
   ],
   "source": [
    "a.requires_grad_(True)\n",
    "print(a.requires_grad)"
   ],
   "metadata": {
    "collapsed": false,
    "ExecuteTime": {
     "end_time": "2024-03-18T10:33:36.778093500Z",
     "start_time": "2024-03-18T10:33:36.767178900Z"
    }
   },
   "id": "c26b887be4051f3d",
   "execution_count": 7
  },
  {
   "cell_type": "code",
   "outputs": [
    {
     "data": {
      "text/plain": "tensor(4.6422, grad_fn=<SumBackward0>)"
     },
     "execution_count": 10,
     "metadata": {},
     "output_type": "execute_result"
    }
   ],
   "source": [
    "b = (a * a).sum()\n",
    "b"
   ],
   "metadata": {
    "collapsed": false,
    "ExecuteTime": {
     "end_time": "2024-03-18T10:33:51.214740400Z",
     "start_time": "2024-03-18T10:33:51.190584Z"
    }
   },
   "id": "2bab095aaeadb3f1",
   "execution_count": 10
  },
  {
   "cell_type": "code",
   "outputs": [
    {
     "data": {
      "text/plain": "<SumBackward0 at 0x1e1cb359160>"
     },
     "execution_count": 11,
     "metadata": {},
     "output_type": "execute_result"
    }
   ],
   "source": [
    "b.grad_fn   # 어떤 연산이 수행되었는지에 대한 기록"
   ],
   "metadata": {
    "collapsed": false,
    "ExecuteTime": {
     "end_time": "2024-03-18T10:35:42.105729400Z",
     "start_time": "2024-03-18T10:35:42.081244800Z"
    }
   },
   "id": "61e337c504e0c439",
   "execution_count": 11
  },
  {
   "cell_type": "code",
   "outputs": [
    {
     "data": {
      "text/plain": "<MeanBackward0 at 0x1e1cb7c5430>"
     },
     "execution_count": 15,
     "metadata": {},
     "output_type": "execute_result"
    }
   ],
   "source": [
    "c = a * a \n",
    "out = c.mean()\n",
    "out.grad_fn"
   ],
   "metadata": {
    "collapsed": false,
    "ExecuteTime": {
     "end_time": "2024-03-18T10:42:07.127333300Z",
     "start_time": "2024-03-18T10:42:07.110382700Z"
    }
   },
   "id": "48c4236dabdb61e7",
   "execution_count": 15
  },
  {
   "cell_type": "markdown",
   "source": [
    "계산이 완료된 후, .backward()를 호출하면 자동으로 역전파 계산이 가능하고, .grad 속성에 누적됨"
   ],
   "metadata": {
    "collapsed": false
   },
   "id": "91583a8332825612"
  },
  {
   "cell_type": "code",
   "outputs": [
    {
     "name": "stdout",
     "output_type": "stream",
     "text": [
      "tensor([[1., 1., 1.],\n",
      "        [1., 1., 1.],\n",
      "        [1., 1., 1.]], requires_grad=True)\n"
     ]
    }
   ],
   "source": [
    "x = torch.ones(3, 3, requires_grad=True)\n",
    "print(x)"
   ],
   "metadata": {
    "collapsed": false,
    "ExecuteTime": {
     "end_time": "2024-03-18T10:47:56.718068300Z",
     "start_time": "2024-03-18T10:47:56.704854900Z"
    }
   },
   "id": "f88a66f953959827",
   "execution_count": 18
  },
  {
   "cell_type": "code",
   "outputs": [
    {
     "name": "stdout",
     "output_type": "stream",
     "text": [
      "tensor([[6., 6., 6.],\n",
      "        [6., 6., 6.],\n",
      "        [6., 6., 6.]], grad_fn=<AddBackward0>)\n"
     ]
    }
   ],
   "source": [
    "y = x + 5\n",
    "print(y)"
   ],
   "metadata": {
    "collapsed": false,
    "ExecuteTime": {
     "end_time": "2024-03-18T10:48:13.240204900Z",
     "start_time": "2024-03-18T10:48:13.217377100Z"
    }
   },
   "id": "6c47cea679d595bb",
   "execution_count": 19
  },
  {
   "cell_type": "code",
   "outputs": [
    {
     "name": "stdout",
     "output_type": "stream",
     "text": [
      "tensor([[36., 36., 36.],\n",
      "        [36., 36., 36.],\n",
      "        [36., 36., 36.]], grad_fn=<MulBackward0>) tensor(36., grad_fn=<MeanBackward0>)\n"
     ]
    }
   ],
   "source": [
    "z = y * y\n",
    "out = z.mean()\n",
    "print(z, out)"
   ],
   "metadata": {
    "collapsed": false,
    "ExecuteTime": {
     "end_time": "2024-03-18T10:48:31.119772300Z",
     "start_time": "2024-03-18T10:48:31.095908Z"
    }
   },
   "id": "15d6574706525b1a",
   "execution_count": 20
  },
  {
   "cell_type": "code",
   "outputs": [],
   "source": [
    "out.backward()"
   ],
   "metadata": {
    "collapsed": false,
    "ExecuteTime": {
     "end_time": "2024-03-18T10:49:31.372252300Z",
     "start_time": "2024-03-18T10:49:31.325244900Z"
    }
   },
   "id": "b0821f9e998c5c80",
   "execution_count": 21
  },
  {
   "cell_type": "code",
   "outputs": [
    {
     "name": "stdout",
     "output_type": "stream",
     "text": [
      "tensor([[1., 1., 1.],\n",
      "        [1., 1., 1.],\n",
      "        [1., 1., 1.]], requires_grad=True)\n",
      "tensor([[1.3333, 1.3333, 1.3333],\n",
      "        [1.3333, 1.3333, 1.3333],\n",
      "        [1.3333, 1.3333, 1.3333]])\n"
     ]
    }
   ],
   "source": [
    "print(x)\n",
    "print(x.grad)"
   ],
   "metadata": {
    "collapsed": false,
    "ExecuteTime": {
     "end_time": "2024-03-18T10:49:56.848119300Z",
     "start_time": "2024-03-18T10:49:56.839512500Z"
    }
   },
   "id": "9b3e4e13eba68927",
   "execution_count": 22
  },
  {
   "cell_type": "code",
   "outputs": [
    {
     "name": "stdout",
     "output_type": "stream",
     "text": [
      "tensor([1311.9291,  709.6655, -976.4540], grad_fn=<MulBackward0>)\n"
     ]
    }
   ],
   "source": [
    "x = torch.randn(3, requires_grad=True)\n",
    "y = x * 2\n",
    "while y.data.norm() < 1000:\n",
    "    y = y * 2\n",
    "print(y)"
   ],
   "metadata": {
    "collapsed": false,
    "ExecuteTime": {
     "end_time": "2024-03-18T10:52:11.435555700Z",
     "start_time": "2024-03-18T10:52:11.424784400Z"
    }
   },
   "id": "f13e2f4487246a1b",
   "execution_count": 24
  },
  {
   "cell_type": "markdown",
   "source": [
    "with torch.no_grad(): 를 사용하여 기울기의 없데이트를 하지 않음"
   ],
   "metadata": {
    "collapsed": false
   },
   "id": "5599105142de4434"
  },
  {
   "cell_type": "markdown",
   "source": [
    "토치비전(torchvision)은 파이토치에서 제공하는 데이터셋들이 모여있는 패키지\n",
    "- transforms : 전처리할 때 사용하는 모듈\n",
    "- DataLoader의 인자로 들어갈 transform을 미리 정의할 수 있고, Compose를 통해 리스트 안에 있는 함수 순서대로 전처리 진행\n",
    "- ToTensor()를 하는 이유는 torchvision이 PIL Image 형태로만 입력을 받기 때문에 데이터 처리를 위해서 Tensor형으로 변환 필요"
   ],
   "metadata": {
    "collapsed": false
   },
   "id": "ae704c403360e576"
  },
  {
   "cell_type": "code",
   "outputs": [],
   "source": [
    "from torch.utils.data import Dataset, DataLoader\n",
    "import torchvision.transforms as transforms\n",
    "from torchvision import datasets\n",
    "\n",
    "mnist_transform = transforms.Compose([transforms.ToTensor(),\n",
    "                                      transforms.Normalize(mean=(0.5), std=(1.0))])"
   ],
   "metadata": {
    "collapsed": false,
    "ExecuteTime": {
     "end_time": "2024-03-18T12:09:20.277483100Z",
     "start_time": "2024-03-18T12:09:20.262672600Z"
    }
   },
   "id": "520a359b4f0bb35b",
   "execution_count": 28
  },
  {
   "cell_type": "code",
   "outputs": [
    {
     "name": "stdout",
     "output_type": "stream",
     "text": [
      "Downloading http://yann.lecun.com/exdb/mnist/train-images-idx3-ubyte.gz\n",
      "Downloading http://yann.lecun.com/exdb/mnist/train-images-idx3-ubyte.gz to /content/MNIST\\raw\\train-images-idx3-ubyte.gz\n"
     ]
    },
    {
     "name": "stderr",
     "output_type": "stream",
     "text": [
      "100.0%\n"
     ]
    },
    {
     "name": "stdout",
     "output_type": "stream",
     "text": [
      "Extracting /content/MNIST\\raw\\train-images-idx3-ubyte.gz to /content/MNIST\\raw\n",
      "\n",
      "Downloading http://yann.lecun.com/exdb/mnist/train-labels-idx1-ubyte.gz\n",
      "Downloading http://yann.lecun.com/exdb/mnist/train-labels-idx1-ubyte.gz to /content/MNIST\\raw\\train-labels-idx1-ubyte.gz\n"
     ]
    },
    {
     "name": "stderr",
     "output_type": "stream",
     "text": [
      "100.0%\n"
     ]
    },
    {
     "name": "stdout",
     "output_type": "stream",
     "text": [
      "Extracting /content/MNIST\\raw\\train-labels-idx1-ubyte.gz to /content/MNIST\\raw\n",
      "\n",
      "Downloading http://yann.lecun.com/exdb/mnist/t10k-images-idx3-ubyte.gz\n",
      "Downloading http://yann.lecun.com/exdb/mnist/t10k-images-idx3-ubyte.gz to /content/MNIST\\raw\\t10k-images-idx3-ubyte.gz\n"
     ]
    },
    {
     "name": "stderr",
     "output_type": "stream",
     "text": [
      "100.0%\n"
     ]
    },
    {
     "name": "stdout",
     "output_type": "stream",
     "text": [
      "Extracting /content/MNIST\\raw\\t10k-images-idx3-ubyte.gz to /content/MNIST\\raw\n",
      "\n",
      "Downloading http://yann.lecun.com/exdb/mnist/t10k-labels-idx1-ubyte.gz\n",
      "Downloading http://yann.lecun.com/exdb/mnist/t10k-labels-idx1-ubyte.gz to /content/MNIST\\raw\\t10k-labels-idx1-ubyte.gz\n"
     ]
    },
    {
     "name": "stderr",
     "output_type": "stream",
     "text": [
      "100.0%"
     ]
    },
    {
     "name": "stdout",
     "output_type": "stream",
     "text": [
      "Extracting /content/MNIST\\raw\\t10k-labels-idx1-ubyte.gz to /content/MNIST\\raw\n"
     ]
    },
    {
     "name": "stderr",
     "output_type": "stream",
     "text": [
      "\n"
     ]
    }
   ],
   "source": [
    "trainset = datasets.MNIST(root='/content/',\n",
    "                          train=True, download=True,\n",
    "                          transform=mnist_transform)\n",
    "testset = datasets.MNIST(root='/content/',\n",
    "                          train=False, download=True,\n",
    "                          transform=mnist_transform)"
   ],
   "metadata": {
    "collapsed": false,
    "ExecuteTime": {
     "end_time": "2024-03-18T12:06:52.135476500Z",
     "start_time": "2024-03-18T12:06:40.433747300Z"
    }
   },
   "id": "5a41bb38f68bbf6e",
   "execution_count": 27
  },
  {
   "cell_type": "markdown",
   "source": [
    "DataLoader는 데이터 전체를 보관했다가 실제 모델 학습을 할 때 batch_size 크기만큼 데이터를 가져온다."
   ],
   "metadata": {
    "collapsed": false
   },
   "id": "8df5849755f1c87b"
  },
  {
   "cell_type": "code",
   "outputs": [],
   "source": [
    "train_loader = DataLoader(trainset, batch_size=8, shuffle=True, num_workers=2)\n",
    "test_loader = DataLoader(testset, batch_size=8, shuffle=False, num_workers=2)"
   ],
   "metadata": {
    "collapsed": false,
    "ExecuteTime": {
     "end_time": "2024-03-18T12:18:55.220755400Z",
     "start_time": "2024-03-18T12:18:55.202152Z"
    }
   },
   "id": "fcdc7cbfdc39f684",
   "execution_count": 29
  },
  {
   "cell_type": "code",
   "outputs": [
    {
     "data": {
      "text/plain": "60000"
     },
     "execution_count": 36,
     "metadata": {},
     "output_type": "execute_result"
    }
   ],
   "source": [
    "len(trainset)"
   ],
   "metadata": {
    "collapsed": false,
    "ExecuteTime": {
     "end_time": "2024-03-18T12:39:44.439628900Z",
     "start_time": "2024-03-18T12:39:44.420738600Z"
    }
   },
   "id": "339a979d0a648182",
   "execution_count": 36
  },
  {
   "cell_type": "markdown",
   "source": [
    "torch.nn 패키지 (neural network)\n",
    "주로 가중치(w), 편향(b) 값들이 내부에서 자동으로 생성되는 레이어들을 사용할 때 사용 (weight 값들을 직접 선언 안 함)"
   ],
   "metadata": {
    "collapsed": false
   },
   "id": "5ec35ff0824cf912"
  },
  {
   "cell_type": "code",
   "outputs": [],
   "source": [
    "import torch.nn as nn"
   ],
   "metadata": {
    "collapsed": false,
    "ExecuteTime": {
     "end_time": "2024-03-18T12:42:40.692379800Z",
     "start_time": "2024-03-18T12:42:40.659235Z"
    }
   },
   "id": "304493aeb613fd03",
   "execution_count": 37
  },
  {
   "cell_type": "code",
   "outputs": [
    {
     "name": "stdout",
     "output_type": "stream",
     "text": [
      "tensor([[ 0.3653,  1.7625,  0.6208,  ...,  0.6120,  0.9919, -2.0986],\n",
      "        [-2.4313, -0.1517, -0.6972,  ..., -1.4941,  0.3822,  0.2904],\n",
      "        [-0.4385,  1.4965,  1.5754,  ..., -0.4667, -0.5185, -0.0683],\n",
      "        ...,\n",
      "        [ 1.5275, -0.5521,  0.9346,  ..., -0.7999, -0.8114,  0.5746],\n",
      "        [ 0.3743,  0.9224, -0.4289,  ...,  0.8920,  0.8279,  0.2976],\n",
      "        [ 1.3614, -0.3739, -0.4832,  ...,  0.2890, -0.4224,  0.5154]])\n",
      "Linear(in_features=20, out_features=30, bias=True)\n",
      "tensor([[-0.0618, -1.3501,  0.5973,  ..., -0.6753, -1.0404, -0.7834],\n",
      "        [ 0.4703, -0.2507, -0.3069,  ...,  0.3727,  0.2439,  0.2289],\n",
      "        [-0.5002, -1.3293, -0.6277,  ..., -1.0429, -0.0305,  0.5356],\n",
      "        ...,\n",
      "        [-0.7719, -0.2500, -0.3151,  ..., -0.2878, -0.0811,  1.2625],\n",
      "        [-0.4426,  0.4490, -0.6307,  ..., -0.1663,  0.9452, -0.0543],\n",
      "        [-0.1079, -0.4953,  0.8592,  ..., -0.9361, -0.5353,  0.6475]],\n",
      "       grad_fn=<AddmmBackward0>)\n",
      "torch.Size([128, 30])\n"
     ]
    }
   ],
   "source": [
    "input = torch.randn(128, 20)\n",
    "print(input)\n",
    "\n",
    "m = nn.Linear(20, 30)   # 신경망 계층 (in_features=20, out_features=30)\n",
    "print(m)\n",
    "\n",
    "output = m(input)\n",
    "print(output)\n",
    "print(output.size())"
   ],
   "metadata": {
    "collapsed": false,
    "ExecuteTime": {
     "end_time": "2024-03-18T12:43:46.570143900Z",
     "start_time": "2024-03-18T12:43:46.542392900Z"
    }
   },
   "id": "d4e61ba9347f013f",
   "execution_count": 39
  },
  {
   "cell_type": "code",
   "outputs": [
    {
     "name": "stdout",
     "output_type": "stream",
     "text": [
      "torch.Size([20, 16, 50, 100])\n"
     ]
    }
   ],
   "source": [
    "input = torch.randn(20, 16, 50, 100)\n",
    "print(input.size())"
   ],
   "metadata": {
    "collapsed": false,
    "ExecuteTime": {
     "end_time": "2024-03-18T12:47:57.415272500Z",
     "start_time": "2024-03-18T12:47:57.390901100Z"
    }
   },
   "id": "d113b555e49040ed",
   "execution_count": 40
  },
  {
   "cell_type": "code",
   "outputs": [
    {
     "name": "stdout",
     "output_type": "stream",
     "text": [
      "Conv2d(16, 33, kernel_size=(3, 5), stride=(2, 1), padding=(4, 2))\n"
     ]
    }
   ],
   "source": [
    "m = nn.Conv2d(16, 33, 3, stride=2)\n",
    "m = nn.Conv2d(16, 33, (3, 5), stride=(2, 1), padding=(4, 2))\n",
    "print(m)"
   ],
   "metadata": {
    "collapsed": false,
    "ExecuteTime": {
     "end_time": "2024-03-18T12:48:54.550170300Z",
     "start_time": "2024-03-18T12:48:54.542604400Z"
    }
   },
   "id": "b3dfdae4ec500c8d",
   "execution_count": 42
  },
  {
   "cell_type": "code",
   "outputs": [
    {
     "name": "stdout",
     "output_type": "stream",
     "text": [
      "torch.Size([128, 30])\n"
     ]
    }
   ],
   "source": [
    "ouput = m(input)\n",
    "print(output.size())"
   ],
   "metadata": {
    "collapsed": false,
    "ExecuteTime": {
     "end_time": "2024-03-18T12:49:56.250194700Z",
     "start_time": "2024-03-18T12:49:56.213978600Z"
    }
   },
   "id": "60e479ff7b9f6703",
   "execution_count": 45
  },
  {
   "cell_type": "code",
   "outputs": [],
   "source": [],
   "metadata": {
    "collapsed": false
   },
   "id": "65f2075da7af7306"
  }
 ],
 "metadata": {
  "kernelspec": {
   "display_name": "Python 3",
   "language": "python",
   "name": "python3"
  },
  "language_info": {
   "codemirror_mode": {
    "name": "ipython",
    "version": 2
   },
   "file_extension": ".py",
   "mimetype": "text/x-python",
   "name": "python",
   "nbconvert_exporter": "python",
   "pygments_lexer": "ipython2",
   "version": "2.7.6"
  }
 },
 "nbformat": 4,
 "nbformat_minor": 5
}
