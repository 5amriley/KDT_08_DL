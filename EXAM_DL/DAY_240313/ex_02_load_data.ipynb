{
 "cells": [
  {
   "cell_type": "markdown",
   "source": [
    "### 데이터 로딩 및 텐서 변환"
   ],
   "metadata": {
    "collapsed": false
   },
   "id": "8505092428c67638"
  },
  {
   "cell_type": "code",
   "outputs": [],
   "source": [
    "# 모듈 로딩\n",
    "import imageio.v2 as imageio        # 이미지 데이터 관련 모듈\n",
    "import torch                        # PyTorch 텐서 및 기본 함수 관련 모듈"
   ],
   "metadata": {
    "collapsed": false,
    "ExecuteTime": {
     "end_time": "2024-03-13T04:56:37.018147600Z",
     "start_time": "2024-03-13T04:56:35.388733800Z"
    }
   },
   "id": "13525c419199a6dd",
   "execution_count": 1
  },
  {
   "cell_type": "code",
   "outputs": [
    {
     "name": "stdout",
     "output_type": "stream",
     "text": [
      "<class 'numpy.ndarray'> (600, 600, 4) 3\n"
     ]
    }
   ],
   "source": [
    "# 이미지 데이터 로딩\n",
    "filename = '../data/img/orange.png'\n",
    "img_orange = imageio.imread(filename)\n",
    "print(type(img_orange), img_orange.shape, img_orange.ndim)"
   ],
   "metadata": {
    "collapsed": false,
    "ExecuteTime": {
     "end_time": "2024-03-13T04:59:02.317388500Z",
     "start_time": "2024-03-13T04:59:02.291012200Z"
    }
   },
   "id": "929d3e51aa4be72c",
   "execution_count": 11
  },
  {
   "cell_type": "code",
   "outputs": [],
   "source": [
    "# ndarray -> tensor 변환 : [행(높이), 열(너비), 채널]\n",
    "img_t1 = torch.tensor(img_orange)       # 완전 따로 (?)\n",
    "img_t2 = torch.from_numpy(img_orange)   # 공유 (?)\n",
    "img_t3 = torch.as_tensor(img_orange)    # 공유 (?)"
   ],
   "metadata": {
    "collapsed": false,
    "ExecuteTime": {
     "end_time": "2024-03-13T05:00:18.621659500Z",
     "start_time": "2024-03-13T05:00:18.607147400Z"
    }
   },
   "id": "cb0b9d6ef538db32",
   "execution_count": 12
  },
  {
   "cell_type": "code",
   "outputs": [
    {
     "name": "stdout",
     "output_type": "stream",
     "text": [
      "torch.Size([600, 600, 4]) 3\n",
      "torch.Size([600, 600, 4]) 3\n",
      "torch.Size([600, 600, 4]) 3\n"
     ]
    }
   ],
   "source": [
    "print(img_t1.shape, img_t1.ndim)\n",
    "print(img_t2.shape, img_t2.ndim)\n",
    "print(img_t3.shape, img_t3.ndim)"
   ],
   "metadata": {
    "collapsed": false,
    "ExecuteTime": {
     "end_time": "2024-03-13T05:00:49.637949300Z",
     "start_time": "2024-03-13T05:00:49.604682300Z"
    }
   },
   "id": "a9aac705839b47c6",
   "execution_count": 13
  },
  {
   "cell_type": "code",
   "outputs": [
    {
     "data": {
      "text/plain": "torch.Size([4, 600, 600])"
     },
     "execution_count": 14,
     "metadata": {},
     "output_type": "execute_result"
    }
   ],
   "source": [
    "# [행(높이), 열(너비), 채널] => [채널, 행(높이), 열(너비)]\n",
    "img_t1.permute(2, 0, 1).shape"
   ],
   "metadata": {
    "collapsed": false,
    "ExecuteTime": {
     "end_time": "2024-03-13T05:02:26.638266200Z",
     "start_time": "2024-03-13T05:02:26.613549Z"
    }
   },
   "id": "cbba9c22ac119aea",
   "execution_count": 14
  },
  {
   "cell_type": "code",
   "outputs": [],
   "source": [],
   "metadata": {
    "collapsed": false
   },
   "id": "6f8a96e81e172225"
  }
 ],
 "metadata": {
  "kernelspec": {
   "display_name": "Python 3",
   "language": "python",
   "name": "python3"
  },
  "language_info": {
   "codemirror_mode": {
    "name": "ipython",
    "version": 2
   },
   "file_extension": ".py",
   "mimetype": "text/x-python",
   "name": "python",
   "nbconvert_exporter": "python",
   "pygments_lexer": "ipython2",
   "version": "2.7.6"
  }
 },
 "nbformat": 4,
 "nbformat_minor": 5
}
