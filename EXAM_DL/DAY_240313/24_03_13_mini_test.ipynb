{
 "cells": [
  {
   "cell_type": "markdown",
   "source": [
    "#### [ 미니 테스트  2024-03-13 ]<hr>"
   ],
   "metadata": {
    "collapsed": false
   },
   "id": "57ab9598554c8ba6"
  },
  {
   "cell_type": "markdown",
   "source": [
    "1. 화면상에서 PyTorch에서 데이터를 저장하는 단위는 (텐서)입니다.\n",
    "2. 1번문제에 해당하는 것의 특징을 간략히 설명해 보세요.  \n",
    "    - 대부분 메모리에서 인접하게(contiguously) 할당되어 있어, 데이터의 접근속도, 연산속도가 빠른 것이 특징이나, stride가 일정하지 않은 상황이 발생하여 메모리가 인접하게 할당되지 않는 경우도 존재한다.\n",
    "3. PyTorch에서 정수형 데이터를 저장하는 데이터 타입을 모두 나열하세요. 간단한 데이터 타입의 크기 설명도 함께 작성하세요.\n",
    "    - int8, int16, int32, int64, uint8\n",
    "    - int8, int16, int32는 각각 8비트, 16비트, 32비트를 사용하여 정수를 나타내는 타입이며, 음수/0/양수 표현이 가능하다.\n",
    "    - uint8, uint16, uint32는 각각 8비트, 16비트, 32비트를 사용하여 정수를 나타내나, 음수 범위는 표현하지 않는다. 그래서 0/양수 표현만 가능하고, 음수를 사용하지 않는만큼 양수를 더 표현할 수 있는 것이 특징이다.\n",
    "    - uint8 = Byte, int16 = short, int64 = long"
   ],
   "metadata": {
    "collapsed": false
   },
   "id": "f6dbdc7a7fcce329"
  },
  {
   "cell_type": "code",
   "outputs": [],
   "source": [
    "import torch"
   ],
   "metadata": {
    "collapsed": false,
    "ExecuteTime": {
     "end_time": "2024-03-13T00:44:26.473279300Z",
     "start_time": "2024-03-13T00:44:24.565353400Z"
    }
   },
   "id": "b99240554bd334e0",
   "execution_count": 1
  },
  {
   "cell_type": "markdown",
   "source": [
    "4. PyTorch에 논리형 데이터로 저장 후 속성을 출력하는 코드를 작성하세요.\n",
    "    - 데이터 : 10, -5, 1.4, 7, 0, -1, 0"
   ],
   "metadata": {
    "collapsed": false
   },
   "id": "97682214db99a197"
  },
  {
   "cell_type": "code",
   "outputs": [
    {
     "data": {
      "text/plain": "(torch.Size([7]), 1, torch.bool, True)"
     },
     "execution_count": 23,
     "metadata": {},
     "output_type": "execute_result"
    }
   ],
   "source": [
    "q4 = torch.tensor([10, -5, 1.4, 7, 0, -1, 0], dtype=torch.bool)\n",
    "q4.shape, q4.ndim, q4.dtype, q4.is_contiguous()"
   ],
   "metadata": {
    "collapsed": false,
    "ExecuteTime": {
     "end_time": "2024-03-13T07:56:01.956476100Z",
     "start_time": "2024-03-13T07:56:01.923404200Z"
    }
   },
   "id": "2c49140c92a8a606",
   "execution_count": 23
  },
  {
   "cell_type": "markdown",
   "source": [
    "5. 10개의 0 데이터를 2차원으로 저장 코드를 작성하세요."
   ],
   "metadata": {
    "collapsed": false
   },
   "id": "b9bb4e2c0ae4993a"
  },
  {
   "cell_type": "code",
   "outputs": [
    {
     "data": {
      "text/plain": "tensor([[0, 0, 0, 0, 0],\n        [0, 0, 0, 0, 0]], dtype=torch.int8)"
     },
     "execution_count": 3,
     "metadata": {},
     "output_type": "execute_result"
    }
   ],
   "source": [
    "# q5 = torch.tensor([0]*10).reshape(-1, 5)\n",
    "q5 = torch.zeros((2, 5), dtype=torch.int8)\n",
    "q5"
   ],
   "metadata": {
    "collapsed": false,
    "ExecuteTime": {
     "end_time": "2024-03-13T00:44:26.540616100Z",
     "start_time": "2024-03-13T00:44:26.492509100Z"
    }
   },
   "id": "ad40c4c3031c8b63",
   "execution_count": 3
  },
  {
   "cell_type": "markdown",
   "source": [
    "6. 5개의 1 데이터가 대각선으로 저장되는 2차원 저장 코드를 작성하세요."
   ],
   "metadata": {
    "collapsed": false
   },
   "id": "4cd1a0ab20122aeb"
  },
  {
   "cell_type": "code",
   "outputs": [
    {
     "data": {
      "text/plain": "tensor([[1., 0., 0., 0., 0.],\n        [0., 1., 0., 0., 0.],\n        [0., 0., 1., 0., 0.],\n        [0., 0., 0., 1., 0.],\n        [0., 0., 0., 0., 1.]])"
     },
     "execution_count": 4,
     "metadata": {},
     "output_type": "execute_result"
    }
   ],
   "source": [
    "q6 = torch.eye(5)\n",
    "q6"
   ],
   "metadata": {
    "collapsed": false,
    "ExecuteTime": {
     "end_time": "2024-03-13T00:44:26.541670Z",
     "start_time": "2024-03-13T00:44:26.508111600Z"
    }
   },
   "id": "ccea99eb61f39689",
   "execution_count": 4
  },
  {
   "cell_type": "markdown",
   "source": [
    "7. 5번에서 저장된 형태와 동일하지만 값이 3이 저장된 코드를 작성하세요."
   ],
   "metadata": {
    "collapsed": false
   },
   "id": "dd1f374796a27449"
  },
  {
   "cell_type": "code",
   "outputs": [
    {
     "data": {
      "text/plain": "tensor([[3, 3, 3, 3, 3],\n        [3, 3, 3, 3, 3]], dtype=torch.int8)"
     },
     "execution_count": 5,
     "metadata": {},
     "output_type": "execute_result"
    }
   ],
   "source": [
    "q7 = torch.full_like(q5, 3)\n",
    "q7"
   ],
   "metadata": {
    "collapsed": false,
    "ExecuteTime": {
     "end_time": "2024-03-13T00:44:26.542742Z",
     "start_time": "2024-03-13T00:44:26.524719100Z"
    }
   },
   "id": "aca14e901843ee51",
   "execution_count": 5
  },
  {
   "cell_type": "markdown",
   "source": [
    "8. ndarray 데이터를 PyTorch에 저장하는 코드를 작성하세요."
   ],
   "metadata": {
    "collapsed": false
   },
   "id": "51c1c61355bb34a4"
  },
  {
   "cell_type": "code",
   "outputs": [
    {
     "data": {
      "text/plain": "tensor([ 7., 14., 21., 28., 35., 42., 49., 56., 63., 70., 77., 84., 91., 98.])"
     },
     "execution_count": 6,
     "metadata": {},
     "output_type": "execute_result"
    }
   ],
   "source": [
    "import numpy as np\n",
    "\n",
    "arr = np.arange(7, 101, 7)\n",
    "torch.tensor(arr, dtype=torch.float32)"
   ],
   "metadata": {
    "collapsed": false,
    "ExecuteTime": {
     "end_time": "2024-03-13T00:44:26.624495200Z",
     "start_time": "2024-03-13T00:44:26.537373200Z"
    }
   },
   "id": "dd4f1b214f1ce636",
   "execution_count": 6
  },
  {
   "cell_type": "markdown",
   "source": [
    "9. 아래 조건에 맞는 데이터를 PyTorch에 저장하는 코드를 작성하세요.\n",
    "    - 이미지 파일 : flower.jpg\n",
    "    - 이미지 크기 : 120x80\n",
    "    - 데이터 타입 : uint8\n",
    "    - 데이터 : 임의의 값"
   ],
   "metadata": {
    "collapsed": false
   },
   "id": "b4c1df1f16ee9310"
  },
  {
   "cell_type": "code",
   "outputs": [
    {
     "data": {
      "text/plain": "torch.Size([80, 120])"
     },
     "execution_count": 24,
     "metadata": {},
     "output_type": "execute_result"
    }
   ],
   "source": [
    "filename = 'flower.jpg'\n",
    "\n",
    "# 120x80 : 120 ~ 가로, 80 ~ 세로\n",
    "torch.randint(0, 255, (80, 120), dtype=torch.uint8).shape    # (80 ~ 행/세로, 120 ~ 열/가로)"
   ],
   "metadata": {
    "collapsed": false,
    "ExecuteTime": {
     "end_time": "2024-03-13T07:58:06.572859700Z",
     "start_time": "2024-03-13T07:58:06.555859Z"
    }
   },
   "id": "d3b86dae02d2a356",
   "execution_count": 24
  },
  {
   "cell_type": "markdown",
   "source": [
    "10. 아래 조건에 맞도록 코드를 작성하세요.\n",
    "    (1) 1D으로 저장\n",
    "    (2) (1)에서 저장된 데이터를 요소 수 변경 없이 3D로 변환\n",
    "    (3) (2)에서 저장된 데이터의 2개 차원 변경한 3D로 변환\n",
    "    (4) (2)에서 저장된 데이터의 3개 차원 모두 변경한 3D로 변환"
   ],
   "metadata": {
    "collapsed": false
   },
   "id": "b2887ab0d4883aaa"
  },
  {
   "cell_type": "code",
   "outputs": [
    {
     "name": "stdout",
     "output_type": "stream",
     "text": [
      "torch.Size([10]) torch.Size([10, 1, 1]) torch.Size([1, 1, 10]) torch.Size([1, 10, 1])\n"
     ]
    }
   ],
   "source": [
    "q10 = torch.randint(0, 255, (10,))\n",
    "\n",
    "q101 = q10.unsqueeze(dim=-1).unsqueeze(-1)\n",
    "\n",
    "q102 = q101.transpose(0, 2)\n",
    "\n",
    "q103 = q101.permute(2, 0, 1)\n",
    "\n",
    "print(q10.shape, q101.shape, q102.shape, q103.shape)"
   ],
   "metadata": {
    "collapsed": false,
    "ExecuteTime": {
     "end_time": "2024-03-13T00:44:26.626647300Z",
     "start_time": "2024-03-13T00:44:26.570217300Z"
    }
   },
   "id": "e53b665a86551994",
   "execution_count": 8
  },
  {
   "cell_type": "markdown",
   "source": [
    "11. 아래 조건에 맞도록 코드를 작성하세요.\n",
    "데이터\n",
    "국어 90, 70, 80\n",
    "영어 70, 100, 80\n",
    "수학 99, 88, 77\n",
    "(1) 위의 데이터를 저장\n",
    "(2) 과목별 합계, 평균, 최고점수 출력\n",
    "(3) 한 사람의 국어, 영어, 수학 점수 합계, 평균, 최고점수 출력"
   ],
   "metadata": {
    "collapsed": false
   },
   "id": "c39bf4c22081f0af"
  },
  {
   "cell_type": "code",
   "outputs": [
    {
     "name": "stdout",
     "output_type": "stream",
     "text": [
      "과목별\n",
      "합계: tensor([259, 258, 237]), 평균: tensor([86.3333, 86.0000, 79.0000]), \n",
      "최고점수: torch.return_types.max(\n",
      "values=tensor([ 99, 100,  80]),\n",
      "indices=tensor([2, 1, 0]))\n",
      "한 사람별\n",
      "합계: tensor([240, 250, 264]), 평균: tensor([80.0000, 83.3333, 88.0000]), \n",
      "최고점수: torch.return_types.max(\n",
      "values=tensor([ 90, 100,  99]),\n",
      "indices=tensor([0, 1, 0]))\n"
     ]
    }
   ],
   "source": [
    "q11 = torch.tensor([[90, 70, 80], [70, 100, 80], [99, 88, 77]])\n",
    "print('과목별')\n",
    "print(f'합계: {q11.sum(dim=0)}, 평균: {q11.float().mean(dim=0)}, \\n최고점수: {q11.max(dim=0)}')  # 과목별 합계, 평균, 최고점수\n",
    "print('한 사람별')\n",
    "print(f'합계: {q11.sum(dim=1)}, 평균: {q11.float().mean(dim=1)}, \\n최고점수: {q11.max(dim=1)}')  # 과목별 합계, 평균, 최고점수"
   ],
   "metadata": {
    "collapsed": false,
    "ExecuteTime": {
     "end_time": "2024-03-13T08:05:58.305268100Z",
     "start_time": "2024-03-13T08:05:58.286267700Z"
    }
   },
   "id": "b8a53aa0a9e2537c",
   "execution_count": 34
  },
  {
   "cell_type": "markdown",
   "source": [
    "12. 아래 조건에 맞도록 코드를 작성하세요.\n",
    "    - (1) 위에 데이터를 저장\n",
    "    - (2) 데이터1과 데이터2의 사칙연산 결과\n",
    "    - (3) 데이터1과 데이터2의 행렬곱셈"
   ],
   "metadata": {
    "collapsed": false
   },
   "id": "7e2c5c45871789fe"
  },
  {
   "cell_type": "code",
   "outputs": [],
   "source": [
    "q12 = torch.tensor([0.5, 0.2, 0.7])\n"
   ],
   "metadata": {
    "collapsed": false,
    "ExecuteTime": {
     "end_time": "2024-03-13T00:44:26.686000500Z",
     "start_time": "2024-03-13T00:44:26.601182800Z"
    }
   },
   "id": "7816d04544d3e044",
   "execution_count": 10
  },
  {
   "cell_type": "code",
   "outputs": [
    {
     "data": {
      "text/plain": "tensor([[ 90.5000,  70.2000,  80.7000],\n        [ 70.5000, 100.2000,  80.7000],\n        [ 99.5000,  88.2000,  77.7000]])"
     },
     "execution_count": 11,
     "metadata": {},
     "output_type": "execute_result"
    }
   ],
   "source": [
    "q11 + q12"
   ],
   "metadata": {
    "collapsed": false,
    "ExecuteTime": {
     "end_time": "2024-03-13T00:44:26.689428300Z",
     "start_time": "2024-03-13T00:44:26.614668900Z"
    }
   },
   "id": "b2016a40f61fd7d7",
   "execution_count": 11
  },
  {
   "cell_type": "code",
   "outputs": [
    {
     "data": {
      "text/plain": "tensor([[89.5000, 69.8000, 79.3000],\n        [69.5000, 99.8000, 79.3000],\n        [98.5000, 87.8000, 76.3000]])"
     },
     "execution_count": 12,
     "metadata": {},
     "output_type": "execute_result"
    }
   ],
   "source": [
    "q11 - q12"
   ],
   "metadata": {
    "collapsed": false,
    "ExecuteTime": {
     "end_time": "2024-03-13T00:44:26.702494700Z",
     "start_time": "2024-03-13T00:44:26.630953900Z"
    }
   },
   "id": "5e2b83148843d055",
   "execution_count": 12
  },
  {
   "cell_type": "code",
   "outputs": [
    {
     "data": {
      "text/plain": "tensor([[45.0000, 14.0000, 56.0000],\n        [35.0000, 20.0000, 56.0000],\n        [49.5000, 17.6000, 53.9000]])"
     },
     "execution_count": 13,
     "metadata": {},
     "output_type": "execute_result"
    }
   ],
   "source": [
    "q11 * q12"
   ],
   "metadata": {
    "collapsed": false,
    "ExecuteTime": {
     "end_time": "2024-03-13T00:44:26.748633200Z",
     "start_time": "2024-03-13T00:44:26.647001500Z"
    }
   },
   "id": "4d115f33cc0f3048",
   "execution_count": 13
  },
  {
   "cell_type": "code",
   "outputs": [
    {
     "data": {
      "text/plain": "tensor([[180.0000, 350.0000, 114.2857],\n        [140.0000, 500.0000, 114.2857],\n        [198.0000, 440.0000, 110.0000]])"
     },
     "execution_count": 14,
     "metadata": {},
     "output_type": "execute_result"
    }
   ],
   "source": [
    "q11 / q12"
   ],
   "metadata": {
    "collapsed": false,
    "ExecuteTime": {
     "end_time": "2024-03-13T00:44:26.749804400Z",
     "start_time": "2024-03-13T00:44:26.664005900Z"
    }
   },
   "id": "df92990acc67bbcc",
   "execution_count": 14
  },
  {
   "cell_type": "code",
   "outputs": [
    {
     "data": {
      "text/plain": "tensor([115., 111., 121.], dtype=torch.float16)"
     },
     "execution_count": 19,
     "metadata": {},
     "output_type": "execute_result"
    }
   ],
   "source": [
    "q11.half().matmul(q12.half()) # 둘 다 실수형으로 바꾸면 문제 없음"
   ],
   "metadata": {
    "collapsed": false,
    "ExecuteTime": {
     "end_time": "2024-03-13T00:51:47.146562900Z",
     "start_time": "2024-03-13T00:51:47.123074200Z"
    }
   },
   "id": "cb79c720c982a8ab",
   "execution_count": 19
  },
  {
   "cell_type": "code",
   "outputs": [],
   "source": [],
   "metadata": {
    "collapsed": false
   },
   "id": "289dc567a893c230"
  }
 ],
 "metadata": {
  "kernelspec": {
   "display_name": "Python 3",
   "language": "python",
   "name": "python3"
  },
  "language_info": {
   "codemirror_mode": {
    "name": "ipython",
    "version": 2
   },
   "file_extension": ".py",
   "mimetype": "text/x-python",
   "name": "python",
   "nbconvert_exporter": "python",
   "pygments_lexer": "ipython2",
   "version": "2.7.6"
  }
 },
 "nbformat": 4,
 "nbformat_minor": 5
}
