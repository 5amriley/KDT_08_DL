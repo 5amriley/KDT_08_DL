{
 "cells": [
  {
   "cell_type": "markdown",
   "source": [
    "(2-2) 사용자 정의 데이터셋 생성"
   ],
   "metadata": {
    "collapsed": false
   },
   "id": "6fb6c564ec1af401"
  },
  {
   "cell_type": "code",
   "outputs": [],
   "source": [
    "import pandas as pd\n",
    "import numpy as np"
   ],
   "metadata": {
    "collapsed": false,
    "ExecuteTime": {
     "end_time": "2024-03-15T06:51:07.748898400Z",
     "start_time": "2024-03-15T06:51:07.235147500Z"
    }
   },
   "id": "2327bdebb5a0fc6b",
   "execution_count": 1
  },
  {
   "cell_type": "code",
   "outputs": [
    {
     "data": {
      "text/plain": "   sepal_length  sepal_width  petal_length  petal_width species\n0           5.1          3.5           1.4          0.2  setosa\n1           4.9          3.0           1.4          0.2  setosa\n2           4.7          3.2           1.3          0.2  setosa",
      "text/html": "<div>\n<style scoped>\n    .dataframe tbody tr th:only-of-type {\n        vertical-align: middle;\n    }\n\n    .dataframe tbody tr th {\n        vertical-align: top;\n    }\n\n    .dataframe thead th {\n        text-align: right;\n    }\n</style>\n<table border=\"1\" class=\"dataframe\">\n  <thead>\n    <tr style=\"text-align: right;\">\n      <th></th>\n      <th>sepal_length</th>\n      <th>sepal_width</th>\n      <th>petal_length</th>\n      <th>petal_width</th>\n      <th>species</th>\n    </tr>\n  </thead>\n  <tbody>\n    <tr>\n      <th>0</th>\n      <td>5.1</td>\n      <td>3.5</td>\n      <td>1.4</td>\n      <td>0.2</td>\n      <td>setosa</td>\n    </tr>\n    <tr>\n      <th>1</th>\n      <td>4.9</td>\n      <td>3.0</td>\n      <td>1.4</td>\n      <td>0.2</td>\n      <td>setosa</td>\n    </tr>\n    <tr>\n      <th>2</th>\n      <td>4.7</td>\n      <td>3.2</td>\n      <td>1.3</td>\n      <td>0.2</td>\n      <td>setosa</td>\n    </tr>\n  </tbody>\n</table>\n</div>"
     },
     "execution_count": 2,
     "metadata": {},
     "output_type": "execute_result"
    }
   ],
   "source": [
    "### 데이터 준비\n",
    "filename = '../data/iris.csv'\n",
    "irisDF = pd.read_csv(filename)\n",
    "irisDF.head(3)"
   ],
   "metadata": {
    "collapsed": false,
    "ExecuteTime": {
     "end_time": "2024-03-15T06:51:07.804965700Z",
     "start_time": "2024-03-15T06:51:07.751891800Z"
    }
   },
   "id": "6b8ae8c56ad5ab07",
   "execution_count": 2
  },
  {
   "cell_type": "code",
   "outputs": [
    {
     "data": {
      "text/plain": "array([[5.1, 3.5, 1.4, 0.2],\n       [4.9, 3. , 1.4, 0.2],\n       [4.7, 3.2, 1.3, 0.2]])"
     },
     "execution_count": 3,
     "metadata": {},
     "output_type": "execute_result"
    }
   ],
   "source": [
    "irisNP = np.loadtxt(filename, delimiter=',', skiprows=1, usecols=[0, 1, 2, 3])\n",
    "irisNP[:3]"
   ],
   "metadata": {
    "collapsed": false,
    "ExecuteTime": {
     "end_time": "2024-03-15T06:51:07.828893Z",
     "start_time": "2024-03-15T06:51:07.784893600Z"
    }
   },
   "id": "499b926b1d1294cf",
   "execution_count": 3
  },
  {
   "cell_type": "code",
   "outputs": [
    {
     "data": {
      "text/plain": "('DataFrame', 'ndarray')"
     },
     "execution_count": 4,
     "metadata": {},
     "output_type": "execute_result"
    }
   ],
   "source": [
    "### 데이터의 타입 체크\n",
    "irisDF.__class__.__name__, irisNP.__class__.__name__"
   ],
   "metadata": {
    "collapsed": false,
    "ExecuteTime": {
     "end_time": "2024-03-15T06:51:07.897936900Z",
     "start_time": "2024-03-15T06:51:07.796893300Z"
    }
   },
   "id": "bf5fd0e0b87aa90c",
   "execution_count": 4
  },
  {
   "cell_type": "code",
   "outputs": [
    {
     "name": "stdout",
     "output_type": "stream",
     "text": [
      "DF\n"
     ]
    }
   ],
   "source": [
    "if irisDF.__class__.__name__ == 'DataFrame':\n",
    "    print('DF')\n",
    "else:\n",
    "    print('-----')"
   ],
   "metadata": {
    "collapsed": false,
    "ExecuteTime": {
     "end_time": "2024-03-15T06:51:07.921938500Z",
     "start_time": "2024-03-15T06:51:07.812900100Z"
    }
   },
   "id": "2105f7c1f97a64a6",
   "execution_count": 5
  },
  {
   "cell_type": "code",
   "outputs": [
    {
     "data": {
      "text/plain": "(True, False)"
     },
     "execution_count": 6,
     "metadata": {},
     "output_type": "execute_result"
    }
   ],
   "source": [
    "### 데이터의 타입 체크\n",
    "isinstance(irisDF, pd.DataFrame), isinstance(irisNP, pd.DataFrame)"
   ],
   "metadata": {
    "collapsed": false,
    "ExecuteTime": {
     "end_time": "2024-03-15T06:51:07.926011400Z",
     "start_time": "2024-03-15T06:51:07.831893400Z"
    }
   },
   "id": "fdc3647caf9e8257",
   "execution_count": 6
  },
  {
   "cell_type": "code",
   "outputs": [
    {
     "data": {
      "text/plain": "(True, False)"
     },
     "execution_count": 7,
     "metadata": {},
     "output_type": "execute_result"
    }
   ],
   "source": [
    "isinstance([10], list), isinstance({10}, list)"
   ],
   "metadata": {
    "collapsed": false,
    "ExecuteTime": {
     "end_time": "2024-03-15T06:51:07.929937200Z",
     "start_time": "2024-03-15T06:51:07.845891800Z"
    }
   },
   "id": "ee7c8b54c38c7f36",
   "execution_count": 7
  },
  {
   "cell_type": "code",
   "outputs": [],
   "source": [
    "import torch\n",
    "import torch.nn as nn\n",
    "from torch.utils.data import Dataset, DataLoader"
   ],
   "metadata": {
    "collapsed": false,
    "ExecuteTime": {
     "end_time": "2024-03-15T06:51:09.703258Z",
     "start_time": "2024-03-15T06:51:07.861937700Z"
    }
   },
   "id": "a1f54a977b0261e6",
   "execution_count": 8
  },
  {
   "cell_type": "code",
   "outputs": [],
   "source": [
    "### 사용자정의 Dataset 클래스\n",
    "class DLDataset(Dataset):\n",
    "    \n",
    "    # 초기화 함수\n",
    "    def __init__(self, x_data, y_data):\n",
    "        super().__init__()\n",
    "        \n",
    "        # x, y 데이터가 DF라면 ndarray로 바꾸고, ndarray라면 그대로 저장\n",
    "        x_data = x_data.values if isinstance(x_data, pd.DataFrame) else x_data\n",
    "        y_data = y_data.values if isinstance(y_data, pd.DataFrame) else y_data\n",
    "        \n",
    "        # ndarray -> tensor\n",
    "        self.feature = torch.FloatTensor(x_data)     # Float\n",
    "        self.target = torch.LongTensor(y_data)       # Long\n",
    "    \n",
    "    # 데이터셋의 개수 체크 함수 콜백함수 (callback function)\n",
    "    def __len__(self):\n",
    "        return self.target.shape[0]\n",
    "    \n",
    "    # 특정 인덱스 데이터 + 라벨 반환 콜백함수 (callback function)\n",
    "    def __getitem__(self, index):\n",
    "        return self.feature[index], self.target[index]"
   ],
   "metadata": {
    "collapsed": false,
    "ExecuteTime": {
     "end_time": "2024-03-15T06:51:09.731259600Z",
     "start_time": "2024-03-15T06:51:09.709308600Z"
    }
   },
   "id": "5b5d46313673c80d",
   "execution_count": 9
  },
  {
   "cell_type": "markdown",
   "source": [
    "(2-2) 데이터셋 인스턴스 생성"
   ],
   "metadata": {
    "collapsed": false
   },
   "id": "dd414f1f717b859f"
  },
  {
   "cell_type": "code",
   "outputs": [],
   "source": [
    "### 피처와 라벨로 분리\n",
    "featureDF = irisDF[irisDF.columns[:-1]]\n",
    "targetSR = irisDF[irisDF.columns[-1]]"
   ],
   "metadata": {
    "collapsed": false,
    "ExecuteTime": {
     "end_time": "2024-03-15T06:51:09.744260300Z",
     "start_time": "2024-03-15T06:51:09.725259800Z"
    }
   },
   "id": "e773c9e30401471d",
   "execution_count": 10
  },
  {
   "cell_type": "code",
   "outputs": [],
   "source": [
    "### object 타입 타겟 -> int 타입 타겟 변환\n",
    "from sklearn.preprocessing import LabelEncoder\n",
    "\n",
    "targetNP = LabelEncoder().fit_transform(targetSR)\n",
    "targetNP = targetNP.reshape(-1, 1)      # 1차원 -> 2차원으로 변환"
   ],
   "metadata": {
    "collapsed": false,
    "ExecuteTime": {
     "end_time": "2024-03-15T06:51:10.541829800Z",
     "start_time": "2024-03-15T06:51:09.738258800Z"
    }
   },
   "id": "843014a6418cafbd",
   "execution_count": 11
  },
  {
   "cell_type": "code",
   "outputs": [],
   "source": [
    "# 데이터셋 생성 => DF, NP\n",
    "my_dataset = DLDataset(featureDF, targetNP)"
   ],
   "metadata": {
    "collapsed": false,
    "ExecuteTime": {
     "end_time": "2024-03-15T06:51:10.567788600Z",
     "start_time": "2024-03-15T06:51:10.544789Z"
    }
   },
   "id": "318447649e8826c6",
   "execution_count": 12
  },
  {
   "cell_type": "code",
   "outputs": [
    {
     "data": {
      "text/plain": "((tensor([5.1000, 3.5000, 1.4000, 0.2000]), tensor([0])),\n sepal_length    5.1\n sepal_width     3.5\n petal_length    1.4\n petal_width     0.2\n Name: 0, dtype: float64,\n array([0]))"
     },
     "execution_count": 13,
     "metadata": {},
     "output_type": "execute_result"
    }
   ],
   "source": [
    "my_dataset[0], featureDF.iloc[0], targetNP[0]"
   ],
   "metadata": {
    "collapsed": false,
    "ExecuteTime": {
     "end_time": "2024-03-15T06:51:10.597787600Z",
     "start_time": "2024-03-15T06:51:10.559801800Z"
    }
   },
   "id": "651020df47dde775",
   "execution_count": 13
  },
  {
   "cell_type": "code",
   "outputs": [],
   "source": [
    "# 데이터셋 생성 => NP, NP\n",
    "my_dataset2 = DLDataset(irisNP, targetNP)"
   ],
   "metadata": {
    "collapsed": false,
    "ExecuteTime": {
     "end_time": "2024-03-15T06:51:10.598790Z",
     "start_time": "2024-03-15T06:51:10.576788600Z"
    }
   },
   "id": "b1624fb7f9cf5ecd",
   "execution_count": 14
  },
  {
   "cell_type": "code",
   "outputs": [
    {
     "data": {
      "text/plain": "(tensor([5.1000, 3.5000, 1.4000, 0.2000]), tensor([0]))"
     },
     "execution_count": 15,
     "metadata": {},
     "output_type": "execute_result"
    }
   ],
   "source": [
    "my_dataset2[0]"
   ],
   "metadata": {
    "collapsed": false,
    "ExecuteTime": {
     "end_time": "2024-03-15T06:51:10.687647Z",
     "start_time": "2024-03-15T06:51:10.592788200Z"
    }
   },
   "id": "465671d0a6e9ac1b",
   "execution_count": 15
  },
  {
   "cell_type": "markdown",
   "source": [
    "(2-3) 학습용, 검증용, 테스트용 Dataset"
   ],
   "metadata": {
    "collapsed": false
   },
   "id": "b620c172412c54a"
  },
  {
   "cell_type": "code",
   "outputs": [],
   "source": [
    "### 파이토치\n",
    "from torch.utils.data import random_split\n",
    "\n",
    "# 학습용, 검증용, 테스트 데이터 비율\n",
    "trainDS, validDS, testDS = random_split(my_dataset2, [0.7, 0.1, 0.2], generator=torch.Generator().manual_seed(42))"
   ],
   "metadata": {
    "collapsed": false,
    "ExecuteTime": {
     "end_time": "2024-03-15T06:51:10.688646500Z",
     "start_time": "2024-03-15T06:51:10.608329500Z"
    }
   },
   "id": "841b4d8b9411c323",
   "execution_count": 16
  },
  {
   "cell_type": "code",
   "outputs": [
    {
     "data": {
      "text/plain": "torch.utils.data.dataset.Subset"
     },
     "execution_count": 17,
     "metadata": {},
     "output_type": "execute_result"
    }
   ],
   "source": [
    "type(trainDS)"
   ],
   "metadata": {
    "collapsed": false,
    "ExecuteTime": {
     "end_time": "2024-03-15T06:51:10.716271500Z",
     "start_time": "2024-03-15T06:51:10.622328400Z"
    }
   },
   "id": "f5fe6a8aea113ff5",
   "execution_count": 17
  },
  {
   "cell_type": "code",
   "outputs": [
    {
     "name": "stdout",
     "output_type": "stream",
     "text": [
      "(train) Subset 속성=>\n",
      "indices : [42, 95, 30, 64, 52, 35, 130, 40, 82, 17, 108, 94, 68, 97, 117, 127, 41, 44, 57, 140, 149, 32, 23, 102, 16, 113, 71, 18, 67, 66, 0, 25, 101, 112, 91, 3, 59, 116, 86, 84, 106, 142, 43, 39, 26, 98, 93, 20, 87, 19, 120, 114, 7, 63, 76, 89, 36, 45, 37, 56, 58, 122, 51, 145, 24, 21, 105, 62, 15, 11, 48, 133, 88, 50, 6, 134, 111, 8, 49, 75, 69, 124, 4, 147, 80, 100, 99, 141, 47, 107, 13, 109, 129, 28, 38, 53, 121, 5, 55, 31, 73, 74, 54, 29, 12]\n",
      "dataset : <__main__.DLDataset object at 0x000001FAF00810A0>\n"
     ]
    }
   ],
   "source": [
    "print(f'(train) Subset 속성=>\\nindices : {trainDS.indices}\\ndataset : {trainDS.dataset}')"
   ],
   "metadata": {
    "collapsed": false,
    "ExecuteTime": {
     "end_time": "2024-03-15T06:51:10.770480500Z",
     "start_time": "2024-03-15T06:51:10.646179100Z"
    }
   },
   "id": "af5bb20189154197",
   "execution_count": 18
  },
  {
   "cell_type": "code",
   "outputs": [
    {
     "data": {
      "text/plain": "(105, 15, 30)"
     },
     "execution_count": 19,
     "metadata": {},
     "output_type": "execute_result"
    }
   ],
   "source": [
    "len(trainDS), len(validDS), len(testDS)"
   ],
   "metadata": {
    "collapsed": false,
    "ExecuteTime": {
     "end_time": "2024-03-15T06:51:10.771541800Z",
     "start_time": "2024-03-15T06:51:10.654081100Z"
    }
   },
   "id": "8d460ca4d43d467a",
   "execution_count": 19
  },
  {
   "cell_type": "markdown",
   "source": [
    "(3) DataLoader 생성 : 학습용, 검증용, 테스트용"
   ],
   "metadata": {
    "collapsed": false
   },
   "id": "3157d7c8f6653669"
  },
  {
   "cell_type": "code",
   "outputs": [
    {
     "data": {
      "text/plain": "(10, 2, 3)"
     },
     "execution_count": 20,
     "metadata": {},
     "output_type": "execute_result"
    }
   ],
   "source": [
    "# DataLoader 생성\n",
    "# drop_last 매개변수 : 배치사이즈로 데이터셋 분리 후 남는 데이터 처리 방법 설정 (기본 : False)\n",
    "batch_size = 10\n",
    "trainDL = DataLoader(trainDS, batch_size=batch_size, drop_last=True)\n",
    "validDL = DataLoader(validDS, batch_size=batch_size)\n",
    "testDL = DataLoader(testDS, batch_size=batch_size)\n",
    "\n",
    "len(trainDL), len(validDL), len(testDL)"
   ],
   "metadata": {
    "collapsed": false,
    "ExecuteTime": {
     "end_time": "2024-03-15T06:51:10.772599600Z",
     "start_time": "2024-03-15T06:51:10.673646700Z"
    }
   },
   "id": "90e1fb0d2e2c8fc9",
   "execution_count": 20
  },
  {
   "cell_type": "code",
   "outputs": [
    {
     "name": "stdout",
     "output_type": "stream",
     "text": [
      "batch_size: 10\n",
      "trainDS : 105, validDS : 15, testDS : 30\n",
      "trainDL : 10, validDS : 2, testDS : 3\n"
     ]
    }
   ],
   "source": [
    "# Epoch 당 반복 단위\n",
    "print(f'batch_size: {batch_size}')\n",
    "print(f'trainDS : {len(trainDS)}, validDS : {len(validDS)}, testDS : {len(testDS)}')\n",
    "print(f'trainDL : {len(trainDL)}, validDS : {len(validDL)}, testDS : {len(testDL)}')"
   ],
   "metadata": {
    "collapsed": false,
    "ExecuteTime": {
     "end_time": "2024-03-15T06:51:10.799384300Z",
     "start_time": "2024-03-15T06:51:10.685646Z"
    }
   },
   "id": "3f1f56e8e0fe5d6",
   "execution_count": 21
  },
  {
   "cell_type": "code",
   "outputs": [
    {
     "name": "stdout",
     "output_type": "stream",
     "text": [
      "[0] feature torch.Size([10, 4]) target torch.Size([10, 1])\n",
      "[1] feature torch.Size([10, 4]) target torch.Size([10, 1])\n",
      "[2] feature torch.Size([10, 4]) target torch.Size([10, 1])\n",
      "[3] feature torch.Size([10, 4]) target torch.Size([10, 1])\n",
      "[4] feature torch.Size([10, 4]) target torch.Size([10, 1])\n",
      "[5] feature torch.Size([10, 4]) target torch.Size([10, 1])\n",
      "[6] feature torch.Size([10, 4]) target torch.Size([10, 1])\n",
      "[7] feature torch.Size([10, 4]) target torch.Size([10, 1])\n",
      "[8] feature torch.Size([10, 4]) target torch.Size([10, 1])\n",
      "[9] feature torch.Size([10, 4]) target torch.Size([10, 1])\n"
     ]
    }
   ],
   "source": [
    "# DataLoader \n",
    "for _, (feature, target) in enumerate(trainDL):\n",
    "    print(f'[{_}] feature {feature.shape} target {target.shape}')"
   ],
   "metadata": {
    "collapsed": false,
    "ExecuteTime": {
     "end_time": "2024-03-15T06:51:10.824461200Z",
     "start_time": "2024-03-15T06:51:10.701992900Z"
    }
   },
   "id": "92429c85eddeb28b",
   "execution_count": 22
  },
  {
   "cell_type": "markdown",
   "source": [
    "(4) Model 클래스 정의 : 입/출력 피쳐수, 층 수, 은닉층의 노드 수\n",
    "- 구조 설계\n",
    "    - 입력층 : 입력 <= 피쳐 개수 (iris : 4개)\n",
    "    - 은닉층 : 마음대로, 알아서 잘\n",
    "    - 출력층 : 출력 <= [분류] 타겟 클래스 개수 [회귀] 1개"
   ],
   "metadata": {
    "collapsed": false
   },
   "id": "5e80b00dfe899cc3"
  },
  {
   "cell_type": "code",
   "outputs": [],
   "source": [
    "# 모델 클래스 정의\n",
    "# 클래스명 : CModel\n",
    "class CModel(torch.nn.Module):\n",
    "    # 구성요소 정의 함수\n",
    "    def __init__(self, in_, out_):\n",
    "        super().__init__()      # 부모 클래스 생성자\n",
    "        self.layer1 = torch.nn.Linear(in_, 10)\n",
    "        self.relu = torch.nn.ReLU()\n",
    "        self.layer2 = torch.nn.Linear(10, 6)\n",
    "        self.layer3 = torch.nn.Linear(6, out_)\n",
    "    # 순방향 학습 진행 함수\n",
    "    def forward(self, x):\n",
    "        x = self.layer1(x)      # W1X1 + W2X2 + ... + WnXn + b 10개 반환\n",
    "        x = self.relu(x)        # relu() 결과 10개 반환\n",
    "        x = self.layer2(x)      # W1X1 + W2X2 + ... + WnXn + b 6개 반환\n",
    "        x = self.relu(x)        # relu() 결과 6개 반환\n",
    "        x = self.layer3(x)      # W1X1 + W2X2 + ... + WnXn + b 3개 반환\n",
    "        return x"
   ],
   "metadata": {
    "collapsed": false,
    "ExecuteTime": {
     "end_time": "2024-03-15T06:51:10.854765200Z",
     "start_time": "2024-03-15T06:51:10.720271200Z"
    }
   },
   "id": "65b48f6bfff0ad5a",
   "execution_count": 23
  },
  {
   "cell_type": "markdown",
   "source": [
    "(5) 학습 준비 : 실행 디바이스, 모델, 최적화, 손실함수, 학습회수 "
   ],
   "metadata": {
    "collapsed": false
   },
   "id": "805b6e0a260e6490"
  },
  {
   "cell_type": "code",
   "outputs": [],
   "source": [
    "## 실행 디바이스 설정\n",
    "DEVICE = 'cuda' if torch.cuda.is_available() else 'cpu'\n",
    "\n",
    "# 학습 횟수\n",
    "EPOCHS = 50"
   ],
   "metadata": {
    "collapsed": false,
    "ExecuteTime": {
     "end_time": "2024-03-15T06:51:10.942143800Z",
     "start_time": "2024-03-15T06:51:10.734270800Z"
    }
   },
   "id": "95c862658b4b9085",
   "execution_count": 24
  },
  {
   "cell_type": "code",
   "outputs": [
    {
     "data": {
      "text/plain": "torch.Size([150, 4])"
     },
     "execution_count": 25,
     "metadata": {},
     "output_type": "execute_result"
    }
   ],
   "source": [
    "my_dataset.feature.shape"
   ],
   "metadata": {
    "collapsed": false,
    "ExecuteTime": {
     "end_time": "2024-03-15T06:51:10.944234700Z",
     "start_time": "2024-03-15T06:51:10.749270800Z"
    }
   },
   "id": "833e47a6bf35632",
   "execution_count": 25
  },
  {
   "cell_type": "code",
   "outputs": [
    {
     "name": "stdout",
     "output_type": "stream",
     "text": [
      "모델 구조 확인 : CModel(\n",
      "  (layer1): Linear(in_features=4, out_features=10, bias=True)\n",
      "  (relu): ReLU()\n",
      "  (layer2): Linear(in_features=10, out_features=6, bias=True)\n",
      "  (layer3): Linear(in_features=6, out_features=3, bias=True)\n",
      ")\n"
     ]
    }
   ],
   "source": [
    "## 모델 인스턴스 생성\n",
    "IN, OUT = my_dataset.feature.shape[1], len(np.unique(targetNP))\n",
    "model = CModel(IN, OUT).to(DEVICE)\n",
    "print(f'모델 구조 확인 : {model}')"
   ],
   "metadata": {
    "collapsed": false,
    "ExecuteTime": {
     "end_time": "2024-03-15T06:51:10.975250300Z",
     "start_time": "2024-03-15T06:51:10.763939100Z"
    }
   },
   "id": "6f023ab9b8a58eeb",
   "execution_count": 26
  },
  {
   "cell_type": "code",
   "outputs": [
    {
     "name": "stdout",
     "output_type": "stream",
     "text": [
      "Parameter containing:\n",
      "tensor([[-0.3762,  0.1638, -0.4266, -0.1546],\n",
      "        [ 0.0384, -0.2837,  0.2531, -0.3386],\n",
      "        [ 0.0407,  0.1095,  0.3939, -0.3299],\n",
      "        [-0.3834, -0.4521, -0.2811, -0.4469],\n",
      "        [ 0.4007, -0.1101, -0.0933,  0.3541],\n",
      "        [-0.3032, -0.0756, -0.3729, -0.2430],\n",
      "        [-0.1014, -0.1632, -0.1527, -0.4893],\n",
      "        [-0.4517, -0.4799,  0.4458, -0.4033],\n",
      "        [-0.2505,  0.3246,  0.3947,  0.2691],\n",
      "        [-0.0715, -0.1714,  0.2324,  0.3386]], requires_grad=True)\n",
      "Parameter containing:\n",
      "tensor([ 0.4525, -0.0774, -0.0690,  0.3655,  0.3624,  0.0961,  0.4992, -0.4873,\n",
      "         0.1587, -0.1773], requires_grad=True)\n",
      "Parameter containing:\n",
      "tensor([[ 0.0065, -0.1793,  0.1458, -0.3154, -0.2777, -0.0974, -0.2348, -0.1711,\n",
      "         -0.2132,  0.2392],\n",
      "        [-0.2735, -0.1542, -0.0144, -0.2331,  0.0415, -0.2214,  0.0453, -0.1169,\n",
      "         -0.2853,  0.0128],\n",
      "        [-0.2015,  0.3035,  0.2511,  0.0629, -0.2224, -0.2040,  0.2282,  0.0339,\n",
      "         -0.1625, -0.0276],\n",
      "        [ 0.2113, -0.0503,  0.2503, -0.1121, -0.0261, -0.2484,  0.1980, -0.2159,\n",
      "         -0.2694, -0.2549],\n",
      "        [-0.0488,  0.0556,  0.2260,  0.1963, -0.1389, -0.2144,  0.1688,  0.2100,\n",
      "          0.1977, -0.1967],\n",
      "        [ 0.2426,  0.2930, -0.3139,  0.1919,  0.1030,  0.1103,  0.1847,  0.2403,\n",
      "          0.1050,  0.1542]], requires_grad=True)\n",
      "Parameter containing:\n",
      "tensor([ 0.1563,  0.1127, -0.1481, -0.2701, -0.1369,  0.0781],\n",
      "       requires_grad=True)\n",
      "Parameter containing:\n",
      "tensor([[-0.3771,  0.2490,  0.2180, -0.2169, -0.0779,  0.2128],\n",
      "        [ 0.2862, -0.0636, -0.1880,  0.1116, -0.0657,  0.1980],\n",
      "        [-0.1658,  0.3226, -0.1479,  0.0173,  0.0309,  0.3412]],\n",
      "       requires_grad=True)\n",
      "Parameter containing:\n",
      "tensor([0.0810, 0.2936, 0.0464], requires_grad=True)\n"
     ]
    }
   ],
   "source": [
    "for param in model.parameters():\n",
    "    print(param)"
   ],
   "metadata": {
    "collapsed": false,
    "ExecuteTime": {
     "end_time": "2024-03-15T06:51:10.976349400Z",
     "start_time": "2024-03-15T06:51:10.780228Z"
    }
   },
   "id": "7eb3d8967235136d",
   "execution_count": 27
  },
  {
   "cell_type": "code",
   "outputs": [],
   "source": [
    "# 손실함수\n",
    "LOSS_FN = nn.CrossEntropyLoss().to(DEVICE)\n",
    "\n",
    "# 최적화 인스턴스\n",
    "import torch.optim as optim\n",
    "OPTIMIZER = optim.Adam(model.parameters())"
   ],
   "metadata": {
    "collapsed": false,
    "ExecuteTime": {
     "end_time": "2024-03-15T06:51:11.872699200Z",
     "start_time": "2024-03-15T06:51:10.796114Z"
    }
   },
   "id": "a99983b4f8c7329",
   "execution_count": 28
  },
  {
   "cell_type": "markdown",
   "source": [
    "* 학습 및 검증관련 함수 정의"
   ],
   "metadata": {
    "collapsed": false
   },
   "id": "14f04018f3d99e22"
  },
  {
   "cell_type": "code",
   "outputs": [
    {
     "name": "stdout",
     "output_type": "stream",
     "text": [
      "ACC : 0.6000000238418579\n"
     ]
    }
   ],
   "source": [
    "import torchmetrics.functional as metrics\n",
    "from torchmetrics.classification import Accuracy\n",
    "\n",
    "preds = torch.randn(10, 5).softmax(dim=-1)\n",
    "targets = torch.randint(5, (10,))\n",
    "\n",
    "acc = metrics.accuracy(preds, targets, task='multiclass', num_classes=5)\n",
    "print(f'ACC : {acc}')"
   ],
   "metadata": {
    "collapsed": false,
    "ExecuteTime": {
     "end_time": "2024-03-15T06:51:32.145001400Z",
     "start_time": "2024-03-15T06:51:32.119929Z"
    }
   },
   "id": "830409c5d55a25eb",
   "execution_count": 35
  },
  {
   "cell_type": "code",
   "outputs": [
    {
     "data": {
      "text/plain": "tensor([1, 0, 2, 4, 4, 1, 0, 1, 0, 1])"
     },
     "execution_count": 36,
     "metadata": {},
     "output_type": "execute_result"
    }
   ],
   "source": [
    "targets"
   ],
   "metadata": {
    "collapsed": false,
    "ExecuteTime": {
     "end_time": "2024-03-15T06:51:32.290953100Z",
     "start_time": "2024-03-15T06:51:32.279929700Z"
    }
   },
   "id": "bb55f58a429f56da",
   "execution_count": 36
  },
  {
   "cell_type": "code",
   "outputs": [],
   "source": [
    "## 학습 진행함수\n",
    "def training():\n",
    "    # 학습모드 => 정규화, 경사하강법, 드랍아웃 등의 기능 활성화\n",
    "    model.train()\n",
    "    \n",
    "    # 배치크기만큼 학습 진행 및 저장\n",
    "    train_loss = []\n",
    "    for cnt, (x, y) in enumerate(trainDL):\n",
    "        # 배치크기만큼의 학습 데이터 준비\n",
    "        feature, target = x.to(DEVICE), y.to(DEVICE)\n",
    "        target = target.squeeze()\n",
    "        \n",
    "        # 학습\n",
    "        pre_target = model(feature)\n",
    "        # print(f'pre_target => {pre_target.shape}, {pre_target.ndim}D')\n",
    "        # print(f'target => {target.shape}, {target.ndim}D')\n",
    "        \n",
    "        # 손실계산\n",
    "        loss = LOSS_FN(pre_target, target)\n",
    "        train_loss.append(loss)\n",
    "        # W, b 업데이트\n",
    "        OPTIMIZER.zero_grad()\n",
    "        loss.backward()\n",
    "        OPTIMIZER.step()\n",
    "    \n",
    "    # 학습 진행 메시지 출력\n",
    "    print(f'[Train loss] {loss}')\n",
    "    # acc = metrics.accuracy(pre_target, target, task='multiclass', num_classes=3)\n",
    "    # print(f'acc : {acc}')\n",
    "    \n",
    "    return train_loss"
   ],
   "metadata": {
    "collapsed": false,
    "ExecuteTime": {
     "end_time": "2024-03-15T07:48:52.459780400Z",
     "start_time": "2024-03-15T07:48:52.428713100Z"
    }
   },
   "id": "a971ace634675dfe",
   "execution_count": 49
  },
  {
   "cell_type": "code",
   "outputs": [],
   "source": [
    "## 검증 및 평가 진행함수\n",
    "# 매개변수 dataLoader : 검증 또는 테스트 데이터셋에 대한 Loader\n",
    "def testing(dataLoader):\n",
    "    # 추론모드 => 정규화, 경사하강법, 드랍아웃 등의 기능 비활성화\n",
    "    model.eval()\n",
    "    \n",
    "    with torch.no_grad():\n",
    "        # 배치크기만큼 학습 진행 및 저장\n",
    "        val_loss = []\n",
    "        for cnt, (feature, target) in enumerate(dataLoader):\n",
    "            # 배치크기만큼의 학습 데이터 준비\n",
    "            feature, target = feature.to(DEVICE), target.to(DEVICE)\n",
    "            target = target.squeeze()\n",
    "            \n",
    "            # 학습\n",
    "            pre_target = model(feature)\n",
    "            \n",
    "            # 손실계산\n",
    "            loss = LOSS_FN(pre_target, target)\n",
    "            val_loss.append(loss)\n",
    "            \n",
    "            # 배치 단위 학습 진행 메시지 출력\n",
    "            # print(f'[Train {cnt} batch LOSS] => {loss}')\n",
    "    \n",
    "    # 에포크 단위 학습 진행 메시지 출력\n",
    "    acc = metrics.accuracy(pre_target, target, task='multiclass', num_classes=3)\n",
    "    print(f'[Valid loss] => {loss} [Valid loss] => {acc}')\n",
    "    \n",
    "    return val_loss"
   ],
   "metadata": {
    "collapsed": false,
    "ExecuteTime": {
     "end_time": "2024-03-15T07:48:54.747498Z",
     "start_time": "2024-03-15T07:48:54.731417500Z"
    }
   },
   "id": "7e9cc5d502dd14d4",
   "execution_count": 50
  },
  {
   "cell_type": "code",
   "outputs": [],
   "source": [
    "## 예측 함수\n",
    "def predict():\n",
    "    pass"
   ],
   "metadata": {
    "collapsed": false,
    "ExecuteTime": {
     "end_time": "2024-03-15T06:54:26.428415Z",
     "start_time": "2024-03-15T06:54:26.400347300Z"
    }
   },
   "id": "242286cfb2e20800",
   "execution_count": 43
  },
  {
   "cell_type": "markdown",
   "source": [
    "(6) 학습진행"
   ],
   "metadata": {
    "collapsed": false
   },
   "id": "9f6f416342819276"
  },
  {
   "cell_type": "code",
   "outputs": [],
   "source": [
    "from torch.optim.lr_scheduler import ReduceLROnPlateau\n",
    "\n",
    "scheduler = ReduceLROnPlateau(optimizer=OPTIMIZER, mode='min', patience=3)"
   ],
   "metadata": {
    "collapsed": false,
    "ExecuteTime": {
     "end_time": "2024-03-15T08:18:11.271244Z",
     "start_time": "2024-03-15T08:18:11.263260400Z"
    }
   },
   "id": "5fd439affdcad802",
   "execution_count": 72
  },
  {
   "cell_type": "code",
   "outputs": [
    {
     "name": "stdout",
     "output_type": "stream",
     "text": [
      "[Train loss] 0.0045134639367461205\n",
      "[Valid loss] => 0.04841848835349083 [Valid loss] => 1.0\n",
      "[1/50] TRAIN 0.01001050416380167, VALID 0.02441542036831379\n",
      "\n",
      "0\n",
      "[Train loss] 0.0045134639367461205\n",
      "[Valid loss] => 0.04841848835349083 [Valid loss] => 1.0\n",
      "[2/50] TRAIN 0.010010505095124245, VALID 0.02441542036831379\n",
      "\n",
      "1\n",
      "[Train loss] 0.0045134639367461205\n",
      "[Valid loss] => 0.04841848835349083 [Valid loss] => 1.0\n",
      "[3/50] TRAIN 0.010010505095124245, VALID 0.02441542036831379\n",
      "\n",
      "2\n",
      "[Train loss] 0.0045134639367461205\n",
      "[Valid loss] => 0.04841848835349083 [Valid loss] => 1.0\n",
      "[4/50] TRAIN 0.01001050416380167, VALID 0.02441542036831379\n",
      "\n",
      "3\n",
      "Early stopping at epoch 4\n"
     ]
    }
   ],
   "source": [
    "### 지정된 횟수만큼 처음부터 끝까지 학습 및 검증 진행\n",
    "### 목표 : 최적(Error 최소화)의 W, b를 가진 모델 완성\n",
    "for eps in range(1, EPOCHS+1):\n",
    "    # 학습\n",
    "    train_loss = training()\n",
    "    \n",
    "    # 검증\n",
    "    val_loss = testing(validDL)\n",
    "    print(f'[{eps}/{EPOCHS}] TRAIN {sum(train_loss)/len(train_loss)}, VALID {sum(val_loss)/len(val_loss)}\\n')\n",
    "    \n",
    "    # 조기종료 기능 => 조건 : val_loss가 지정된 횟수(예: 5) 이상 개선이 안 되면 학습 종료\n",
    "    scheduler.step(val_loss[-1])\n",
    "    print(scheduler.num_bad_epochs)\n",
    "    if scheduler.num_bad_epochs >= scheduler.patience:\n",
    "        print(f'Early stopping at epoch {eps}')\n",
    "        break"
   ],
   "metadata": {
    "collapsed": false,
    "ExecuteTime": {
     "end_time": "2024-03-15T08:22:22.728051700Z",
     "start_time": "2024-03-15T08:22:22.665457100Z"
    }
   },
   "id": "76bbf45358449e67",
   "execution_count": 78
  },
  {
   "cell_type": "code",
   "outputs": [],
   "source": [],
   "metadata": {
    "collapsed": false,
    "ExecuteTime": {
     "end_time": "2024-03-15T06:51:13.589832800Z",
     "start_time": "2024-03-15T06:51:13.563719700Z"
    }
   },
   "id": "3f53e9adbc37a6df",
   "execution_count": 34
  }
 ],
 "metadata": {
  "kernelspec": {
   "display_name": "Python 3",
   "language": "python",
   "name": "python3"
  },
  "language_info": {
   "codemirror_mode": {
    "name": "ipython",
    "version": 2
   },
   "file_extension": ".py",
   "mimetype": "text/x-python",
   "name": "python",
   "nbconvert_exporter": "python",
   "pygments_lexer": "ipython2",
   "version": "2.7.6"
  }
 },
 "nbformat": 4,
 "nbformat_minor": 5
}
