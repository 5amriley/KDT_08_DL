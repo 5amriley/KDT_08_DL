{
 "cells": [
  {
   "cell_type": "markdown",
   "source": [
    "### Dataset & DataLoader 살펴보기\n",
    "- PyTorch 에서 배치크기만 데이터를 조절하기 위한 메커니즘\n",
    "- Dataset : 사용 데이터를 기반으로 사용자 정의 클래스 작성\n",
    "- DataLoader : 지정된 Dataset 에서 지정된 batch size 만큼 피쳐와 타겟을 추출하여 전달"
   ],
   "metadata": {
    "collapsed": false
   },
   "id": "976f5356a33b540f"
  },
  {
   "cell_type": "markdown",
   "source": [
    "(1) 모듈 로딩 및 데이터 준비"
   ],
   "metadata": {
    "collapsed": false
   },
   "id": "430105a8cfa493f7"
  },
  {
   "cell_type": "code",
   "outputs": [],
   "source": [
    "### => 모듈 로딩\n",
    "import pandas as pd\n",
    "import numpy as np\n",
    "\n",
    "import torch\n",
    "import torch.nn as nn\n",
    "from torch.utils.data import Dataset, DataLoader"
   ],
   "metadata": {
    "collapsed": false,
    "ExecuteTime": {
     "end_time": "2024-03-15T06:10:12.512401200Z",
     "start_time": "2024-03-15T06:10:10.105100300Z"
    }
   },
   "id": "d423d555c851e0ae",
   "execution_count": 1
  },
  {
   "cell_type": "code",
   "outputs": [
    {
     "name": "stdout",
     "output_type": "stream",
     "text": [
      "x_data: torch.Size([5, 3]) 2D\n",
      "y_data: torch.Size([5, 1]) 2D\n"
     ]
    }
   ],
   "source": [
    "### 데이터 준비\n",
    "x_data = torch.IntTensor([[10, 20, 30], [20, 30, 40], [30, 40, 50], [40, 50, 60], [50, 60, 70]])\n",
    "y_data = torch.IntTensor([[20], [30], [40], [50], [60]])\n",
    "\n",
    "print(f'x_data: {x_data.shape} {x_data.ndim}D')\n",
    "print(f'y_data: {y_data.shape} {y_data.ndim}D')"
   ],
   "metadata": {
    "collapsed": false,
    "ExecuteTime": {
     "end_time": "2024-03-15T06:10:12.528400300Z",
     "start_time": "2024-03-15T06:10:12.513496900Z"
    }
   },
   "id": "abf825d655764cab",
   "execution_count": 2
  },
  {
   "cell_type": "markdown",
   "source": [
    "(2) 데이터셋 생성"
   ],
   "metadata": {
    "collapsed": false
   },
   "id": "448e97321203709a"
  },
  {
   "cell_type": "markdown",
   "source": [
    "(2-1) TensorDataset 활용 : Dataset의 sub_class"
   ],
   "metadata": {
    "collapsed": false
   },
   "id": "6271f94ed0655ca2"
  },
  {
   "cell_type": "code",
   "outputs": [],
   "source": [
    "### TensorDataset 클래스 로딩\n",
    "from torch.utils.data import TensorDataset"
   ],
   "metadata": {
    "collapsed": false,
    "ExecuteTime": {
     "end_time": "2024-03-15T06:10:12.582489100Z",
     "start_time": "2024-03-15T06:10:12.531440600Z"
    }
   },
   "id": "5d8d0749362be065",
   "execution_count": 3
  },
  {
   "cell_type": "code",
   "outputs": [
    {
     "data": {
      "text/plain": "<torch.utils.data.dataset.TensorDataset at 0x212cb11c7f0>"
     },
     "execution_count": 4,
     "metadata": {},
     "output_type": "execute_result"
    }
   ],
   "source": [
    "dataset = TensorDataset(x_data, y_data)     # x_data, y_data 의 길이가 같아야 한다.\n",
    "dataset"
   ],
   "metadata": {
    "collapsed": false,
    "ExecuteTime": {
     "end_time": "2024-03-15T06:10:12.583475Z",
     "start_time": "2024-03-15T06:10:12.551400Z"
    }
   },
   "id": "c3220783c97b69b7",
   "execution_count": 4
  },
  {
   "cell_type": "code",
   "outputs": [
    {
     "data": {
      "text/plain": "(tensor([[10, 20, 30],\n         [20, 30, 40],\n         [30, 40, 50],\n         [40, 50, 60],\n         [50, 60, 70]], dtype=torch.int32),\n tensor([[20],\n         [30],\n         [40],\n         [50],\n         [60]], dtype=torch.int32))"
     },
     "execution_count": 5,
     "metadata": {},
     "output_type": "execute_result"
    }
   ],
   "source": [
    "dataset.tensors"
   ],
   "metadata": {
    "collapsed": false,
    "ExecuteTime": {
     "end_time": "2024-03-15T06:10:12.629483800Z",
     "start_time": "2024-03-15T06:10:12.561398600Z"
    }
   },
   "id": "e4a545dd54e2d589",
   "execution_count": 5
  },
  {
   "cell_type": "code",
   "outputs": [
    {
     "data": {
      "text/plain": "(tensor([10, 20, 30], dtype=torch.int32), tensor([20], dtype=torch.int32))"
     },
     "execution_count": 6,
     "metadata": {},
     "output_type": "execute_result"
    }
   ],
   "source": [
    "### __getitem__() 메서드 호출\n",
    "dataset[0]"
   ],
   "metadata": {
    "collapsed": false,
    "ExecuteTime": {
     "end_time": "2024-03-15T06:10:12.633481Z",
     "start_time": "2024-03-15T06:10:12.578398400Z"
    }
   },
   "id": "ce73a6de1b5ee704",
   "execution_count": 6
  },
  {
   "cell_type": "code",
   "outputs": [
    {
     "data": {
      "text/plain": "5"
     },
     "execution_count": 7,
     "metadata": {},
     "output_type": "execute_result"
    }
   ],
   "source": [
    "len(dataset)"
   ],
   "metadata": {
    "collapsed": false,
    "ExecuteTime": {
     "end_time": "2024-03-15T06:10:12.656477400Z",
     "start_time": "2024-03-15T06:10:12.594400200Z"
    }
   },
   "id": "e8b45e8b5c5298dd",
   "execution_count": 7
  },
  {
   "cell_type": "markdown",
   "source": [
    "(2-2) 사용자 정의 데이터셋 생성"
   ],
   "metadata": {
    "collapsed": false
   },
   "id": "6fb6c564ec1af401"
  },
  {
   "cell_type": "code",
   "outputs": [
    {
     "data": {
      "text/plain": "   sepal_length  sepal_width  petal_length  petal_width species\n0           5.1          3.5           1.4          0.2  setosa\n1           4.9          3.0           1.4          0.2  setosa\n2           4.7          3.2           1.3          0.2  setosa",
      "text/html": "<div>\n<style scoped>\n    .dataframe tbody tr th:only-of-type {\n        vertical-align: middle;\n    }\n\n    .dataframe tbody tr th {\n        vertical-align: top;\n    }\n\n    .dataframe thead th {\n        text-align: right;\n    }\n</style>\n<table border=\"1\" class=\"dataframe\">\n  <thead>\n    <tr style=\"text-align: right;\">\n      <th></th>\n      <th>sepal_length</th>\n      <th>sepal_width</th>\n      <th>petal_length</th>\n      <th>petal_width</th>\n      <th>species</th>\n    </tr>\n  </thead>\n  <tbody>\n    <tr>\n      <th>0</th>\n      <td>5.1</td>\n      <td>3.5</td>\n      <td>1.4</td>\n      <td>0.2</td>\n      <td>setosa</td>\n    </tr>\n    <tr>\n      <th>1</th>\n      <td>4.9</td>\n      <td>3.0</td>\n      <td>1.4</td>\n      <td>0.2</td>\n      <td>setosa</td>\n    </tr>\n    <tr>\n      <th>2</th>\n      <td>4.7</td>\n      <td>3.2</td>\n      <td>1.3</td>\n      <td>0.2</td>\n      <td>setosa</td>\n    </tr>\n  </tbody>\n</table>\n</div>"
     },
     "execution_count": 8,
     "metadata": {},
     "output_type": "execute_result"
    }
   ],
   "source": [
    "### 데이터 준비\n",
    "filename = '../data/iris.csv'\n",
    "irisDF = pd.read_csv(filename)\n",
    "irisDF.head(3)"
   ],
   "metadata": {
    "collapsed": false,
    "ExecuteTime": {
     "end_time": "2024-03-15T06:10:12.712405500Z",
     "start_time": "2024-03-15T06:10:12.610398800Z"
    }
   },
   "id": "6b8ae8c56ad5ab07",
   "execution_count": 8
  },
  {
   "cell_type": "code",
   "outputs": [
    {
     "data": {
      "text/plain": "array([[5.1, 3.5, 1.4, 0.2],\n       [4.9, 3. , 1.4, 0.2],\n       [4.7, 3.2, 1.3, 0.2]])"
     },
     "execution_count": 9,
     "metadata": {},
     "output_type": "execute_result"
    }
   ],
   "source": [
    "irisNP = np.loadtxt(filename, delimiter=',', skiprows=1, usecols=[0, 1, 2, 3])\n",
    "irisNP[:3]"
   ],
   "metadata": {
    "collapsed": false,
    "ExecuteTime": {
     "end_time": "2024-03-15T06:10:12.738469500Z",
     "start_time": "2024-03-15T06:10:12.643399300Z"
    }
   },
   "id": "499b926b1d1294cf",
   "execution_count": 9
  },
  {
   "cell_type": "code",
   "outputs": [
    {
     "data": {
      "text/plain": "('DataFrame', 'ndarray')"
     },
     "execution_count": 10,
     "metadata": {},
     "output_type": "execute_result"
    }
   ],
   "source": [
    "### 데이터의 타입 체크\n",
    "irisDF.__class__.__name__, irisNP.__class__.__name__"
   ],
   "metadata": {
    "collapsed": false,
    "ExecuteTime": {
     "end_time": "2024-03-15T06:10:12.763401500Z",
     "start_time": "2024-03-15T06:10:12.658400900Z"
    }
   },
   "id": "bf5fd0e0b87aa90c",
   "execution_count": 10
  },
  {
   "cell_type": "code",
   "outputs": [
    {
     "name": "stdout",
     "output_type": "stream",
     "text": [
      "DF\n"
     ]
    }
   ],
   "source": [
    "if irisDF.__class__.__name__ == 'DataFrame':\n",
    "    print('DF')\n",
    "else:\n",
    "    print('-----')"
   ],
   "metadata": {
    "collapsed": false,
    "ExecuteTime": {
     "end_time": "2024-03-15T06:10:12.765453100Z",
     "start_time": "2024-03-15T06:10:12.674399200Z"
    }
   },
   "id": "2105f7c1f97a64a6",
   "execution_count": 11
  },
  {
   "cell_type": "code",
   "outputs": [
    {
     "data": {
      "text/plain": "(True, False)"
     },
     "execution_count": 12,
     "metadata": {},
     "output_type": "execute_result"
    }
   ],
   "source": [
    "### 데이터의 타입 체크\n",
    "isinstance(irisDF, pd.DataFrame), isinstance(irisNP, pd.DataFrame)"
   ],
   "metadata": {
    "collapsed": false,
    "ExecuteTime": {
     "end_time": "2024-03-15T06:10:12.819411200Z",
     "start_time": "2024-03-15T06:10:12.690400900Z"
    }
   },
   "id": "fdc3647caf9e8257",
   "execution_count": 12
  },
  {
   "cell_type": "code",
   "outputs": [
    {
     "data": {
      "text/plain": "(True, False)"
     },
     "execution_count": 13,
     "metadata": {},
     "output_type": "execute_result"
    }
   ],
   "source": [
    "isinstance([10], list), isinstance({10}, list)"
   ],
   "metadata": {
    "collapsed": false,
    "ExecuteTime": {
     "end_time": "2024-03-15T06:10:12.823402400Z",
     "start_time": "2024-03-15T06:10:12.705399600Z"
    }
   },
   "id": "ee7c8b54c38c7f36",
   "execution_count": 13
  },
  {
   "cell_type": "code",
   "outputs": [],
   "source": [
    "### 사용자정의 Dataset 클래스\n",
    "class DLDataset(Dataset):\n",
    "    \n",
    "    # 초기화 함수\n",
    "    def __init__(self, x_data, y_data):\n",
    "        super().__init__()\n",
    "        \n",
    "        # x, y 데이터가 DF라면 ndarray로 바꾸고, ndarray라면 그대로 저장\n",
    "        x_data = x_data.values if isinstance(x_data, pd.DataFrame) else x_data\n",
    "        y_data = y_data.values if isinstance(y_data, pd.DataFrame) else y_data\n",
    "        \n",
    "        # ndarray -> tensor\n",
    "        self.feature = torch.LongTensor(x_data)     # Long\n",
    "        self.target = torch.LongTensor(y_data)      # Long\n",
    "    \n",
    "    # 데이터셋의 개수 체크 함수 콜백함수 (callback function)\n",
    "    def __len__(self):\n",
    "        return self.target.shape[0]\n",
    "    \n",
    "    # 특정 인덱스 데이터 + 라벨 반환 콜백함수 (callback function)\n",
    "    def __getitem__(self, index):\n",
    "        return self.feature[index], self.target[index]"
   ],
   "metadata": {
    "collapsed": false,
    "ExecuteTime": {
     "end_time": "2024-03-15T06:20:18.077550200Z",
     "start_time": "2024-03-15T06:20:17.901657Z"
    }
   },
   "id": "5b5d46313673c80d",
   "execution_count": 53
  },
  {
   "cell_type": "code",
   "outputs": [],
   "source": [
    "### 피처와 라벨로 분리\n",
    "featureDF = irisDF[irisDF.columns[:-1]]\n",
    "targetSR = irisDF[irisDF.columns[-1]]"
   ],
   "metadata": {
    "collapsed": false,
    "ExecuteTime": {
     "end_time": "2024-03-15T06:20:18.133841400Z",
     "start_time": "2024-03-15T06:20:18.076302300Z"
    }
   },
   "id": "e773c9e30401471d",
   "execution_count": 54
  },
  {
   "cell_type": "code",
   "outputs": [],
   "source": [
    "### object 타입 타겟 -> int 타입 타겟 변환\n",
    "from sklearn.preprocessing import LabelEncoder\n",
    "\n",
    "targetNP = LabelEncoder().fit_transform(targetSR)\n",
    "targetNP = targetNP.reshape(-1, 1)      # 1차원 -> 2차원으로 변환"
   ],
   "metadata": {
    "collapsed": false,
    "ExecuteTime": {
     "end_time": "2024-03-15T06:20:18.164777300Z",
     "start_time": "2024-03-15T06:20:18.121974400Z"
    }
   },
   "id": "843014a6418cafbd",
   "execution_count": 55
  },
  {
   "cell_type": "code",
   "outputs": [],
   "source": [
    "# 데이터셋 생성 => DF, NP\n",
    "my_dataset = DLDataset(featureDF, targetNP)"
   ],
   "metadata": {
    "collapsed": false,
    "ExecuteTime": {
     "end_time": "2024-03-15T06:20:18.195093600Z",
     "start_time": "2024-03-15T06:20:18.167796500Z"
    }
   },
   "id": "318447649e8826c6",
   "execution_count": 56
  },
  {
   "cell_type": "code",
   "outputs": [
    {
     "data": {
      "text/plain": "((tensor([5, 3, 1, 0]), tensor([0])),\n sepal_length    5.1\n sepal_width     3.5\n petal_length    1.4\n petal_width     0.2\n Name: 0, dtype: float64,\n array([0]))"
     },
     "execution_count": 57,
     "metadata": {},
     "output_type": "execute_result"
    }
   ],
   "source": [
    "my_dataset[0], featureDF.iloc[0], targetNP[0]"
   ],
   "metadata": {
    "collapsed": false,
    "ExecuteTime": {
     "end_time": "2024-03-15T06:20:18.249077Z",
     "start_time": "2024-03-15T06:20:18.197078500Z"
    }
   },
   "id": "651020df47dde775",
   "execution_count": 57
  },
  {
   "cell_type": "code",
   "outputs": [],
   "source": [
    "# 데이터셋 생성 => NP, NP\n",
    "my_dataset2 = DLDataset(irisNP, targetNP)"
   ],
   "metadata": {
    "collapsed": false,
    "ExecuteTime": {
     "end_time": "2024-03-15T06:20:18.267077700Z",
     "start_time": "2024-03-15T06:20:18.216077100Z"
    }
   },
   "id": "b1624fb7f9cf5ecd",
   "execution_count": 58
  },
  {
   "cell_type": "code",
   "outputs": [
    {
     "data": {
      "text/plain": "(tensor([5, 3, 1, 0]), tensor([0]))"
     },
     "execution_count": 59,
     "metadata": {},
     "output_type": "execute_result"
    }
   ],
   "source": [
    "my_dataset2[0]"
   ],
   "metadata": {
    "collapsed": false,
    "ExecuteTime": {
     "end_time": "2024-03-15T06:20:18.325333200Z",
     "start_time": "2024-03-15T06:20:18.255091300Z"
    }
   },
   "id": "465671d0a6e9ac1b",
   "execution_count": 59
  },
  {
   "cell_type": "markdown",
   "source": [
    "(2-3) 학습용, 검증용, 테스트용 Dataset"
   ],
   "metadata": {
    "collapsed": false
   },
   "id": "b620c172412c54a"
  },
  {
   "cell_type": "code",
   "outputs": [],
   "source": [
    "### 파이토치\n",
    "from torch.utils.data import random_split\n",
    "\n",
    "# 학습용, 검증용, 테스트 데이터 비율\n",
    "trainDS, validDS, testDS = random_split(my_dataset2, [0.7, 0.1, 0.2], generator=torch.Generator().manual_seed(42))"
   ],
   "metadata": {
    "collapsed": false,
    "ExecuteTime": {
     "end_time": "2024-03-15T06:20:18.343334200Z",
     "start_time": "2024-03-15T06:20:18.311699400Z"
    }
   },
   "id": "841b4d8b9411c323",
   "execution_count": 60
  },
  {
   "cell_type": "code",
   "outputs": [
    {
     "data": {
      "text/plain": "torch.utils.data.dataset.Subset"
     },
     "execution_count": 61,
     "metadata": {},
     "output_type": "execute_result"
    }
   ],
   "source": [
    "type(trainDS)"
   ],
   "metadata": {
    "collapsed": false,
    "ExecuteTime": {
     "end_time": "2024-03-15T06:20:18.367332800Z",
     "start_time": "2024-03-15T06:20:18.346332100Z"
    }
   },
   "id": "f5fe6a8aea113ff5",
   "execution_count": 61
  },
  {
   "cell_type": "code",
   "outputs": [
    {
     "name": "stdout",
     "output_type": "stream",
     "text": [
      "(train) Subset 속성=>\n",
      "indices : [42, 95, 30, 64, 52, 35, 130, 40, 82, 17, 108, 94, 68, 97, 117, 127, 41, 44, 57, 140, 149, 32, 23, 102, 16, 113, 71, 18, 67, 66, 0, 25, 101, 112, 91, 3, 59, 116, 86, 84, 106, 142, 43, 39, 26, 98, 93, 20, 87, 19, 120, 114, 7, 63, 76, 89, 36, 45, 37, 56, 58, 122, 51, 145, 24, 21, 105, 62, 15, 11, 48, 133, 88, 50, 6, 134, 111, 8, 49, 75, 69, 124, 4, 147, 80, 100, 99, 141, 47, 107, 13, 109, 129, 28, 38, 53, 121, 5, 55, 31, 73, 74, 54, 29, 12]\n",
      "dataset : <__main__.DLDataset object at 0x00000212C4563B20>\n"
     ]
    }
   ],
   "source": [
    "print(f'(train) Subset 속성=>\\nindices : {trainDS.indices}\\ndataset : {trainDS.dataset}')"
   ],
   "metadata": {
    "collapsed": false,
    "ExecuteTime": {
     "end_time": "2024-03-15T06:20:18.416420100Z",
     "start_time": "2024-03-15T06:20:18.368331900Z"
    }
   },
   "id": "af5bb20189154197",
   "execution_count": 62
  },
  {
   "cell_type": "code",
   "outputs": [
    {
     "data": {
      "text/plain": "(105, 15, 30)"
     },
     "execution_count": 63,
     "metadata": {},
     "output_type": "execute_result"
    }
   ],
   "source": [
    "len(trainDS), len(validDS), len(testDS)"
   ],
   "metadata": {
    "collapsed": false,
    "ExecuteTime": {
     "end_time": "2024-03-15T06:20:18.421333100Z",
     "start_time": "2024-03-15T06:20:18.388332Z"
    }
   },
   "id": "8d460ca4d43d467a",
   "execution_count": 63
  },
  {
   "cell_type": "markdown",
   "source": [
    "(3) DataLoader 생성 : 학습용, 검증용, 테스트용"
   ],
   "metadata": {
    "collapsed": false
   },
   "id": "3157d7c8f6653669"
  },
  {
   "cell_type": "code",
   "outputs": [
    {
     "data": {
      "text/plain": "(10, 2, 3)"
     },
     "execution_count": 64,
     "metadata": {},
     "output_type": "execute_result"
    }
   ],
   "source": [
    "# DataLoader 생성\n",
    "# drop_last 매개변수 : 배치사이즈로 데이터셋 분리 후 남는 데이터 처리 방법 설정 (기본 : False, 마지막 미니배치도 사용)\n",
    "batch_size = 10\n",
    "trainDL = DataLoader(trainDS, batch_size=batch_size, drop_last=True)\n",
    "validDL = DataLoader(validDS, batch_size=batch_size)\n",
    "testDL = DataLoader(testDS, batch_size=batch_size)\n",
    "\n",
    "len(trainDL), len(validDL), len(testDL)"
   ],
   "metadata": {
    "collapsed": false,
    "ExecuteTime": {
     "end_time": "2024-03-15T06:20:18.501402Z",
     "start_time": "2024-03-15T06:20:18.425348900Z"
    }
   },
   "id": "90e1fb0d2e2c8fc9",
   "execution_count": 64
  },
  {
   "cell_type": "code",
   "outputs": [
    {
     "name": "stdout",
     "output_type": "stream",
     "text": [
      "batch_size: 10\n",
      "trainDS : 105, validDS : 15, testDS : 30\n",
      "trainDL : 10, validDS : 2, testDS : 3\n"
     ]
    }
   ],
   "source": [
    "# Epoch 당 반복 단위\n",
    "print(f'batch_size: {batch_size}')\n",
    "print(f'trainDS : {len(trainDS)}, validDS : {len(validDS)}, testDS : {len(testDS)}')\n",
    "print(f'trainDL : {len(trainDL)}, validDS : {len(validDL)}, testDS : {len(testDL)}')"
   ],
   "metadata": {
    "collapsed": false,
    "ExecuteTime": {
     "end_time": "2024-03-15T06:20:18.505408600Z",
     "start_time": "2024-03-15T06:20:18.486331600Z"
    }
   },
   "id": "3f1f56e8e0fe5d6",
   "execution_count": 65
  },
  {
   "cell_type": "code",
   "outputs": [
    {
     "name": "stdout",
     "output_type": "stream",
     "text": [
      "[0] feature torch.Size([10, 4]) target torch.Size([10, 1])\n",
      "[1] feature torch.Size([10, 4]) target torch.Size([10, 1])\n",
      "[2] feature torch.Size([10, 4]) target torch.Size([10, 1])\n",
      "[3] feature torch.Size([10, 4]) target torch.Size([10, 1])\n",
      "[4] feature torch.Size([10, 4]) target torch.Size([10, 1])\n",
      "[5] feature torch.Size([10, 4]) target torch.Size([10, 1])\n",
      "[6] feature torch.Size([10, 4]) target torch.Size([10, 1])\n",
      "[7] feature torch.Size([10, 4]) target torch.Size([10, 1])\n",
      "[8] feature torch.Size([10, 4]) target torch.Size([10, 1])\n",
      "[9] feature torch.Size([10, 4]) target torch.Size([10, 1])\n"
     ]
    }
   ],
   "source": [
    "# DataLoader \n",
    "for _, (feature, target) in enumerate(trainDL):\n",
    "    print(f'[{_}] feature {feature.shape} target {target.shape}')"
   ],
   "metadata": {
    "collapsed": false,
    "ExecuteTime": {
     "end_time": "2024-03-15T06:20:18.555811100Z",
     "start_time": "2024-03-15T06:20:18.508332800Z"
    }
   },
   "id": "92429c85eddeb28b",
   "execution_count": 66
  },
  {
   "cell_type": "markdown",
   "source": [
    "(4) Model 클래스 정의 : 입/출력 피쳐수, 층 수, 은닉층의 노드 수\n",
    "- 구조 설계\n",
    "    - 입력층 : 입력 <= 피쳐 개수 (iris : 4개)\n",
    "    - 은닉층 : 마음대로, 알아서 잘\n",
    "    - 출력층 : 출력 <= [분류] 타겟 클래스 개수 [회귀] 1개"
   ],
   "metadata": {
    "collapsed": false
   },
   "id": "5e80b00dfe899cc3"
  },
  {
   "cell_type": "code",
   "outputs": [],
   "source": [
    "# 모델 클래스 정의\n",
    "# 클래스명 : CModel\n",
    "class CModel(torch.nn.Module):\n",
    "    # 구성요소 정의 함수\n",
    "    def __init__(self, in_, out_):\n",
    "        super().__init__()      # 부모 클래스 생성자\n",
    "        self.layer1 = torch.nn.Linear(in_, 10)\n",
    "        self.relu = torch.nn.ReLU()\n",
    "        self.layer2 = torch.nn.Linear(10, 6)\n",
    "        self.layer3 = torch.nn.Linear(6, out_)\n",
    "    # 순방향 학습 진행 함수\n",
    "    def forward(self, x):\n",
    "        x = self.layer1(x)      # W1X1 + W2X2 + ... + WnXn + b 10개 반환\n",
    "        x = self.relu(x)        # relu() 결과 10개 반환\n",
    "        x = self.layer2(x)      # W1X1 + W2X2 + ... + WnXn + b 6개 반환\n",
    "        x = self.relu(x)        # relu() 결과 6개 반환\n",
    "        x = self.layer3(x)      # W1X1 + W2X2 + ... + WnXn + b 3개 반환\n",
    "        return x"
   ],
   "metadata": {
    "collapsed": false,
    "ExecuteTime": {
     "end_time": "2024-03-15T06:20:18.637222500Z",
     "start_time": "2024-03-15T06:20:18.560717600Z"
    }
   },
   "id": "65b48f6bfff0ad5a",
   "execution_count": 67
  },
  {
   "cell_type": "markdown",
   "source": [
    "(5) 학습 준비 : 실행 디바이스, 모델, 최적화, 손실함수, 학습회수 "
   ],
   "metadata": {
    "collapsed": false
   },
   "id": "805b6e0a260e6490"
  },
  {
   "cell_type": "code",
   "outputs": [],
   "source": [
    "## 실행 디바이스 설정\n",
    "DEVICE = 'cuda' if torch.cuda.is_available() else 'cpu'\n",
    "\n",
    "# 학습 횟수\n",
    "EPOCHS = 50"
   ],
   "metadata": {
    "collapsed": false,
    "ExecuteTime": {
     "end_time": "2024-03-15T06:20:18.640167Z",
     "start_time": "2024-03-15T06:20:18.582720600Z"
    }
   },
   "id": "95c862658b4b9085",
   "execution_count": 68
  },
  {
   "cell_type": "code",
   "outputs": [
    {
     "data": {
      "text/plain": "torch.Size([150, 4])"
     },
     "execution_count": 69,
     "metadata": {},
     "output_type": "execute_result"
    }
   ],
   "source": [
    "my_dataset.feature.shape"
   ],
   "metadata": {
    "collapsed": false,
    "ExecuteTime": {
     "end_time": "2024-03-15T06:20:18.664155200Z",
     "start_time": "2024-03-15T06:20:18.601787500Z"
    }
   },
   "id": "833e47a6bf35632",
   "execution_count": 69
  },
  {
   "cell_type": "code",
   "outputs": [
    {
     "name": "stdout",
     "output_type": "stream",
     "text": [
      "모델 구조 확인 : CModel(\n",
      "  (layer1): Linear(in_features=4, out_features=10, bias=True)\n",
      "  (relu): ReLU()\n",
      "  (layer2): Linear(in_features=10, out_features=6, bias=True)\n",
      "  (layer3): Linear(in_features=6, out_features=3, bias=True)\n",
      ")\n"
     ]
    }
   ],
   "source": [
    "## 모델 인스턴스 생성\n",
    "IN, OUT = my_dataset.feature.shape[1], len(np.unique(targetNP))\n",
    "model = CModel(IN, OUT).to(DEVICE)\n",
    "print(f'모델 구조 확인 : {model}')"
   ],
   "metadata": {
    "collapsed": false,
    "ExecuteTime": {
     "end_time": "2024-03-15T06:20:18.724154500Z",
     "start_time": "2024-03-15T06:20:18.669155Z"
    }
   },
   "id": "6f023ab9b8a58eeb",
   "execution_count": 70
  },
  {
   "cell_type": "code",
   "outputs": [
    {
     "name": "stdout",
     "output_type": "stream",
     "text": [
      "Parameter containing:\n",
      "tensor([[ 0.1698, -0.3853,  0.4696,  0.4968],\n",
      "        [-0.3809, -0.3539, -0.2186,  0.4207],\n",
      "        [-0.1898,  0.4500,  0.3733, -0.3592],\n",
      "        [-0.4405, -0.4455,  0.4082,  0.3087],\n",
      "        [ 0.2938, -0.4734, -0.1356, -0.0548],\n",
      "        [-0.4763, -0.1307,  0.3692, -0.2042],\n",
      "        [-0.0108,  0.3270, -0.4327, -0.3455],\n",
      "        [ 0.1968,  0.4198,  0.3467, -0.0590],\n",
      "        [-0.0617,  0.4730, -0.1910,  0.3238],\n",
      "        [ 0.4456,  0.1236, -0.2633, -0.1689]], requires_grad=True)\n",
      "Parameter containing:\n",
      "tensor([ 0.2848,  0.1726, -0.0781,  0.4318,  0.2814, -0.3171, -0.3917, -0.3410,\n",
      "        -0.0625, -0.4712], requires_grad=True)\n",
      "Parameter containing:\n",
      "tensor([[-0.2010, -0.3022,  0.0123, -0.0337, -0.3098,  0.1109,  0.0592,  0.1005,\n",
      "         -0.0161,  0.0914],\n",
      "        [ 0.2965,  0.0620, -0.1508, -0.1005,  0.1407, -0.1877, -0.1995, -0.0677,\n",
      "          0.3111, -0.2209],\n",
      "        [ 0.2329,  0.2951,  0.0077, -0.0984, -0.2713, -0.1318, -0.3049, -0.1859,\n",
      "         -0.0607,  0.0353],\n",
      "        [ 0.0364,  0.3142,  0.1510, -0.1911,  0.2638,  0.1650,  0.0069, -0.1693,\n",
      "         -0.0924, -0.1316],\n",
      "        [-0.0302,  0.2901,  0.1776,  0.1413,  0.2995, -0.0799, -0.1984,  0.1177,\n",
      "         -0.2143, -0.0055],\n",
      "        [-0.0081,  0.0942, -0.0006,  0.0264, -0.0953, -0.1977, -0.0313,  0.1439,\n",
      "         -0.1911,  0.0239]], requires_grad=True)\n",
      "Parameter containing:\n",
      "tensor([ 0.1818, -0.2028,  0.2385, -0.2777, -0.0337, -0.2637],\n",
      "       requires_grad=True)\n",
      "Parameter containing:\n",
      "tensor([[ 0.1729, -0.0499, -0.0037, -0.1244,  0.3186,  0.3334],\n",
      "        [-0.3319, -0.2462,  0.2526, -0.3498,  0.0787, -0.2573],\n",
      "        [-0.3725,  0.2871,  0.1650, -0.0756, -0.0509, -0.3657]],\n",
      "       requires_grad=True)\n",
      "Parameter containing:\n",
      "tensor([-0.3205, -0.2077, -0.1769], requires_grad=True)\n"
     ]
    }
   ],
   "source": [
    "for param in model.parameters():\n",
    "    print(param)"
   ],
   "metadata": {
    "collapsed": false,
    "ExecuteTime": {
     "end_time": "2024-03-15T06:20:18.784154500Z",
     "start_time": "2024-03-15T06:20:18.727153700Z"
    }
   },
   "id": "7eb3d8967235136d",
   "execution_count": 71
  },
  {
   "cell_type": "code",
   "outputs": [],
   "source": [
    "# 손실함수\n",
    "LOSS_FN = nn.CrossEntropyLoss().to(DEVICE)\n",
    "\n",
    "# 최적화 인스턴스\n",
    "import torch.optim as optim\n",
    "OPTIMIZER = optim.Adam(model.parameters())"
   ],
   "metadata": {
    "collapsed": false,
    "ExecuteTime": {
     "end_time": "2024-03-15T06:20:18.837155Z",
     "start_time": "2024-03-15T06:20:18.770228700Z"
    }
   },
   "id": "a99983b4f8c7329",
   "execution_count": 72
  },
  {
   "cell_type": "markdown",
   "source": [
    "* 학습 및 검증관련 함수 정의"
   ],
   "metadata": {
    "collapsed": false
   },
   "id": "14f04018f3d99e22"
  },
  {
   "cell_type": "code",
   "outputs": [],
   "source": [
    "## 학습 진행함수\n",
    "def training():\n",
    "    # 학습모드 => 정규화, 경사하강법, 드랍아웃 등의 기능 활성화\n",
    "    model.train()\n",
    "    \n",
    "    # 배치크기만큼 학습 진행 및 저장\n",
    "    train_loss = []\n",
    "    for cnt, (x, y) in enumerate(trainDL):\n",
    "        # 배치크기만큼의 학습 데이터 준비\n",
    "        feature, target = x.to(DEVICE), y.to(DEVICE)\n",
    "        \n",
    "        \n",
    "        # 학습\n",
    "        pre_target = model(feature)\n",
    "        print(f'pre_target => {pre_target.shape}, {pre_target.ndim}D')\n",
    "        print(f'target => {target.shape}, {target.ndim}D')\n",
    "        \n",
    "        # 손실계산\n",
    "        loss = LOSS_FN(pre_target, target.squeeze())\n",
    "        train_loss.append(loss)\n",
    "        # W, b 업데이트\n",
    "        OPTIMIZER.zero_grad()\n",
    "        loss.backward()\n",
    "        OPTIMIZER.step()\n",
    "    \n",
    "    # 학습 진행 메시지 출력\n",
    "    print(f'[Train loss] {loss}')\n",
    "    \n",
    "    return train_loss"
   ],
   "metadata": {
    "collapsed": false,
    "ExecuteTime": {
     "end_time": "2024-03-15T06:21:13.793362300Z",
     "start_time": "2024-03-15T06:21:13.772293500Z"
    }
   },
   "id": "a971ace634675dfe",
   "execution_count": 77
  },
  {
   "cell_type": "code",
   "outputs": [],
   "source": [
    "## 검증 및 평가 진행함수\n",
    "def testing():\n",
    "    pass"
   ],
   "metadata": {
    "collapsed": false,
    "ExecuteTime": {
     "end_time": "2024-03-15T06:21:14.074393Z",
     "start_time": "2024-03-15T06:21:14.061353600Z"
    }
   },
   "id": "7e9cc5d502dd14d4",
   "execution_count": 78
  },
  {
   "cell_type": "code",
   "outputs": [],
   "source": [
    "## 예측 함수\n",
    "def predict():\n",
    "    pass"
   ],
   "metadata": {
    "collapsed": false,
    "ExecuteTime": {
     "end_time": "2024-03-15T06:21:14.382198500Z",
     "start_time": "2024-03-15T06:21:14.332244100Z"
    }
   },
   "id": "242286cfb2e20800",
   "execution_count": 79
  },
  {
   "cell_type": "markdown",
   "source": [
    "(6) 학습진행"
   ],
   "metadata": {
    "collapsed": false
   },
   "id": "9f6f416342819276"
  },
  {
   "cell_type": "code",
   "outputs": [
    {
     "ename": "RuntimeError",
     "evalue": "mat1 and mat2 must have the same dtype, but got Long and Float",
     "output_type": "error",
     "traceback": [
      "\u001B[1;31m---------------------------------------------------------------------------\u001B[0m",
      "\u001B[1;31mRuntimeError\u001B[0m                              Traceback (most recent call last)",
      "Cell \u001B[1;32mIn[80], line 3\u001B[0m\n\u001B[0;32m      1\u001B[0m \u001B[38;5;28;01mfor\u001B[39;00m eps \u001B[38;5;129;01min\u001B[39;00m \u001B[38;5;28mrange\u001B[39m(EPOCHS):\n\u001B[0;32m      2\u001B[0m     \u001B[38;5;66;03m# 학습\u001B[39;00m\n\u001B[1;32m----> 3\u001B[0m     train_loss \u001B[38;5;241m=\u001B[39m \u001B[43mtraining\u001B[49m\u001B[43m(\u001B[49m\u001B[43m)\u001B[49m\n\u001B[0;32m      4\u001B[0m     \u001B[38;5;66;03m#검증\u001B[39;00m\n\u001B[0;32m      5\u001B[0m     testing()\n",
      "Cell \u001B[1;32mIn[77], line 12\u001B[0m, in \u001B[0;36mtraining\u001B[1;34m()\u001B[0m\n\u001B[0;32m     10\u001B[0m feature, target \u001B[38;5;241m=\u001B[39m x\u001B[38;5;241m.\u001B[39mto(DEVICE), y\u001B[38;5;241m.\u001B[39mto(DEVICE)\n\u001B[0;32m     11\u001B[0m \u001B[38;5;66;03m# 학습\u001B[39;00m\n\u001B[1;32m---> 12\u001B[0m pre_target \u001B[38;5;241m=\u001B[39m \u001B[43mmodel\u001B[49m\u001B[43m(\u001B[49m\u001B[43mfeature\u001B[49m\u001B[43m)\u001B[49m\n\u001B[0;32m     13\u001B[0m \u001B[38;5;28mprint\u001B[39m(\u001B[38;5;124mf\u001B[39m\u001B[38;5;124m'\u001B[39m\u001B[38;5;124mpre_target => \u001B[39m\u001B[38;5;132;01m{\u001B[39;00mpre_target\u001B[38;5;241m.\u001B[39mshape\u001B[38;5;132;01m}\u001B[39;00m\u001B[38;5;124m, \u001B[39m\u001B[38;5;132;01m{\u001B[39;00mpre_target\u001B[38;5;241m.\u001B[39mndim\u001B[38;5;132;01m}\u001B[39;00m\u001B[38;5;124mD\u001B[39m\u001B[38;5;124m'\u001B[39m)\n\u001B[0;32m     14\u001B[0m \u001B[38;5;28mprint\u001B[39m(\u001B[38;5;124mf\u001B[39m\u001B[38;5;124m'\u001B[39m\u001B[38;5;124mtarget => \u001B[39m\u001B[38;5;132;01m{\u001B[39;00mtarget\u001B[38;5;241m.\u001B[39mshape\u001B[38;5;132;01m}\u001B[39;00m\u001B[38;5;124m, \u001B[39m\u001B[38;5;132;01m{\u001B[39;00mtarget\u001B[38;5;241m.\u001B[39mndim\u001B[38;5;132;01m}\u001B[39;00m\u001B[38;5;124mD\u001B[39m\u001B[38;5;124m'\u001B[39m)\n",
      "File \u001B[1;32mC:\\ProgramData\\anaconda3\\envs\\Torch_PY38\\lib\\site-packages\\torch\\nn\\modules\\module.py:1511\u001B[0m, in \u001B[0;36mModule._wrapped_call_impl\u001B[1;34m(self, *args, **kwargs)\u001B[0m\n\u001B[0;32m   1509\u001B[0m     \u001B[38;5;28;01mreturn\u001B[39;00m \u001B[38;5;28mself\u001B[39m\u001B[38;5;241m.\u001B[39m_compiled_call_impl(\u001B[38;5;241m*\u001B[39margs, \u001B[38;5;241m*\u001B[39m\u001B[38;5;241m*\u001B[39mkwargs)  \u001B[38;5;66;03m# type: ignore[misc]\u001B[39;00m\n\u001B[0;32m   1510\u001B[0m \u001B[38;5;28;01melse\u001B[39;00m:\n\u001B[1;32m-> 1511\u001B[0m     \u001B[38;5;28;01mreturn\u001B[39;00m \u001B[38;5;28;43mself\u001B[39;49m\u001B[38;5;241;43m.\u001B[39;49m\u001B[43m_call_impl\u001B[49m\u001B[43m(\u001B[49m\u001B[38;5;241;43m*\u001B[39;49m\u001B[43margs\u001B[49m\u001B[43m,\u001B[49m\u001B[43m \u001B[49m\u001B[38;5;241;43m*\u001B[39;49m\u001B[38;5;241;43m*\u001B[39;49m\u001B[43mkwargs\u001B[49m\u001B[43m)\u001B[49m\n",
      "File \u001B[1;32mC:\\ProgramData\\anaconda3\\envs\\Torch_PY38\\lib\\site-packages\\torch\\nn\\modules\\module.py:1520\u001B[0m, in \u001B[0;36mModule._call_impl\u001B[1;34m(self, *args, **kwargs)\u001B[0m\n\u001B[0;32m   1515\u001B[0m \u001B[38;5;66;03m# If we don't have any hooks, we want to skip the rest of the logic in\u001B[39;00m\n\u001B[0;32m   1516\u001B[0m \u001B[38;5;66;03m# this function, and just call forward.\u001B[39;00m\n\u001B[0;32m   1517\u001B[0m \u001B[38;5;28;01mif\u001B[39;00m \u001B[38;5;129;01mnot\u001B[39;00m (\u001B[38;5;28mself\u001B[39m\u001B[38;5;241m.\u001B[39m_backward_hooks \u001B[38;5;129;01mor\u001B[39;00m \u001B[38;5;28mself\u001B[39m\u001B[38;5;241m.\u001B[39m_backward_pre_hooks \u001B[38;5;129;01mor\u001B[39;00m \u001B[38;5;28mself\u001B[39m\u001B[38;5;241m.\u001B[39m_forward_hooks \u001B[38;5;129;01mor\u001B[39;00m \u001B[38;5;28mself\u001B[39m\u001B[38;5;241m.\u001B[39m_forward_pre_hooks\n\u001B[0;32m   1518\u001B[0m         \u001B[38;5;129;01mor\u001B[39;00m _global_backward_pre_hooks \u001B[38;5;129;01mor\u001B[39;00m _global_backward_hooks\n\u001B[0;32m   1519\u001B[0m         \u001B[38;5;129;01mor\u001B[39;00m _global_forward_hooks \u001B[38;5;129;01mor\u001B[39;00m _global_forward_pre_hooks):\n\u001B[1;32m-> 1520\u001B[0m     \u001B[38;5;28;01mreturn\u001B[39;00m \u001B[43mforward_call\u001B[49m\u001B[43m(\u001B[49m\u001B[38;5;241;43m*\u001B[39;49m\u001B[43margs\u001B[49m\u001B[43m,\u001B[49m\u001B[43m \u001B[49m\u001B[38;5;241;43m*\u001B[39;49m\u001B[38;5;241;43m*\u001B[39;49m\u001B[43mkwargs\u001B[49m\u001B[43m)\u001B[49m\n\u001B[0;32m   1522\u001B[0m \u001B[38;5;28;01mtry\u001B[39;00m:\n\u001B[0;32m   1523\u001B[0m     result \u001B[38;5;241m=\u001B[39m \u001B[38;5;28;01mNone\u001B[39;00m\n",
      "Cell \u001B[1;32mIn[67], line 13\u001B[0m, in \u001B[0;36mCModel.forward\u001B[1;34m(self, x)\u001B[0m\n\u001B[0;32m     12\u001B[0m \u001B[38;5;28;01mdef\u001B[39;00m \u001B[38;5;21mforward\u001B[39m(\u001B[38;5;28mself\u001B[39m, x):\n\u001B[1;32m---> 13\u001B[0m     x \u001B[38;5;241m=\u001B[39m \u001B[38;5;28;43mself\u001B[39;49m\u001B[38;5;241;43m.\u001B[39;49m\u001B[43mlayer1\u001B[49m\u001B[43m(\u001B[49m\u001B[43mx\u001B[49m\u001B[43m)\u001B[49m      \u001B[38;5;66;03m# W1X1 + W2X2 + ... + WnXn + b 10개 반환\u001B[39;00m\n\u001B[0;32m     14\u001B[0m     x \u001B[38;5;241m=\u001B[39m \u001B[38;5;28mself\u001B[39m\u001B[38;5;241m.\u001B[39mrelu(x)        \u001B[38;5;66;03m# relu() 결과 10개 반환\u001B[39;00m\n\u001B[0;32m     15\u001B[0m     x \u001B[38;5;241m=\u001B[39m \u001B[38;5;28mself\u001B[39m\u001B[38;5;241m.\u001B[39mlayer2(x)      \u001B[38;5;66;03m# W1X1 + W2X2 + ... + WnXn + b 6개 반환\u001B[39;00m\n",
      "File \u001B[1;32mC:\\ProgramData\\anaconda3\\envs\\Torch_PY38\\lib\\site-packages\\torch\\nn\\modules\\module.py:1511\u001B[0m, in \u001B[0;36mModule._wrapped_call_impl\u001B[1;34m(self, *args, **kwargs)\u001B[0m\n\u001B[0;32m   1509\u001B[0m     \u001B[38;5;28;01mreturn\u001B[39;00m \u001B[38;5;28mself\u001B[39m\u001B[38;5;241m.\u001B[39m_compiled_call_impl(\u001B[38;5;241m*\u001B[39margs, \u001B[38;5;241m*\u001B[39m\u001B[38;5;241m*\u001B[39mkwargs)  \u001B[38;5;66;03m# type: ignore[misc]\u001B[39;00m\n\u001B[0;32m   1510\u001B[0m \u001B[38;5;28;01melse\u001B[39;00m:\n\u001B[1;32m-> 1511\u001B[0m     \u001B[38;5;28;01mreturn\u001B[39;00m \u001B[38;5;28;43mself\u001B[39;49m\u001B[38;5;241;43m.\u001B[39;49m\u001B[43m_call_impl\u001B[49m\u001B[43m(\u001B[49m\u001B[38;5;241;43m*\u001B[39;49m\u001B[43margs\u001B[49m\u001B[43m,\u001B[49m\u001B[43m \u001B[49m\u001B[38;5;241;43m*\u001B[39;49m\u001B[38;5;241;43m*\u001B[39;49m\u001B[43mkwargs\u001B[49m\u001B[43m)\u001B[49m\n",
      "File \u001B[1;32mC:\\ProgramData\\anaconda3\\envs\\Torch_PY38\\lib\\site-packages\\torch\\nn\\modules\\module.py:1520\u001B[0m, in \u001B[0;36mModule._call_impl\u001B[1;34m(self, *args, **kwargs)\u001B[0m\n\u001B[0;32m   1515\u001B[0m \u001B[38;5;66;03m# If we don't have any hooks, we want to skip the rest of the logic in\u001B[39;00m\n\u001B[0;32m   1516\u001B[0m \u001B[38;5;66;03m# this function, and just call forward.\u001B[39;00m\n\u001B[0;32m   1517\u001B[0m \u001B[38;5;28;01mif\u001B[39;00m \u001B[38;5;129;01mnot\u001B[39;00m (\u001B[38;5;28mself\u001B[39m\u001B[38;5;241m.\u001B[39m_backward_hooks \u001B[38;5;129;01mor\u001B[39;00m \u001B[38;5;28mself\u001B[39m\u001B[38;5;241m.\u001B[39m_backward_pre_hooks \u001B[38;5;129;01mor\u001B[39;00m \u001B[38;5;28mself\u001B[39m\u001B[38;5;241m.\u001B[39m_forward_hooks \u001B[38;5;129;01mor\u001B[39;00m \u001B[38;5;28mself\u001B[39m\u001B[38;5;241m.\u001B[39m_forward_pre_hooks\n\u001B[0;32m   1518\u001B[0m         \u001B[38;5;129;01mor\u001B[39;00m _global_backward_pre_hooks \u001B[38;5;129;01mor\u001B[39;00m _global_backward_hooks\n\u001B[0;32m   1519\u001B[0m         \u001B[38;5;129;01mor\u001B[39;00m _global_forward_hooks \u001B[38;5;129;01mor\u001B[39;00m _global_forward_pre_hooks):\n\u001B[1;32m-> 1520\u001B[0m     \u001B[38;5;28;01mreturn\u001B[39;00m \u001B[43mforward_call\u001B[49m\u001B[43m(\u001B[49m\u001B[38;5;241;43m*\u001B[39;49m\u001B[43margs\u001B[49m\u001B[43m,\u001B[49m\u001B[43m \u001B[49m\u001B[38;5;241;43m*\u001B[39;49m\u001B[38;5;241;43m*\u001B[39;49m\u001B[43mkwargs\u001B[49m\u001B[43m)\u001B[49m\n\u001B[0;32m   1522\u001B[0m \u001B[38;5;28;01mtry\u001B[39;00m:\n\u001B[0;32m   1523\u001B[0m     result \u001B[38;5;241m=\u001B[39m \u001B[38;5;28;01mNone\u001B[39;00m\n",
      "File \u001B[1;32mC:\\ProgramData\\anaconda3\\envs\\Torch_PY38\\lib\\site-packages\\torch\\nn\\modules\\linear.py:116\u001B[0m, in \u001B[0;36mLinear.forward\u001B[1;34m(self, input)\u001B[0m\n\u001B[0;32m    115\u001B[0m \u001B[38;5;28;01mdef\u001B[39;00m \u001B[38;5;21mforward\u001B[39m(\u001B[38;5;28mself\u001B[39m, \u001B[38;5;28minput\u001B[39m: Tensor) \u001B[38;5;241m-\u001B[39m\u001B[38;5;241m>\u001B[39m Tensor:\n\u001B[1;32m--> 116\u001B[0m     \u001B[38;5;28;01mreturn\u001B[39;00m \u001B[43mF\u001B[49m\u001B[38;5;241;43m.\u001B[39;49m\u001B[43mlinear\u001B[49m\u001B[43m(\u001B[49m\u001B[38;5;28;43minput\u001B[39;49m\u001B[43m,\u001B[49m\u001B[43m \u001B[49m\u001B[38;5;28;43mself\u001B[39;49m\u001B[38;5;241;43m.\u001B[39;49m\u001B[43mweight\u001B[49m\u001B[43m,\u001B[49m\u001B[43m \u001B[49m\u001B[38;5;28;43mself\u001B[39;49m\u001B[38;5;241;43m.\u001B[39;49m\u001B[43mbias\u001B[49m\u001B[43m)\u001B[49m\n",
      "\u001B[1;31mRuntimeError\u001B[0m: mat1 and mat2 must have the same dtype, but got Long and Float"
     ]
    }
   ],
   "source": [
    "for eps in range(EPOCHS):\n",
    "    # 학습\n",
    "    train_loss = training()\n",
    "    #검증\n",
    "    testing()\n",
    "    print(f'[{eps}/{EPOCHS}] {sum(train_loss)/len(train_loss)}]')"
   ],
   "metadata": {
    "collapsed": false,
    "ExecuteTime": {
     "end_time": "2024-03-15T06:21:15.372300100Z",
     "start_time": "2024-03-15T06:21:15.216065500Z"
    }
   },
   "id": "76bbf45358449e67",
   "execution_count": 80
  },
  {
   "cell_type": "code",
   "outputs": [],
   "source": [],
   "metadata": {
    "collapsed": false,
    "ExecuteTime": {
     "start_time": "2024-03-15T06:20:19.053214300Z"
    }
   },
   "id": "3f53e9adbc37a6df"
  }
 ],
 "metadata": {
  "kernelspec": {
   "display_name": "Python 3",
   "language": "python",
   "name": "python3"
  },
  "language_info": {
   "codemirror_mode": {
    "name": "ipython",
    "version": 2
   },
   "file_extension": ".py",
   "mimetype": "text/x-python",
   "name": "python",
   "nbconvert_exporter": "python",
   "pygments_lexer": "ipython2",
   "version": "2.7.6"
  }
 },
 "nbformat": 4,
 "nbformat_minor": 5
}
