{
 "cells": [
  {
   "cell_type": "markdown",
   "source": [
    "### PyTorch 구조 이해"
   ],
   "metadata": {
    "collapsed": false
   },
   "id": "d09f84203b967fce"
  },
  {
   "cell_type": "code",
   "outputs": [],
   "source": [
    "import torch\n",
    "import torch.nn as nn\n",
    "from torchinfo import summary\n",
    "import torchviz"
   ],
   "metadata": {
    "collapsed": false,
    "ExecuteTime": {
     "end_time": "2024-03-19T04:09:23.085449Z",
     "start_time": "2024-03-19T04:09:21.477966600Z"
    }
   },
   "id": "54f334d2359db4f0",
   "execution_count": 1
  },
  {
   "cell_type": "code",
   "outputs": [],
   "source": [
    "class Net(nn.Module):\n",
    "    # 모델 구성 요소 생성 및 구조 설정\n",
    "    def __init__(self):\n",
    "        super(Net, self).__init__()\n",
    "        \n",
    "        self.fc1 = nn.Linear(8, 4)\n",
    "        self.fc2 = nn.Linear(4, 2)\n",
    "        self.fc3 = nn.Linear(2, 1)\n",
    "    \n",
    "    # 순방향 학습 진행 함수\n",
    "    def forward(self, x):\n",
    "        return self.fc3(self.fc2(self.fc1(x)))"
   ],
   "metadata": {
    "collapsed": false,
    "ExecuteTime": {
     "end_time": "2024-03-19T04:09:23.101449400Z",
     "start_time": "2024-03-19T04:09:23.090449500Z"
    }
   },
   "id": "c491ae37fd6d2a15",
   "execution_count": 2
  },
  {
   "cell_type": "code",
   "outputs": [],
   "source": [
    "class Net0(nn.Module):\n",
    "    \n",
    "    # 모델 구성 요소 생성 및 구조 설정\n",
    "    def __init__(self):\n",
    "        super(Net, self).__init__()\n",
    "        self.input = nn.Linear(8, 4)\n",
    "        self.layer2 = nn.Linear(4, 2)\n",
    "        self.drop = nn.Dropout(0.5)\n",
    "        self.layer3 = nn.Linear(2, 1)\n",
    "    \n",
    "    # 순방향 학습 진행 함수\n",
    "    def forward(self, x):\n",
    "        return self.layer3(self.drop(self.layer2(self.layer1)))"
   ],
   "metadata": {
    "collapsed": false,
    "ExecuteTime": {
     "end_time": "2024-03-19T04:09:23.120448600Z",
     "start_time": "2024-03-19T04:09:23.106450300Z"
    }
   },
   "id": "b6e56d40a9d08136",
   "execution_count": 3
  },
  {
   "cell_type": "code",
   "outputs": [
    {
     "name": "stdout",
     "output_type": "stream",
     "text": [
      "Net(\n",
      "  (fc1): Linear(in_features=8, out_features=4, bias=True)\n",
      "  (fc2): Linear(in_features=4, out_features=2, bias=True)\n",
      "  (fc3): Linear(in_features=2, out_features=1, bias=True)\n",
      ")\n"
     ]
    }
   ],
   "source": [
    "## 모델 인스턴스 생성\n",
    "model = Net()\n",
    "print(model)"
   ],
   "metadata": {
    "collapsed": false,
    "ExecuteTime": {
     "end_time": "2024-03-19T04:09:23.140465700Z",
     "start_time": "2024-03-19T04:09:23.119450400Z"
    }
   },
   "id": "bff568e6158e5132",
   "execution_count": 4
  },
  {
   "cell_type": "code",
   "outputs": [
    {
     "data": {
      "text/plain": "=================================================================\nLayer (type:depth-idx)                   Param #\n=================================================================\nNet                                      --\n├─Linear: 1-1                            36\n├─Linear: 1-2                            10\n├─Linear: 1-3                            3\n=================================================================\nTotal params: 49\nTrainable params: 49\nNon-trainable params: 0\n================================================================="
     },
     "execution_count": 5,
     "metadata": {},
     "output_type": "execute_result"
    }
   ],
   "source": [
    "# fc1 : (w 8개 + b 1개) * 퍼셉트론 4개 = 총 36개 (Param)\n",
    "# fc2 : (w 4개 + b 1개) * 퍼셉트론 2개 = 총 10개 (Param)\n",
    "# fc3 : (w 2개 + b 1개) * 퍼셉트론 1개 = 총  3개 (Param)\n",
    "summary(model)"
   ],
   "metadata": {
    "collapsed": false,
    "ExecuteTime": {
     "end_time": "2024-03-19T04:09:23.158018300Z",
     "start_time": "2024-03-19T04:09:23.135485400Z"
    }
   },
   "id": "1dd2ac0c88220c36",
   "execution_count": 5
  },
  {
   "cell_type": "code",
   "outputs": [
    {
     "data": {
      "text/plain": "Linear(in_features=8, out_features=4, bias=True)"
     },
     "execution_count": 6,
     "metadata": {},
     "output_type": "execute_result"
    }
   ],
   "source": [
    "## 모델 인스턴스 속성 확인\n",
    "model.fc1"
   ],
   "metadata": {
    "collapsed": false,
    "ExecuteTime": {
     "end_time": "2024-03-19T04:09:23.169008600Z",
     "start_time": "2024-03-19T04:09:23.153011500Z"
    }
   },
   "id": "c2a3e7f906bcd407",
   "execution_count": 6
  },
  {
   "cell_type": "code",
   "outputs": [
    {
     "data": {
      "text/plain": "(Parameter containing:\n tensor([[ 0.0725,  0.0345, -0.1504, -0.0948,  0.3082,  0.0909, -0.1499,  0.2968],\n         [-0.1212, -0.2438, -0.1029, -0.1722,  0.2776,  0.2017, -0.0101, -0.0403],\n         [-0.1016,  0.1990, -0.1417,  0.1526, -0.0723, -0.0384, -0.0529, -0.2112],\n         [ 0.2284, -0.1267, -0.2498,  0.1079,  0.0661, -0.2850, -0.2631,  0.0896]],\n        requires_grad=True),\n Parameter containing:\n tensor([-0.3043,  0.2552,  0.1666,  0.2757], requires_grad=True))"
     },
     "execution_count": 7,
     "metadata": {},
     "output_type": "execute_result"
    }
   ],
   "source": [
    "# 모델의 특정 층 추출\n",
    "model.fc1.weight, model.fc1.bias"
   ],
   "metadata": {
    "collapsed": false,
    "ExecuteTime": {
     "end_time": "2024-03-19T04:09:23.220007900Z",
     "start_time": "2024-03-19T04:09:23.167009400Z"
    }
   },
   "id": "4337f7ec069fbe81",
   "execution_count": 7
  },
  {
   "cell_type": "code",
   "outputs": [
    {
     "name": "stdout",
     "output_type": "stream",
     "text": [
      "Parameter containing:\n",
      "tensor([[ 0.0725,  0.0345, -0.1504, -0.0948,  0.3082,  0.0909, -0.1499,  0.2968],\n",
      "        [-0.1212, -0.2438, -0.1029, -0.1722,  0.2776,  0.2017, -0.0101, -0.0403],\n",
      "        [-0.1016,  0.1990, -0.1417,  0.1526, -0.0723, -0.0384, -0.0529, -0.2112],\n",
      "        [ 0.2284, -0.1267, -0.2498,  0.1079,  0.0661, -0.2850, -0.2631,  0.0896]],\n",
      "       requires_grad=True)\n",
      "\n",
      "Parameter containing:\n",
      "tensor([-0.3043,  0.2552,  0.1666,  0.2757], requires_grad=True)\n",
      "\n",
      "Parameter containing:\n",
      "tensor([[ 0.2968,  0.3994,  0.2944,  0.4338],\n",
      "        [-0.3626, -0.4439, -0.2297,  0.3417]], requires_grad=True)\n",
      "\n",
      "Parameter containing:\n",
      "tensor([ 0.3591, -0.2723], requires_grad=True)\n",
      "\n",
      "Parameter containing:\n",
      "tensor([[-0.3381,  0.1480]], requires_grad=True)\n",
      "\n",
      "Parameter containing:\n",
      "tensor([-0.4181], requires_grad=True)\n"
     ]
    }
   ],
   "source": [
    "## 모델의 각 층별 w, b 텐서 정보 확인\n",
    "for param in model.parameters():\n",
    "    print(param, end='\\n\\n')"
   ],
   "metadata": {
    "collapsed": false,
    "ExecuteTime": {
     "end_time": "2024-03-19T04:09:23.221007700Z",
     "start_time": "2024-03-19T04:09:23.183008300Z"
    }
   },
   "id": "71eb48fedafdce03",
   "execution_count": 8
  },
  {
   "cell_type": "code",
   "outputs": [
    {
     "name": "stdout",
     "output_type": "stream",
     "text": [
      "('fc1.weight', Parameter containing:\n",
      "tensor([[ 0.0725,  0.0345, -0.1504, -0.0948,  0.3082,  0.0909, -0.1499,  0.2968],\n",
      "        [-0.1212, -0.2438, -0.1029, -0.1722,  0.2776,  0.2017, -0.0101, -0.0403],\n",
      "        [-0.1016,  0.1990, -0.1417,  0.1526, -0.0723, -0.0384, -0.0529, -0.2112],\n",
      "        [ 0.2284, -0.1267, -0.2498,  0.1079,  0.0661, -0.2850, -0.2631,  0.0896]],\n",
      "       requires_grad=True))\n",
      "\n",
      "('fc1.bias', Parameter containing:\n",
      "tensor([-0.3043,  0.2552,  0.1666,  0.2757], requires_grad=True))\n",
      "\n",
      "('fc2.weight', Parameter containing:\n",
      "tensor([[ 0.2968,  0.3994,  0.2944,  0.4338],\n",
      "        [-0.3626, -0.4439, -0.2297,  0.3417]], requires_grad=True))\n",
      "\n",
      "('fc2.bias', Parameter containing:\n",
      "tensor([ 0.3591, -0.2723], requires_grad=True))\n",
      "\n",
      "('fc3.weight', Parameter containing:\n",
      "tensor([[-0.3381,  0.1480]], requires_grad=True))\n",
      "\n",
      "('fc3.bias', Parameter containing:\n",
      "tensor([-0.4181], requires_grad=True))\n"
     ]
    }
   ],
   "source": [
    "for param in model.named_parameters():\n",
    "    print(param, end='\\n\\n')"
   ],
   "metadata": {
    "collapsed": false,
    "ExecuteTime": {
     "end_time": "2024-03-19T04:09:23.252522300Z",
     "start_time": "2024-03-19T04:09:23.199008800Z"
    }
   },
   "id": "45e754445f85f0f7",
   "execution_count": 9
  },
  {
   "cell_type": "code",
   "outputs": [
    {
     "name": "stdout",
     "output_type": "stream",
     "text": [
      "Linear(in_features=8, out_features=4, bias=True)\n",
      "\n",
      "Linear(in_features=4, out_features=2, bias=True)\n",
      "\n",
      "Linear(in_features=2, out_features=1, bias=True)\n"
     ]
    }
   ],
   "source": [
    "for child in model.children():\n",
    "    print(child, end='\\n\\n')"
   ],
   "metadata": {
    "collapsed": false,
    "ExecuteTime": {
     "end_time": "2024-03-19T04:09:23.255523Z",
     "start_time": "2024-03-19T04:09:23.216008100Z"
    }
   },
   "id": "3a50f3bb85b3c173",
   "execution_count": 10
  },
  {
   "cell_type": "code",
   "outputs": [
    {
     "name": "stdout",
     "output_type": "stream",
     "text": [
      "('fc1', Linear(in_features=8, out_features=4, bias=True))\n",
      "\n",
      "('fc2', Linear(in_features=4, out_features=2, bias=True))\n",
      "\n",
      "('fc3', Linear(in_features=2, out_features=1, bias=True))\n"
     ]
    }
   ],
   "source": [
    "for child in model.named_children():\n",
    "    print(child, end='\\n\\n')"
   ],
   "metadata": {
    "collapsed": false,
    "ExecuteTime": {
     "end_time": "2024-03-19T04:09:23.256524500Z",
     "start_time": "2024-03-19T04:09:23.232010900Z"
    }
   },
   "id": "ea57e51c265c6bd8",
   "execution_count": 11
  },
  {
   "cell_type": "markdown",
   "source": [
    "Layer의 가중치 설정"
   ],
   "metadata": {
    "collapsed": false
   },
   "id": "ab96c89166073a18"
  },
  {
   "cell_type": "code",
   "outputs": [
    {
     "data": {
      "text/plain": "Parameter containing:\ntensor([[-0.5266, -0.0997, -0.4689,  0.0807,  0.5440, -0.2541, -0.3577,  0.0687],\n        [-0.6068,  0.2516,  0.3362,  0.4546,  0.0276, -0.5801,  0.0769, -0.6767],\n        [ 0.4358,  0.6410, -0.4420,  0.2478, -0.4128, -0.1031, -0.1229, -0.1142],\n        [-0.2141,  0.4666, -0.3505,  0.0784,  0.3641,  0.0436, -0.6333,  0.6571]],\n       requires_grad=True)"
     },
     "execution_count": 12,
     "metadata": {},
     "output_type": "execute_result"
    }
   ],
   "source": [
    "# 세이비어 알고리즘의 가중치 초기화\n",
    "nn.init.xavier_uniform_(model.fc1.weight)"
   ],
   "metadata": {
    "collapsed": false,
    "ExecuteTime": {
     "end_time": "2024-03-19T04:09:23.321520200Z",
     "start_time": "2024-03-19T04:09:23.248520700Z"
    }
   },
   "id": "ea4f18d23229e398",
   "execution_count": 12
  },
  {
   "cell_type": "code",
   "outputs": [
    {
     "data": {
      "text/plain": "Parameter containing:\ntensor([[ 0.6828,  0.2317,  0.5290, -0.4147],\n        [-0.7864, -0.4126, -0.0165,  0.0962]], requires_grad=True)"
     },
     "execution_count": 13,
     "metadata": {},
     "output_type": "execute_result"
    }
   ],
   "source": [
    "# 헤 알고리즘의 가중치 초기화\n",
    "nn.init.kaiming_normal_(model.fc2.weight)"
   ],
   "metadata": {
    "collapsed": false,
    "ExecuteTime": {
     "end_time": "2024-03-19T04:09:23.323521100Z",
     "start_time": "2024-03-19T04:09:23.264522Z"
    }
   },
   "id": "69b8d605101a94b5",
   "execution_count": 13
  },
  {
   "cell_type": "code",
   "outputs": [],
   "source": [
    "import os\n",
    "\n",
    "dir = '../data/model'\n",
    "if not os.path.exists(dir):\n",
    "    os.makedirs(dir)\n",
    "\n",
    "torch.save(model, '../data/model/exmodel.pt')"
   ],
   "metadata": {
    "collapsed": false,
    "ExecuteTime": {
     "end_time": "2024-03-19T04:10:18.163085900Z",
     "start_time": "2024-03-19T04:10:18.147076800Z"
    }
   },
   "id": "6f35eb02137cef02",
   "execution_count": 15
  },
  {
   "cell_type": "code",
   "outputs": [],
   "source": [],
   "metadata": {
    "collapsed": false,
    "ExecuteTime": {
     "end_time": "2024-03-19T04:09:24.524403700Z",
     "start_time": "2024-03-19T04:09:24.517406900Z"
    }
   },
   "id": "891a67f6485b275e"
  }
 ],
 "metadata": {
  "kernelspec": {
   "display_name": "Python 3",
   "language": "python",
   "name": "python3"
  },
  "language_info": {
   "codemirror_mode": {
    "name": "ipython",
    "version": 2
   },
   "file_extension": ".py",
   "mimetype": "text/x-python",
   "name": "python",
   "nbconvert_exporter": "python",
   "pygments_lexer": "ipython2",
   "version": "2.7.6"
  }
 },
 "nbformat": 4,
 "nbformat_minor": 5
}
