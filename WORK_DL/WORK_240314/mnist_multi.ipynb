{
 "cells": [
  {
   "cell_type": "markdown",
   "source": [
    "(1) 모듈 로딩, 데이터 준비"
   ],
   "metadata": {
    "collapsed": false
   },
   "id": "da29c666665d41cc"
  },
  {
   "cell_type": "code",
   "outputs": [],
   "source": [
    "# 모듈 로딩\n",
    "from sklearn.datasets import fetch_openml\n",
    "import numpy as np"
   ],
   "metadata": {
    "collapsed": false,
    "ExecuteTime": {
     "end_time": "2024-03-14T12:44:38.903400600Z",
     "start_time": "2024-03-14T12:44:37.818579500Z"
    }
   },
   "id": "7bb030eee7551009",
   "execution_count": 1
  },
  {
   "cell_type": "code",
   "outputs": [],
   "source": [
    "db_name = 'Fashion-MNIST'\n",
    "fashion_data = fetch_openml(name=db_name, parser='auto', as_frame=False)"
   ],
   "metadata": {
    "collapsed": false,
    "ExecuteTime": {
     "end_time": "2024-03-14T12:44:43.285867200Z",
     "start_time": "2024-03-14T12:44:38.906655400Z"
    }
   },
   "id": "a60808cdd5f6b1e1",
   "execution_count": 2
  },
  {
   "cell_type": "code",
   "outputs": [
    {
     "data": {
      "text/plain": "dict_keys(['data', 'target', 'frame', 'categories', 'feature_names', 'target_names', 'DESCR', 'details', 'url'])"
     },
     "execution_count": 3,
     "metadata": {},
     "output_type": "execute_result"
    }
   ],
   "source": [
    "fashion_data.__dir__()"
   ],
   "metadata": {
    "collapsed": false,
    "ExecuteTime": {
     "end_time": "2024-03-14T12:44:43.304645500Z",
     "start_time": "2024-03-14T12:44:43.288030400Z"
    }
   },
   "id": "c970fae5f1aea666",
   "execution_count": 3
  },
  {
   "cell_type": "code",
   "outputs": [],
   "source": [
    "fashion_feature = fashion_data.data\n",
    "fashion_target = fashion_data.target"
   ],
   "metadata": {
    "collapsed": false,
    "ExecuteTime": {
     "end_time": "2024-03-14T12:44:43.342657600Z",
     "start_time": "2024-03-14T12:44:43.303543900Z"
    }
   },
   "id": "a9465d0c3c7f9b27",
   "execution_count": 4
  },
  {
   "cell_type": "code",
   "outputs": [
    {
     "data": {
      "text/plain": "(numpy.ndarray, numpy.ndarray)"
     },
     "execution_count": 5,
     "metadata": {},
     "output_type": "execute_result"
    }
   ],
   "source": [
    "type(fashion_feature), type(fashion_target)"
   ],
   "metadata": {
    "collapsed": false,
    "ExecuteTime": {
     "end_time": "2024-03-14T12:44:43.344735200Z",
     "start_time": "2024-03-14T12:44:43.319426400Z"
    }
   },
   "id": "40d13dbfe9bce793",
   "execution_count": 5
  },
  {
   "cell_type": "code",
   "outputs": [
    {
     "data": {
      "text/plain": "((70000, 784), (70000,))"
     },
     "execution_count": 6,
     "metadata": {},
     "output_type": "execute_result"
    }
   ],
   "source": [
    "fashion_feature.shape, fashion_target.shape"
   ],
   "metadata": {
    "collapsed": false,
    "ExecuteTime": {
     "end_time": "2024-03-14T12:44:43.370934100Z",
     "start_time": "2024-03-14T12:44:43.338957600Z"
    }
   },
   "id": "1b81e64ab0599743",
   "execution_count": 6
  },
  {
   "cell_type": "code",
   "outputs": [
    {
     "data": {
      "text/plain": "(dtype('int64'), dtype('O'))"
     },
     "execution_count": 7,
     "metadata": {},
     "output_type": "execute_result"
    }
   ],
   "source": [
    "fashion_feature.dtype, fashion_target.dtype"
   ],
   "metadata": {
    "collapsed": false,
    "ExecuteTime": {
     "end_time": "2024-03-14T12:44:43.420288500Z",
     "start_time": "2024-03-14T12:44:43.351757700Z"
    }
   },
   "id": "5f2125a415221261",
   "execution_count": 7
  },
  {
   "cell_type": "code",
   "outputs": [],
   "source": [
    "unique_values = np.unique(fashion_feature)"
   ],
   "metadata": {
    "collapsed": false,
    "ExecuteTime": {
     "end_time": "2024-03-14T12:44:45.092953500Z",
     "start_time": "2024-03-14T12:44:43.367025200Z"
    }
   },
   "id": "7f923af2fb168324",
   "execution_count": 8
  },
  {
   "cell_type": "code",
   "outputs": [
    {
     "data": {
      "text/plain": "array([  0,   1,   2,   3,   4,   5,   6,   7,   8,   9,  10,  11,  12,\n        13,  14,  15,  16,  17,  18,  19,  20,  21,  22,  23,  24,  25,\n        26,  27,  28,  29,  30,  31,  32,  33,  34,  35,  36,  37,  38,\n        39,  40,  41,  42,  43,  44,  45,  46,  47,  48,  49,  50,  51,\n        52,  53,  54,  55,  56,  57,  58,  59,  60,  61,  62,  63,  64,\n        65,  66,  67,  68,  69,  70,  71,  72,  73,  74,  75,  76,  77,\n        78,  79,  80,  81,  82,  83,  84,  85,  86,  87,  88,  89,  90,\n        91,  92,  93,  94,  95,  96,  97,  98,  99, 100, 101, 102, 103,\n       104, 105, 106, 107, 108, 109, 110, 111, 112, 113, 114, 115, 116,\n       117, 118, 119, 120, 121, 122, 123, 124, 125, 126, 127, 128, 129,\n       130, 131, 132, 133, 134, 135, 136, 137, 138, 139, 140, 141, 142,\n       143, 144, 145, 146, 147, 148, 149, 150, 151, 152, 153, 154, 155,\n       156, 157, 158, 159, 160, 161, 162, 163, 164, 165, 166, 167, 168,\n       169, 170, 171, 172, 173, 174, 175, 176, 177, 178, 179, 180, 181,\n       182, 183, 184, 185, 186, 187, 188, 189, 190, 191, 192, 193, 194,\n       195, 196, 197, 198, 199, 200, 201, 202, 203, 204, 205, 206, 207,\n       208, 209, 210, 211, 212, 213, 214, 215, 216, 217, 218, 219, 220,\n       221, 222, 223, 224, 225, 226, 227, 228, 229, 230, 231, 232, 233,\n       234, 235, 236, 237, 238, 239, 240, 241, 242, 243, 244, 245, 246,\n       247, 248, 249, 250, 251, 252, 253, 254, 255], dtype=int64)"
     },
     "execution_count": 9,
     "metadata": {},
     "output_type": "execute_result"
    }
   ],
   "source": [
    "unique_values"
   ],
   "metadata": {
    "collapsed": false,
    "ExecuteTime": {
     "end_time": "2024-03-14T12:44:45.114528900Z",
     "start_time": "2024-03-14T12:44:45.096274300Z"
    }
   },
   "id": "3f9c10290f0cd117",
   "execution_count": 9
  },
  {
   "cell_type": "code",
   "outputs": [],
   "source": [
    "# 고유한 값들과 각 값의 등장 횟수 얻기\n",
    "unique_values, counts = np.unique(fashion_target, return_counts=True)"
   ],
   "metadata": {
    "collapsed": false,
    "ExecuteTime": {
     "end_time": "2024-03-14T12:44:45.155696200Z",
     "start_time": "2024-03-14T12:44:45.112397900Z"
    }
   },
   "id": "93a1621400988477",
   "execution_count": 10
  },
  {
   "cell_type": "code",
   "outputs": [
    {
     "data": {
      "text/plain": "array(['0', '1', '2', '3', '4', '5', '6', '7', '8', '9'], dtype=object)"
     },
     "execution_count": 11,
     "metadata": {},
     "output_type": "execute_result"
    }
   ],
   "source": [
    "# target 고유값\n",
    "unique_values"
   ],
   "metadata": {
    "collapsed": false,
    "ExecuteTime": {
     "end_time": "2024-03-14T12:44:45.180805400Z",
     "start_time": "2024-03-14T12:44:45.158644600Z"
    }
   },
   "id": "7164fb9c5e736dce",
   "execution_count": 11
  },
  {
   "cell_type": "markdown",
   "source": [
    "(2) 데이터 전처리"
   ],
   "metadata": {
    "collapsed": false
   },
   "id": "a46ef87f3914e539"
  },
  {
   "cell_type": "code",
   "outputs": [],
   "source": [
    "fashion_feature = fashion_feature / 255.    # 스케일링"
   ],
   "metadata": {
    "collapsed": false,
    "ExecuteTime": {
     "end_time": "2024-03-14T12:44:45.295296900Z",
     "start_time": "2024-03-14T12:44:45.172967300Z"
    }
   },
   "id": "d56fe90a1c84e8ee",
   "execution_count": 12
  },
  {
   "cell_type": "code",
   "outputs": [
    {
     "data": {
      "text/plain": "array([[0., 0., 0., ..., 0., 0., 0.],\n       [0., 0., 0., ..., 0., 0., 0.],\n       [0., 0., 0., ..., 0., 0., 0.]])"
     },
     "execution_count": 13,
     "metadata": {},
     "output_type": "execute_result"
    }
   ],
   "source": [
    "fashion_feature[:3]"
   ],
   "metadata": {
    "collapsed": false,
    "ExecuteTime": {
     "end_time": "2024-03-14T12:44:45.315986500Z",
     "start_time": "2024-03-14T12:44:45.298498300Z"
    }
   },
   "id": "7a734536374e3ef8",
   "execution_count": 13
  },
  {
   "cell_type": "code",
   "outputs": [],
   "source": [
    "from sklearn.preprocessing import OneHotEncoder"
   ],
   "metadata": {
    "collapsed": false,
    "ExecuteTime": {
     "end_time": "2024-03-14T12:44:45.334762600Z",
     "start_time": "2024-03-14T12:44:45.312719700Z"
    }
   },
   "id": "59e8666f2a477c88",
   "execution_count": 14
  },
  {
   "cell_type": "code",
   "outputs": [
    {
     "data": {
      "text/plain": "[array(['0', '1', '2', '3', '4', '5', '6', '7', '8', '9'], dtype=object)]"
     },
     "execution_count": 15,
     "metadata": {},
     "output_type": "execute_result"
    }
   ],
   "source": [
    "ohEncoder = OneHotEncoder(sparse_output=False)   # sparse_output=False 해줘야 transform 반환값이 ndarray (아니면 scipy.sparse._csr.csr_matrix)\n",
    "ohEncoder.fit(fashion_target.reshape(-1, 1))    # 2D를 넘겨야 함 (기본적으로 여러 개의 컬럼을 기대함)\n",
    "ohEncoder.categories_"
   ],
   "metadata": {
    "collapsed": false,
    "ExecuteTime": {
     "end_time": "2024-03-14T12:44:45.350134700Z",
     "start_time": "2024-03-14T12:44:45.328346200Z"
    }
   },
   "id": "80c847ecf3f31df",
   "execution_count": 15
  },
  {
   "cell_type": "code",
   "outputs": [],
   "source": [
    "norm_target = ohEncoder.transform(fashion_target.reshape(-1, 1))    # One-Hot-Encoding 적용한 y값"
   ],
   "metadata": {
    "collapsed": false,
    "ExecuteTime": {
     "end_time": "2024-03-14T12:44:45.378745900Z",
     "start_time": "2024-03-14T12:44:45.354585200Z"
    }
   },
   "id": "8511b0c0cb1c9656",
   "execution_count": 16
  },
  {
   "cell_type": "code",
   "outputs": [
    {
     "data": {
      "text/plain": "(numpy.ndarray, (70000, 10))"
     },
     "execution_count": 17,
     "metadata": {},
     "output_type": "execute_result"
    }
   ],
   "source": [
    "type(norm_target), norm_target.shape"
   ],
   "metadata": {
    "collapsed": false,
    "ExecuteTime": {
     "end_time": "2024-03-14T12:44:45.415950200Z",
     "start_time": "2024-03-14T12:44:45.373921900Z"
    }
   },
   "id": "57ea921c2a2c080e",
   "execution_count": 17
  },
  {
   "cell_type": "code",
   "outputs": [],
   "source": [
    "# 훈련용, 테스트용 데이터 분리\n",
    "x_train_arr = fashion_feature[:60000]\n",
    "x_test_arr = fashion_feature[60000:]\n",
    "\n",
    "y_train_arr = norm_target[:60000]\n",
    "y_test_arr = norm_target[60000:]"
   ],
   "metadata": {
    "collapsed": false,
    "ExecuteTime": {
     "end_time": "2024-03-14T12:44:45.417047900Z",
     "start_time": "2024-03-14T12:44:45.393049500Z"
    }
   },
   "id": "baa0d443e9f29bd8",
   "execution_count": 18
  },
  {
   "cell_type": "code",
   "outputs": [
    {
     "data": {
      "text/plain": "((60000, 784), (60000, 10))"
     },
     "execution_count": 19,
     "metadata": {},
     "output_type": "execute_result"
    }
   ],
   "source": [
    "x_train_arr.shape, y_train_arr.shape"
   ],
   "metadata": {
    "collapsed": false,
    "ExecuteTime": {
     "end_time": "2024-03-14T12:44:45.443642900Z",
     "start_time": "2024-03-14T12:44:45.405345400Z"
    }
   },
   "id": "9c4a2c4f1efcf092",
   "execution_count": 19
  },
  {
   "cell_type": "code",
   "outputs": [
    {
     "data": {
      "text/plain": "(dtype('float64'), dtype('float64'))"
     },
     "execution_count": 20,
     "metadata": {},
     "output_type": "execute_result"
    }
   ],
   "source": [
    "x_train_arr.dtype, y_train_arr.dtype"
   ],
   "metadata": {
    "collapsed": false,
    "ExecuteTime": {
     "end_time": "2024-03-14T12:44:45.445975100Z",
     "start_time": "2024-03-14T12:44:45.421474100Z"
    }
   },
   "id": "9c5aec32912ae045",
   "execution_count": 20
  },
  {
   "cell_type": "code",
   "outputs": [],
   "source": [
    "import torch\n",
    "import torch.nn as nn\n",
    "import torch.optim as optim\n",
    "import torch.nn.functional as F"
   ],
   "metadata": {
    "collapsed": false,
    "ExecuteTime": {
     "end_time": "2024-03-14T12:44:47.363443700Z",
     "start_time": "2024-03-14T12:44:45.437027200Z"
    }
   },
   "id": "7f27d17fa73f075d",
   "execution_count": 21
  },
  {
   "cell_type": "code",
   "outputs": [
    {
     "data": {
      "text/plain": "<torch._C.Generator at 0x1fdc045e630>"
     },
     "execution_count": 22,
     "metadata": {},
     "output_type": "execute_result"
    }
   ],
   "source": [
    "torch.manual_seed(1)"
   ],
   "metadata": {
    "collapsed": false,
    "ExecuteTime": {
     "end_time": "2024-03-14T12:44:47.382633900Z",
     "start_time": "2024-03-14T12:44:47.354878900Z"
    }
   },
   "id": "1397429980a7d4bc",
   "execution_count": 22
  },
  {
   "cell_type": "code",
   "outputs": [],
   "source": [
    "x_train = torch.FloatTensor(x_train_arr)\n",
    "x_test = torch.FloatTensor(x_test_arr)\n",
    "\n",
    "y_train = torch.FloatTensor(y_train_arr)\n",
    "y_test = torch.FloatTensor(y_test_arr)"
   ],
   "metadata": {
    "collapsed": false,
    "ExecuteTime": {
     "end_time": "2024-03-14T12:44:47.425104500Z",
     "start_time": "2024-03-14T12:44:47.369741600Z"
    }
   },
   "id": "e988ddde6af45b7e",
   "execution_count": 23
  },
  {
   "cell_type": "code",
   "outputs": [
    {
     "data": {
      "text/plain": "int"
     },
     "execution_count": 24,
     "metadata": {},
     "output_type": "execute_result"
    }
   ],
   "source": [
    "type(x_train.shape[0])"
   ],
   "metadata": {
    "collapsed": false,
    "ExecuteTime": {
     "end_time": "2024-03-14T12:44:47.438967800Z",
     "start_time": "2024-03-14T12:44:47.417741400Z"
    }
   },
   "id": "4dea43343e5d1be0",
   "execution_count": 24
  },
  {
   "cell_type": "code",
   "outputs": [
    {
     "data": {
      "text/plain": "Linear(in_features=784, out_features=10, bias=True)"
     },
     "execution_count": 25,
     "metadata": {},
     "output_type": "execute_result"
    }
   ],
   "source": [
    "# 학습 인스턴스 생성\n",
    "in_, out_ = x_train.shape[1], y_train.shape[1]\n",
    "model = nn.Linear(in_, out_)\n",
    "model"
   ],
   "metadata": {
    "collapsed": false,
    "ExecuteTime": {
     "end_time": "2024-03-14T12:44:47.471000800Z",
     "start_time": "2024-03-14T12:44:47.432628100Z"
    }
   },
   "id": "abf2d5a4aa19a82f",
   "execution_count": 25
  },
  {
   "cell_type": "code",
   "outputs": [],
   "source": [
    "# 최적화 인스턴스 생성\n",
    "optimizer = optim.Adam(model.parameters(), lr=1e-1)"
   ],
   "metadata": {
    "collapsed": false,
    "ExecuteTime": {
     "end_time": "2024-03-14T12:44:48.514818100Z",
     "start_time": "2024-03-14T12:44:47.448657200Z"
    }
   },
   "id": "194b54ce88b9027b",
   "execution_count": 26
  },
  {
   "cell_type": "code",
   "outputs": [],
   "source": [
    "# 학습 횟수\n",
    "EPOCHS = 100"
   ],
   "metadata": {
    "collapsed": false,
    "ExecuteTime": {
     "end_time": "2024-03-14T12:44:48.525400300Z",
     "start_time": "2024-03-14T12:44:48.512492Z"
    }
   },
   "id": "1936d314f98d49ff",
   "execution_count": 27
  },
  {
   "cell_type": "code",
   "outputs": [],
   "source": [
    "loss_list, accuracy_list = [], []\n",
    "\n",
    "for epoch in range(EPOCHS):\n",
    "    # 학습\n",
    "    y_pred = model(x_train)         # y_pred : torch.Size([60000, 10])\n",
    "    \n",
    "    # 오차(손실) 계산\n",
    "    loss = F.cross_entropy(y_pred, y_train)     # y_train : float 여야 함\n",
    "    loss_list.append(loss)          # loss : torch.Tensor\n",
    "\n",
    "    # W, b 업데이트\n",
    "    optimizer.zero_grad()           # 기울기 초기화\n",
    "    loss.backward()                 # 오차 역전파 계산\n",
    "    optimizer.step()                # 새로운 값으로 W, b 업데이트"
   ],
   "metadata": {
    "collapsed": false,
    "ExecuteTime": {
     "end_time": "2024-03-14T12:44:55.472376300Z",
     "start_time": "2024-03-14T12:44:48.528053500Z"
    }
   },
   "id": "5d2e1117e94df96b",
   "execution_count": 28
  },
  {
   "cell_type": "code",
   "outputs": [
    {
     "data": {
      "text/plain": "[tensor(2.4191, grad_fn=<DivBackward1>),\n tensor(9.7125, grad_fn=<DivBackward1>),\n tensor(11.2556, grad_fn=<DivBackward1>),\n tensor(7.2877, grad_fn=<DivBackward1>),\n tensor(5.3443, grad_fn=<DivBackward1>),\n tensor(9.1352, grad_fn=<DivBackward1>),\n tensor(5.0014, grad_fn=<DivBackward1>),\n tensor(6.1255, grad_fn=<DivBackward1>),\n tensor(4.2725, grad_fn=<DivBackward1>),\n tensor(5.3381, grad_fn=<DivBackward1>),\n tensor(4.8708, grad_fn=<DivBackward1>),\n tensor(3.6831, grad_fn=<DivBackward1>),\n tensor(3.2103, grad_fn=<DivBackward1>),\n tensor(3.2966, grad_fn=<DivBackward1>),\n tensor(3.9925, grad_fn=<DivBackward1>),\n tensor(3.6426, grad_fn=<DivBackward1>),\n tensor(2.5486, grad_fn=<DivBackward1>),\n tensor(2.2693, grad_fn=<DivBackward1>),\n tensor(2.5763, grad_fn=<DivBackward1>),\n tensor(2.7698, grad_fn=<DivBackward1>),\n tensor(2.5545, grad_fn=<DivBackward1>),\n tensor(2.1910, grad_fn=<DivBackward1>),\n tensor(2.2293, grad_fn=<DivBackward1>),\n tensor(2.4382, grad_fn=<DivBackward1>),\n tensor(2.2021, grad_fn=<DivBackward1>),\n tensor(1.8315, grad_fn=<DivBackward1>),\n tensor(1.8028, grad_fn=<DivBackward1>),\n tensor(1.8207, grad_fn=<DivBackward1>),\n tensor(1.7761, grad_fn=<DivBackward1>),\n tensor(1.7554, grad_fn=<DivBackward1>),\n tensor(1.7035, grad_fn=<DivBackward1>),\n tensor(1.7076, grad_fn=<DivBackward1>),\n tensor(1.5923, grad_fn=<DivBackward1>),\n tensor(1.3849, grad_fn=<DivBackward1>),\n tensor(1.3696, grad_fn=<DivBackward1>),\n tensor(1.4312, grad_fn=<DivBackward1>),\n tensor(1.3744, grad_fn=<DivBackward1>),\n tensor(1.2931, grad_fn=<DivBackward1>),\n tensor(1.3475, grad_fn=<DivBackward1>),\n tensor(1.2518, grad_fn=<DivBackward1>),\n tensor(1.1331, grad_fn=<DivBackward1>),\n tensor(1.1680, grad_fn=<DivBackward1>),\n tensor(1.1394, grad_fn=<DivBackward1>),\n tensor(1.0859, grad_fn=<DivBackward1>),\n tensor(1.1253, grad_fn=<DivBackward1>),\n tensor(1.0459, grad_fn=<DivBackward1>),\n tensor(1.0030, grad_fn=<DivBackward1>),\n tensor(0.9938, grad_fn=<DivBackward1>),\n tensor(0.9407, grad_fn=<DivBackward1>),\n tensor(0.9450, grad_fn=<DivBackward1>),\n tensor(0.9247, grad_fn=<DivBackward1>),\n tensor(0.8903, grad_fn=<DivBackward1>),\n tensor(0.8947, grad_fn=<DivBackward1>),\n tensor(0.8582, grad_fn=<DivBackward1>),\n tensor(0.8439, grad_fn=<DivBackward1>),\n tensor(0.8209, grad_fn=<DivBackward1>),\n tensor(0.8013, grad_fn=<DivBackward1>),\n tensor(0.8004, grad_fn=<DivBackward1>),\n tensor(0.7828, grad_fn=<DivBackward1>),\n tensor(0.7722, grad_fn=<DivBackward1>),\n tensor(0.7472, grad_fn=<DivBackward1>),\n tensor(0.7394, grad_fn=<DivBackward1>),\n tensor(0.7301, grad_fn=<DivBackward1>),\n tensor(0.7161, grad_fn=<DivBackward1>),\n tensor(0.6990, grad_fn=<DivBackward1>),\n tensor(0.6821, grad_fn=<DivBackward1>),\n tensor(0.6744, grad_fn=<DivBackward1>),\n tensor(0.6649, grad_fn=<DivBackward1>),\n tensor(0.6518, grad_fn=<DivBackward1>),\n tensor(0.6345, grad_fn=<DivBackward1>),\n tensor(0.6268, grad_fn=<DivBackward1>),\n tensor(0.6171, grad_fn=<DivBackward1>),\n tensor(0.6069, grad_fn=<DivBackward1>),\n tensor(0.5946, grad_fn=<DivBackward1>),\n tensor(0.5844, grad_fn=<DivBackward1>),\n tensor(0.5778, grad_fn=<DivBackward1>),\n tensor(0.5673, grad_fn=<DivBackward1>),\n tensor(0.5602, grad_fn=<DivBackward1>),\n tensor(0.5481, grad_fn=<DivBackward1>),\n tensor(0.5456, grad_fn=<DivBackward1>),\n tensor(0.5357, grad_fn=<DivBackward1>),\n tensor(0.5310, grad_fn=<DivBackward1>),\n tensor(0.5227, grad_fn=<DivBackward1>),\n tensor(0.5171, grad_fn=<DivBackward1>),\n tensor(0.5136, grad_fn=<DivBackward1>),\n tensor(0.5055, grad_fn=<DivBackward1>),\n tensor(0.5015, grad_fn=<DivBackward1>),\n tensor(0.4974, grad_fn=<DivBackward1>),\n tensor(0.4914, grad_fn=<DivBackward1>),\n tensor(0.4879, grad_fn=<DivBackward1>),\n tensor(0.4836, grad_fn=<DivBackward1>),\n tensor(0.4794, grad_fn=<DivBackward1>),\n tensor(0.4768, grad_fn=<DivBackward1>),\n tensor(0.4726, grad_fn=<DivBackward1>),\n tensor(0.4689, grad_fn=<DivBackward1>),\n tensor(0.4667, grad_fn=<DivBackward1>),\n tensor(0.4635, grad_fn=<DivBackward1>),\n tensor(0.4601, grad_fn=<DivBackward1>),\n tensor(0.4578, grad_fn=<DivBackward1>),\n tensor(0.4554, grad_fn=<DivBackward1>)]"
     },
     "execution_count": 29,
     "metadata": {},
     "output_type": "execute_result"
    }
   ],
   "source": [
    "loss_list"
   ],
   "metadata": {
    "collapsed": false,
    "ExecuteTime": {
     "end_time": "2024-03-14T12:44:55.529689500Z",
     "start_time": "2024-03-14T12:44:55.474988Z"
    }
   },
   "id": "74e1f3aae0d93ab0",
   "execution_count": 29
  },
  {
   "cell_type": "code",
   "outputs": [],
   "source": [],
   "metadata": {
    "collapsed": false,
    "ExecuteTime": {
     "end_time": "2024-03-14T12:44:55.530803700Z",
     "start_time": "2024-03-14T12:44:55.504834700Z"
    }
   },
   "id": "8887de5c9338684",
   "execution_count": 29
  }
 ],
 "metadata": {
  "kernelspec": {
   "display_name": "Python 3",
   "language": "python",
   "name": "python3"
  },
  "language_info": {
   "codemirror_mode": {
    "name": "ipython",
    "version": 2
   },
   "file_extension": ".py",
   "mimetype": "text/x-python",
   "name": "python",
   "nbconvert_exporter": "python",
   "pygments_lexer": "ipython2",
   "version": "2.7.6"
  }
 },
 "nbformat": 4,
 "nbformat_minor": 5
}
